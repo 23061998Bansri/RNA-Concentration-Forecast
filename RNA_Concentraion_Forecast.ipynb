{
  "nbformat": 4,
  "nbformat_minor": 0,
  "metadata": {
    "colab": {
      "provenance": [],
      "gpuType": "T4"
    },
    "kernelspec": {
      "name": "python3",
      "display_name": "Python 3"
    },
    "language_info": {
      "name": "python"
    },
    "accelerator": "GPU"
  },
  "cells": [
    {
      "cell_type": "markdown",
      "source": [
        "# Importing time series data with pandas"
      ],
      "metadata": {
        "id": "8FqoVRcOqdMH"
      }
    },
    {
      "cell_type": "code",
      "execution_count": 4,
      "metadata": {
        "colab": {
          "base_uri": "https://localhost:8080/"
        },
        "id": "UfpVwVg2tt8e",
        "outputId": "1027a116-fcaa-4c40-f483-c4637b8210a3"
      },
      "outputs": [
        {
          "output_type": "stream",
          "name": "stdout",
          "text": [
            "/content\n"
          ]
        }
      ],
      "source": [
        "\n",
        "import pandas as pd\n",
        "from pandas import DataFrame\n",
        "import numpy as np\n",
        "import matplotlib.pyplot as plt\n",
        "import os\n",
        "print(os.getcwd())"
      ]
    },
    {
      "cell_type": "markdown",
      "source": [
        "#Making Data Visualization\n"
      ],
      "metadata": {
        "id": "JU2CFCibVeaM"
      }
    },
    {
      "cell_type": "code",
      "source": [
        "# read raw data\n",
        "df= pd.read_csv('/content/RNA_Concentartion.csv', sep=';',header = 0)#, names=[\"date\", \"sample\", \"auto. pathlength\", \"analytic. wavelength\", \"baseline corr.\", \"260 nm\", \"555 nm\", \"646 nm\", \"230 nm\", \"280 nm\"]\n",
        "df"
      ],
      "metadata": {
        "colab": {
          "base_uri": "https://localhost:8080/",
          "height": 802
        },
        "id": "98tDBQOxuYCa",
        "outputId": "4c69fb46-535e-4b6f-c535-99cd7dbe5ae7"
      },
      "execution_count": 40,
      "outputs": [
        {
          "output_type": "execute_result",
          "data": {
            "text/plain": [
              "         Date  Samplename   Nucleic Acid(ng/uL)  A260/A280  A260/A230  \\\n",
              "0   15/05/2023       RNA 1              242.049      2.164      2.565   \n",
              "1   16/05/2023       RNA 2              222.481      2.156      2.560   \n",
              "2   17/05/2023       RNA 3              214.449      2.153      2.560   \n",
              "3   18/05/2023       RNA 4              217.025      2.151      2.557   \n",
              "4   19/05/2023       RNA 5              242.049      2.164      2.565   \n",
              "5   20/05/2023       RNA 6              222.481      2.156      2.560   \n",
              "6   21/05/2023       RNA 7              214.449      2.153      2.560   \n",
              "7   22/05/2023       RNA 8              217.025      2.151      2.557   \n",
              "8   23/05/2023       RNA 9              242.049      2.164      2.565   \n",
              "9   24/05/2023      RNA 10              222.481      2.156      2.560   \n",
              "10  25/05/2023      RNA 11              214.449      2.153      2.560   \n",
              "11  26/05/2023      RNA 12              217.025      2.151      2.557   \n",
              "12  27/05/2023      RNA 13              242.049      2.164      2.565   \n",
              "13  28/05/2023      RNA 14              222.481      2.156      2.560   \n",
              "14  29/05/2023      RNA 15              214.449      2.153      2.560   \n",
              "15  30/05/2023      RNA 16              217.025      2.151      2.557   \n",
              "16  31/05/2023      RNA 17              242.049      2.164      2.565   \n",
              "17  01/06/2023      RNA 18              222.481      2.156      2.560   \n",
              "18  02/06/2023      RNA 19              217.025      2.151      2.557   \n",
              "19  03/06/2023      RNA 20              242.049      2.164      2.565   \n",
              "20  04/06/2023      RNA 21              222.481      2.156      2.560   \n",
              "21  05/06/2023      RNA 22              217.025      2.151      2.557   \n",
              "22  06/06/2023      RNA 23              242.049      2.164      2.565   \n",
              "23  07/06/2023      RNA 24              222.481      2.156      2.560   \n",
              "\n",
              "       A260  Nucleic Acid Facto  Baseline Correction (nm)  Baseline Absorbance  \n",
              "0   523.698                40.0                       340               -0.060  \n",
              "1   479.660                40.0                       340               -0.684  \n",
              "2   461.793                40.0                       340               -0.413  \n",
              "3   466.748                40.0                       340               -0.266  \n",
              "4   523.698                40.0                       340               -0.060  \n",
              "5   479.660                40.0                       340               -0.684  \n",
              "6   461.793                40.0                       340               -0.413  \n",
              "7   466.748                40.0                       340               -0.266  \n",
              "8   523.698                40.0                       340               -0.060  \n",
              "9   479.660                40.0                       340               -0.684  \n",
              "10  461.793                40.0                       340               -0.413  \n",
              "11  466.748                40.0                       340               -0.266  \n",
              "12  523.698                40.0                       340               -0.060  \n",
              "13  479.660                40.0                       340               -0.684  \n",
              "14  461.793                40.0                       340               -0.413  \n",
              "15  466.748                40.0                       340               -0.266  \n",
              "16  523.698                40.0                       340               -0.060  \n",
              "17  479.660                40.0                       340               -0.684  \n",
              "18  466.748                40.0                       340               -0.266  \n",
              "19  523.698                40.0                       340               -0.060  \n",
              "20  479.660                40.0                       340               -0.684  \n",
              "21  466.748                40.0                       340               -0.266  \n",
              "22  523.698                40.0                       340               -0.060  \n",
              "23  479.660                40.0                       340               -0.684  "
            ],
            "text/html": [
              "\n",
              "  <div id=\"df-4df8041d-3e14-4d37-a0e7-9074dfd7a271\" class=\"colab-df-container\">\n",
              "    <div>\n",
              "<style scoped>\n",
              "    .dataframe tbody tr th:only-of-type {\n",
              "        vertical-align: middle;\n",
              "    }\n",
              "\n",
              "    .dataframe tbody tr th {\n",
              "        vertical-align: top;\n",
              "    }\n",
              "\n",
              "    .dataframe thead th {\n",
              "        text-align: right;\n",
              "    }\n",
              "</style>\n",
              "<table border=\"1\" class=\"dataframe\">\n",
              "  <thead>\n",
              "    <tr style=\"text-align: right;\">\n",
              "      <th></th>\n",
              "      <th>Date</th>\n",
              "      <th>Samplename</th>\n",
              "      <th>Nucleic Acid(ng/uL)</th>\n",
              "      <th>A260/A280</th>\n",
              "      <th>A260/A230</th>\n",
              "      <th>A260</th>\n",
              "      <th>Nucleic Acid Facto</th>\n",
              "      <th>Baseline Correction (nm)</th>\n",
              "      <th>Baseline Absorbance</th>\n",
              "    </tr>\n",
              "  </thead>\n",
              "  <tbody>\n",
              "    <tr>\n",
              "      <th>0</th>\n",
              "      <td>15/05/2023</td>\n",
              "      <td>RNA 1</td>\n",
              "      <td>242.049</td>\n",
              "      <td>2.164</td>\n",
              "      <td>2.565</td>\n",
              "      <td>523.698</td>\n",
              "      <td>40.0</td>\n",
              "      <td>340</td>\n",
              "      <td>-0.060</td>\n",
              "    </tr>\n",
              "    <tr>\n",
              "      <th>1</th>\n",
              "      <td>16/05/2023</td>\n",
              "      <td>RNA 2</td>\n",
              "      <td>222.481</td>\n",
              "      <td>2.156</td>\n",
              "      <td>2.560</td>\n",
              "      <td>479.660</td>\n",
              "      <td>40.0</td>\n",
              "      <td>340</td>\n",
              "      <td>-0.684</td>\n",
              "    </tr>\n",
              "    <tr>\n",
              "      <th>2</th>\n",
              "      <td>17/05/2023</td>\n",
              "      <td>RNA 3</td>\n",
              "      <td>214.449</td>\n",
              "      <td>2.153</td>\n",
              "      <td>2.560</td>\n",
              "      <td>461.793</td>\n",
              "      <td>40.0</td>\n",
              "      <td>340</td>\n",
              "      <td>-0.413</td>\n",
              "    </tr>\n",
              "    <tr>\n",
              "      <th>3</th>\n",
              "      <td>18/05/2023</td>\n",
              "      <td>RNA 4</td>\n",
              "      <td>217.025</td>\n",
              "      <td>2.151</td>\n",
              "      <td>2.557</td>\n",
              "      <td>466.748</td>\n",
              "      <td>40.0</td>\n",
              "      <td>340</td>\n",
              "      <td>-0.266</td>\n",
              "    </tr>\n",
              "    <tr>\n",
              "      <th>4</th>\n",
              "      <td>19/05/2023</td>\n",
              "      <td>RNA 5</td>\n",
              "      <td>242.049</td>\n",
              "      <td>2.164</td>\n",
              "      <td>2.565</td>\n",
              "      <td>523.698</td>\n",
              "      <td>40.0</td>\n",
              "      <td>340</td>\n",
              "      <td>-0.060</td>\n",
              "    </tr>\n",
              "    <tr>\n",
              "      <th>5</th>\n",
              "      <td>20/05/2023</td>\n",
              "      <td>RNA 6</td>\n",
              "      <td>222.481</td>\n",
              "      <td>2.156</td>\n",
              "      <td>2.560</td>\n",
              "      <td>479.660</td>\n",
              "      <td>40.0</td>\n",
              "      <td>340</td>\n",
              "      <td>-0.684</td>\n",
              "    </tr>\n",
              "    <tr>\n",
              "      <th>6</th>\n",
              "      <td>21/05/2023</td>\n",
              "      <td>RNA 7</td>\n",
              "      <td>214.449</td>\n",
              "      <td>2.153</td>\n",
              "      <td>2.560</td>\n",
              "      <td>461.793</td>\n",
              "      <td>40.0</td>\n",
              "      <td>340</td>\n",
              "      <td>-0.413</td>\n",
              "    </tr>\n",
              "    <tr>\n",
              "      <th>7</th>\n",
              "      <td>22/05/2023</td>\n",
              "      <td>RNA 8</td>\n",
              "      <td>217.025</td>\n",
              "      <td>2.151</td>\n",
              "      <td>2.557</td>\n",
              "      <td>466.748</td>\n",
              "      <td>40.0</td>\n",
              "      <td>340</td>\n",
              "      <td>-0.266</td>\n",
              "    </tr>\n",
              "    <tr>\n",
              "      <th>8</th>\n",
              "      <td>23/05/2023</td>\n",
              "      <td>RNA 9</td>\n",
              "      <td>242.049</td>\n",
              "      <td>2.164</td>\n",
              "      <td>2.565</td>\n",
              "      <td>523.698</td>\n",
              "      <td>40.0</td>\n",
              "      <td>340</td>\n",
              "      <td>-0.060</td>\n",
              "    </tr>\n",
              "    <tr>\n",
              "      <th>9</th>\n",
              "      <td>24/05/2023</td>\n",
              "      <td>RNA 10</td>\n",
              "      <td>222.481</td>\n",
              "      <td>2.156</td>\n",
              "      <td>2.560</td>\n",
              "      <td>479.660</td>\n",
              "      <td>40.0</td>\n",
              "      <td>340</td>\n",
              "      <td>-0.684</td>\n",
              "    </tr>\n",
              "    <tr>\n",
              "      <th>10</th>\n",
              "      <td>25/05/2023</td>\n",
              "      <td>RNA 11</td>\n",
              "      <td>214.449</td>\n",
              "      <td>2.153</td>\n",
              "      <td>2.560</td>\n",
              "      <td>461.793</td>\n",
              "      <td>40.0</td>\n",
              "      <td>340</td>\n",
              "      <td>-0.413</td>\n",
              "    </tr>\n",
              "    <tr>\n",
              "      <th>11</th>\n",
              "      <td>26/05/2023</td>\n",
              "      <td>RNA 12</td>\n",
              "      <td>217.025</td>\n",
              "      <td>2.151</td>\n",
              "      <td>2.557</td>\n",
              "      <td>466.748</td>\n",
              "      <td>40.0</td>\n",
              "      <td>340</td>\n",
              "      <td>-0.266</td>\n",
              "    </tr>\n",
              "    <tr>\n",
              "      <th>12</th>\n",
              "      <td>27/05/2023</td>\n",
              "      <td>RNA 13</td>\n",
              "      <td>242.049</td>\n",
              "      <td>2.164</td>\n",
              "      <td>2.565</td>\n",
              "      <td>523.698</td>\n",
              "      <td>40.0</td>\n",
              "      <td>340</td>\n",
              "      <td>-0.060</td>\n",
              "    </tr>\n",
              "    <tr>\n",
              "      <th>13</th>\n",
              "      <td>28/05/2023</td>\n",
              "      <td>RNA 14</td>\n",
              "      <td>222.481</td>\n",
              "      <td>2.156</td>\n",
              "      <td>2.560</td>\n",
              "      <td>479.660</td>\n",
              "      <td>40.0</td>\n",
              "      <td>340</td>\n",
              "      <td>-0.684</td>\n",
              "    </tr>\n",
              "    <tr>\n",
              "      <th>14</th>\n",
              "      <td>29/05/2023</td>\n",
              "      <td>RNA 15</td>\n",
              "      <td>214.449</td>\n",
              "      <td>2.153</td>\n",
              "      <td>2.560</td>\n",
              "      <td>461.793</td>\n",
              "      <td>40.0</td>\n",
              "      <td>340</td>\n",
              "      <td>-0.413</td>\n",
              "    </tr>\n",
              "    <tr>\n",
              "      <th>15</th>\n",
              "      <td>30/05/2023</td>\n",
              "      <td>RNA 16</td>\n",
              "      <td>217.025</td>\n",
              "      <td>2.151</td>\n",
              "      <td>2.557</td>\n",
              "      <td>466.748</td>\n",
              "      <td>40.0</td>\n",
              "      <td>340</td>\n",
              "      <td>-0.266</td>\n",
              "    </tr>\n",
              "    <tr>\n",
              "      <th>16</th>\n",
              "      <td>31/05/2023</td>\n",
              "      <td>RNA 17</td>\n",
              "      <td>242.049</td>\n",
              "      <td>2.164</td>\n",
              "      <td>2.565</td>\n",
              "      <td>523.698</td>\n",
              "      <td>40.0</td>\n",
              "      <td>340</td>\n",
              "      <td>-0.060</td>\n",
              "    </tr>\n",
              "    <tr>\n",
              "      <th>17</th>\n",
              "      <td>01/06/2023</td>\n",
              "      <td>RNA 18</td>\n",
              "      <td>222.481</td>\n",
              "      <td>2.156</td>\n",
              "      <td>2.560</td>\n",
              "      <td>479.660</td>\n",
              "      <td>40.0</td>\n",
              "      <td>340</td>\n",
              "      <td>-0.684</td>\n",
              "    </tr>\n",
              "    <tr>\n",
              "      <th>18</th>\n",
              "      <td>02/06/2023</td>\n",
              "      <td>RNA 19</td>\n",
              "      <td>217.025</td>\n",
              "      <td>2.151</td>\n",
              "      <td>2.557</td>\n",
              "      <td>466.748</td>\n",
              "      <td>40.0</td>\n",
              "      <td>340</td>\n",
              "      <td>-0.266</td>\n",
              "    </tr>\n",
              "    <tr>\n",
              "      <th>19</th>\n",
              "      <td>03/06/2023</td>\n",
              "      <td>RNA 20</td>\n",
              "      <td>242.049</td>\n",
              "      <td>2.164</td>\n",
              "      <td>2.565</td>\n",
              "      <td>523.698</td>\n",
              "      <td>40.0</td>\n",
              "      <td>340</td>\n",
              "      <td>-0.060</td>\n",
              "    </tr>\n",
              "    <tr>\n",
              "      <th>20</th>\n",
              "      <td>04/06/2023</td>\n",
              "      <td>RNA 21</td>\n",
              "      <td>222.481</td>\n",
              "      <td>2.156</td>\n",
              "      <td>2.560</td>\n",
              "      <td>479.660</td>\n",
              "      <td>40.0</td>\n",
              "      <td>340</td>\n",
              "      <td>-0.684</td>\n",
              "    </tr>\n",
              "    <tr>\n",
              "      <th>21</th>\n",
              "      <td>05/06/2023</td>\n",
              "      <td>RNA 22</td>\n",
              "      <td>217.025</td>\n",
              "      <td>2.151</td>\n",
              "      <td>2.557</td>\n",
              "      <td>466.748</td>\n",
              "      <td>40.0</td>\n",
              "      <td>340</td>\n",
              "      <td>-0.266</td>\n",
              "    </tr>\n",
              "    <tr>\n",
              "      <th>22</th>\n",
              "      <td>06/06/2023</td>\n",
              "      <td>RNA 23</td>\n",
              "      <td>242.049</td>\n",
              "      <td>2.164</td>\n",
              "      <td>2.565</td>\n",
              "      <td>523.698</td>\n",
              "      <td>40.0</td>\n",
              "      <td>340</td>\n",
              "      <td>-0.060</td>\n",
              "    </tr>\n",
              "    <tr>\n",
              "      <th>23</th>\n",
              "      <td>07/06/2023</td>\n",
              "      <td>RNA 24</td>\n",
              "      <td>222.481</td>\n",
              "      <td>2.156</td>\n",
              "      <td>2.560</td>\n",
              "      <td>479.660</td>\n",
              "      <td>40.0</td>\n",
              "      <td>340</td>\n",
              "      <td>-0.684</td>\n",
              "    </tr>\n",
              "  </tbody>\n",
              "</table>\n",
              "</div>\n",
              "    <div class=\"colab-df-buttons\">\n",
              "\n",
              "  <div class=\"colab-df-container\">\n",
              "    <button class=\"colab-df-convert\" onclick=\"convertToInteractive('df-4df8041d-3e14-4d37-a0e7-9074dfd7a271')\"\n",
              "            title=\"Convert this dataframe to an interactive table.\"\n",
              "            style=\"display:none;\">\n",
              "\n",
              "  <svg xmlns=\"http://www.w3.org/2000/svg\" height=\"24px\" viewBox=\"0 -960 960 960\">\n",
              "    <path d=\"M120-120v-720h720v720H120Zm60-500h600v-160H180v160Zm220 220h160v-160H400v160Zm0 220h160v-160H400v160ZM180-400h160v-160H180v160Zm440 0h160v-160H620v160ZM180-180h160v-160H180v160Zm440 0h160v-160H620v160Z\"/>\n",
              "  </svg>\n",
              "    </button>\n",
              "\n",
              "  <style>\n",
              "    .colab-df-container {\n",
              "      display:flex;\n",
              "      gap: 12px;\n",
              "    }\n",
              "\n",
              "    .colab-df-convert {\n",
              "      background-color: #E8F0FE;\n",
              "      border: none;\n",
              "      border-radius: 50%;\n",
              "      cursor: pointer;\n",
              "      display: none;\n",
              "      fill: #1967D2;\n",
              "      height: 32px;\n",
              "      padding: 0 0 0 0;\n",
              "      width: 32px;\n",
              "    }\n",
              "\n",
              "    .colab-df-convert:hover {\n",
              "      background-color: #E2EBFA;\n",
              "      box-shadow: 0px 1px 2px rgba(60, 64, 67, 0.3), 0px 1px 3px 1px rgba(60, 64, 67, 0.15);\n",
              "      fill: #174EA6;\n",
              "    }\n",
              "\n",
              "    .colab-df-buttons div {\n",
              "      margin-bottom: 4px;\n",
              "    }\n",
              "\n",
              "    [theme=dark] .colab-df-convert {\n",
              "      background-color: #3B4455;\n",
              "      fill: #D2E3FC;\n",
              "    }\n",
              "\n",
              "    [theme=dark] .colab-df-convert:hover {\n",
              "      background-color: #434B5C;\n",
              "      box-shadow: 0px 1px 3px 1px rgba(0, 0, 0, 0.15);\n",
              "      filter: drop-shadow(0px 1px 2px rgba(0, 0, 0, 0.3));\n",
              "      fill: #FFFFFF;\n",
              "    }\n",
              "  </style>\n",
              "\n",
              "    <script>\n",
              "      const buttonEl =\n",
              "        document.querySelector('#df-4df8041d-3e14-4d37-a0e7-9074dfd7a271 button.colab-df-convert');\n",
              "      buttonEl.style.display =\n",
              "        google.colab.kernel.accessAllowed ? 'block' : 'none';\n",
              "\n",
              "      async function convertToInteractive(key) {\n",
              "        const element = document.querySelector('#df-4df8041d-3e14-4d37-a0e7-9074dfd7a271');\n",
              "        const dataTable =\n",
              "          await google.colab.kernel.invokeFunction('convertToInteractive',\n",
              "                                                    [key], {});\n",
              "        if (!dataTable) return;\n",
              "\n",
              "        const docLinkHtml = 'Like what you see? Visit the ' +\n",
              "          '<a target=\"_blank\" href=https://colab.research.google.com/notebooks/data_table.ipynb>data table notebook</a>'\n",
              "          + ' to learn more about interactive tables.';\n",
              "        element.innerHTML = '';\n",
              "        dataTable['output_type'] = 'display_data';\n",
              "        await google.colab.output.renderOutput(dataTable, element);\n",
              "        const docLink = document.createElement('div');\n",
              "        docLink.innerHTML = docLinkHtml;\n",
              "        element.appendChild(docLink);\n",
              "      }\n",
              "    </script>\n",
              "  </div>\n",
              "\n",
              "\n",
              "<div id=\"df-a92f7c4e-6d09-4dcb-9744-a8de02792ae2\">\n",
              "  <button class=\"colab-df-quickchart\" onclick=\"quickchart('df-a92f7c4e-6d09-4dcb-9744-a8de02792ae2')\"\n",
              "            title=\"Suggest charts.\"\n",
              "            style=\"display:none;\">\n",
              "\n",
              "<svg xmlns=\"http://www.w3.org/2000/svg\" height=\"24px\"viewBox=\"0 0 24 24\"\n",
              "     width=\"24px\">\n",
              "    <g>\n",
              "        <path d=\"M19 3H5c-1.1 0-2 .9-2 2v14c0 1.1.9 2 2 2h14c1.1 0 2-.9 2-2V5c0-1.1-.9-2-2-2zM9 17H7v-7h2v7zm4 0h-2V7h2v10zm4 0h-2v-4h2v4z\"/>\n",
              "    </g>\n",
              "</svg>\n",
              "  </button>\n",
              "\n",
              "<style>\n",
              "  .colab-df-quickchart {\n",
              "    background-color: #E8F0FE;\n",
              "    border: none;\n",
              "    border-radius: 50%;\n",
              "    cursor: pointer;\n",
              "    display: none;\n",
              "    fill: #1967D2;\n",
              "    height: 32px;\n",
              "    padding: 0 0 0 0;\n",
              "    width: 32px;\n",
              "  }\n",
              "\n",
              "  .colab-df-quickchart:hover {\n",
              "    background-color: #E2EBFA;\n",
              "    box-shadow: 0px 1px 2px rgba(60, 64, 67, 0.3), 0px 1px 3px 1px rgba(60, 64, 67, 0.15);\n",
              "    fill: #174EA6;\n",
              "  }\n",
              "\n",
              "  [theme=dark] .colab-df-quickchart {\n",
              "    background-color: #3B4455;\n",
              "    fill: #D2E3FC;\n",
              "  }\n",
              "\n",
              "  [theme=dark] .colab-df-quickchart:hover {\n",
              "    background-color: #434B5C;\n",
              "    box-shadow: 0px 1px 3px 1px rgba(0, 0, 0, 0.15);\n",
              "    filter: drop-shadow(0px 1px 2px rgba(0, 0, 0, 0.3));\n",
              "    fill: #FFFFFF;\n",
              "  }\n",
              "</style>\n",
              "\n",
              "  <script>\n",
              "    async function quickchart(key) {\n",
              "      const charts = await google.colab.kernel.invokeFunction(\n",
              "          'suggestCharts', [key], {});\n",
              "    }\n",
              "    (() => {\n",
              "      let quickchartButtonEl =\n",
              "        document.querySelector('#df-a92f7c4e-6d09-4dcb-9744-a8de02792ae2 button');\n",
              "      quickchartButtonEl.style.display =\n",
              "        google.colab.kernel.accessAllowed ? 'block' : 'none';\n",
              "    })();\n",
              "  </script>\n",
              "</div>\n",
              "    </div>\n",
              "  </div>\n"
            ]
          },
          "metadata": {},
          "execution_count": 40
        }
      ]
    },
    {
      "cell_type": "code",
      "source": [
        "# Check for leading/trailing whitespaces in column names\n",
        "df.columns = df.columns.str.strip()"
      ],
      "metadata": {
        "id": "h9YNGN95ucsY"
      },
      "execution_count": 41,
      "outputs": []
    },
    {
      "cell_type": "code",
      "source": [
        "# Print the columns and first few rows of the DataFrame\n",
        "print(\"Columns:\", df.columns)\n",
        "print(df.head())"
      ],
      "metadata": {
        "colab": {
          "base_uri": "https://localhost:8080/"
        },
        "id": "QDYnCgy4sz0E",
        "outputId": "864be803-f4b0-4dd5-fa0b-5d56c0c48248"
      },
      "execution_count": 42,
      "outputs": [
        {
          "output_type": "stream",
          "name": "stdout",
          "text": [
            "Columns: Index(['Date', 'Samplename', 'Nucleic Acid(ng/uL)', 'A260/A280', 'A260/A230',\n",
            "       'A260', 'Nucleic Acid Facto', 'Baseline Correction (nm)',\n",
            "       'Baseline Absorbance'],\n",
            "      dtype='object')\n",
            "         Date Samplename  Nucleic Acid(ng/uL)  A260/A280  A260/A230     A260  \\\n",
            "0  15/05/2023      RNA 1              242.049      2.164      2.565  523.698   \n",
            "1  16/05/2023      RNA 2              222.481      2.156      2.560  479.660   \n",
            "2  17/05/2023      RNA 3              214.449      2.153      2.560  461.793   \n",
            "3  18/05/2023      RNA 4              217.025      2.151      2.557  466.748   \n",
            "4  19/05/2023      RNA 5              242.049      2.164      2.565  523.698   \n",
            "\n",
            "   Nucleic Acid Facto  Baseline Correction (nm)  Baseline Absorbance  \n",
            "0                40.0                       340               -0.060  \n",
            "1                40.0                       340               -0.684  \n",
            "2                40.0                       340               -0.413  \n",
            "3                40.0                       340               -0.266  \n",
            "4                40.0                       340               -0.060  \n"
          ]
        }
      ]
    },
    {
      "cell_type": "code",
      "source": [
        "# Set the correct column as the index\n",
        "df.set_index(\"Date\", inplace=True)  # Replace \"correct_column_name\" with the actual name"
      ],
      "metadata": {
        "id": "LIL5cFKMtDKk"
      },
      "execution_count": 43,
      "outputs": []
    },
    {
      "cell_type": "code",
      "source": [
        "# How many samples do we have?\n",
        "len(df)"
      ],
      "metadata": {
        "colab": {
          "base_uri": "https://localhost:8080/"
        },
        "id": "IjUGH0znrOdx",
        "outputId": "64d4a4af-06e3-46e4-8e1f-edd154df5849"
      },
      "execution_count": 44,
      "outputs": [
        {
          "output_type": "execute_result",
          "data": {
            "text/plain": [
              "24"
            ]
          },
          "metadata": {},
          "execution_count": 44
        }
      ]
    },
    {
      "cell_type": "code",
      "source": [
        "df.head(5)"
      ],
      "metadata": {
        "colab": {
          "base_uri": "https://localhost:8080/",
          "height": 238
        },
        "id": "deXNW6alunPe",
        "outputId": "bdf7fb4e-c8db-4bd2-814a-767dcf669bac"
      },
      "execution_count": 45,
      "outputs": [
        {
          "output_type": "execute_result",
          "data": {
            "text/plain": [
              "           Samplename  Nucleic Acid(ng/uL)  A260/A280  A260/A230     A260  \\\n",
              "Date                                                                        \n",
              "15/05/2023      RNA 1              242.049      2.164      2.565  523.698   \n",
              "16/05/2023      RNA 2              222.481      2.156      2.560  479.660   \n",
              "17/05/2023      RNA 3              214.449      2.153      2.560  461.793   \n",
              "18/05/2023      RNA 4              217.025      2.151      2.557  466.748   \n",
              "19/05/2023      RNA 5              242.049      2.164      2.565  523.698   \n",
              "\n",
              "            Nucleic Acid Facto  Baseline Correction (nm)  Baseline Absorbance  \n",
              "Date                                                                           \n",
              "15/05/2023                40.0                       340               -0.060  \n",
              "16/05/2023                40.0                       340               -0.684  \n",
              "17/05/2023                40.0                       340               -0.413  \n",
              "18/05/2023                40.0                       340               -0.266  \n",
              "19/05/2023                40.0                       340               -0.060  "
            ],
            "text/html": [
              "\n",
              "  <div id=\"df-7c5e9864-62ee-45d8-aca7-e136937b74e9\" class=\"colab-df-container\">\n",
              "    <div>\n",
              "<style scoped>\n",
              "    .dataframe tbody tr th:only-of-type {\n",
              "        vertical-align: middle;\n",
              "    }\n",
              "\n",
              "    .dataframe tbody tr th {\n",
              "        vertical-align: top;\n",
              "    }\n",
              "\n",
              "    .dataframe thead th {\n",
              "        text-align: right;\n",
              "    }\n",
              "</style>\n",
              "<table border=\"1\" class=\"dataframe\">\n",
              "  <thead>\n",
              "    <tr style=\"text-align: right;\">\n",
              "      <th></th>\n",
              "      <th>Samplename</th>\n",
              "      <th>Nucleic Acid(ng/uL)</th>\n",
              "      <th>A260/A280</th>\n",
              "      <th>A260/A230</th>\n",
              "      <th>A260</th>\n",
              "      <th>Nucleic Acid Facto</th>\n",
              "      <th>Baseline Correction (nm)</th>\n",
              "      <th>Baseline Absorbance</th>\n",
              "    </tr>\n",
              "    <tr>\n",
              "      <th>Date</th>\n",
              "      <th></th>\n",
              "      <th></th>\n",
              "      <th></th>\n",
              "      <th></th>\n",
              "      <th></th>\n",
              "      <th></th>\n",
              "      <th></th>\n",
              "      <th></th>\n",
              "    </tr>\n",
              "  </thead>\n",
              "  <tbody>\n",
              "    <tr>\n",
              "      <th>15/05/2023</th>\n",
              "      <td>RNA 1</td>\n",
              "      <td>242.049</td>\n",
              "      <td>2.164</td>\n",
              "      <td>2.565</td>\n",
              "      <td>523.698</td>\n",
              "      <td>40.0</td>\n",
              "      <td>340</td>\n",
              "      <td>-0.060</td>\n",
              "    </tr>\n",
              "    <tr>\n",
              "      <th>16/05/2023</th>\n",
              "      <td>RNA 2</td>\n",
              "      <td>222.481</td>\n",
              "      <td>2.156</td>\n",
              "      <td>2.560</td>\n",
              "      <td>479.660</td>\n",
              "      <td>40.0</td>\n",
              "      <td>340</td>\n",
              "      <td>-0.684</td>\n",
              "    </tr>\n",
              "    <tr>\n",
              "      <th>17/05/2023</th>\n",
              "      <td>RNA 3</td>\n",
              "      <td>214.449</td>\n",
              "      <td>2.153</td>\n",
              "      <td>2.560</td>\n",
              "      <td>461.793</td>\n",
              "      <td>40.0</td>\n",
              "      <td>340</td>\n",
              "      <td>-0.413</td>\n",
              "    </tr>\n",
              "    <tr>\n",
              "      <th>18/05/2023</th>\n",
              "      <td>RNA 4</td>\n",
              "      <td>217.025</td>\n",
              "      <td>2.151</td>\n",
              "      <td>2.557</td>\n",
              "      <td>466.748</td>\n",
              "      <td>40.0</td>\n",
              "      <td>340</td>\n",
              "      <td>-0.266</td>\n",
              "    </tr>\n",
              "    <tr>\n",
              "      <th>19/05/2023</th>\n",
              "      <td>RNA 5</td>\n",
              "      <td>242.049</td>\n",
              "      <td>2.164</td>\n",
              "      <td>2.565</td>\n",
              "      <td>523.698</td>\n",
              "      <td>40.0</td>\n",
              "      <td>340</td>\n",
              "      <td>-0.060</td>\n",
              "    </tr>\n",
              "  </tbody>\n",
              "</table>\n",
              "</div>\n",
              "    <div class=\"colab-df-buttons\">\n",
              "\n",
              "  <div class=\"colab-df-container\">\n",
              "    <button class=\"colab-df-convert\" onclick=\"convertToInteractive('df-7c5e9864-62ee-45d8-aca7-e136937b74e9')\"\n",
              "            title=\"Convert this dataframe to an interactive table.\"\n",
              "            style=\"display:none;\">\n",
              "\n",
              "  <svg xmlns=\"http://www.w3.org/2000/svg\" height=\"24px\" viewBox=\"0 -960 960 960\">\n",
              "    <path d=\"M120-120v-720h720v720H120Zm60-500h600v-160H180v160Zm220 220h160v-160H400v160Zm0 220h160v-160H400v160ZM180-400h160v-160H180v160Zm440 0h160v-160H620v160ZM180-180h160v-160H180v160Zm440 0h160v-160H620v160Z\"/>\n",
              "  </svg>\n",
              "    </button>\n",
              "\n",
              "  <style>\n",
              "    .colab-df-container {\n",
              "      display:flex;\n",
              "      gap: 12px;\n",
              "    }\n",
              "\n",
              "    .colab-df-convert {\n",
              "      background-color: #E8F0FE;\n",
              "      border: none;\n",
              "      border-radius: 50%;\n",
              "      cursor: pointer;\n",
              "      display: none;\n",
              "      fill: #1967D2;\n",
              "      height: 32px;\n",
              "      padding: 0 0 0 0;\n",
              "      width: 32px;\n",
              "    }\n",
              "\n",
              "    .colab-df-convert:hover {\n",
              "      background-color: #E2EBFA;\n",
              "      box-shadow: 0px 1px 2px rgba(60, 64, 67, 0.3), 0px 1px 3px 1px rgba(60, 64, 67, 0.15);\n",
              "      fill: #174EA6;\n",
              "    }\n",
              "\n",
              "    .colab-df-buttons div {\n",
              "      margin-bottom: 4px;\n",
              "    }\n",
              "\n",
              "    [theme=dark] .colab-df-convert {\n",
              "      background-color: #3B4455;\n",
              "      fill: #D2E3FC;\n",
              "    }\n",
              "\n",
              "    [theme=dark] .colab-df-convert:hover {\n",
              "      background-color: #434B5C;\n",
              "      box-shadow: 0px 1px 3px 1px rgba(0, 0, 0, 0.15);\n",
              "      filter: drop-shadow(0px 1px 2px rgba(0, 0, 0, 0.3));\n",
              "      fill: #FFFFFF;\n",
              "    }\n",
              "  </style>\n",
              "\n",
              "    <script>\n",
              "      const buttonEl =\n",
              "        document.querySelector('#df-7c5e9864-62ee-45d8-aca7-e136937b74e9 button.colab-df-convert');\n",
              "      buttonEl.style.display =\n",
              "        google.colab.kernel.accessAllowed ? 'block' : 'none';\n",
              "\n",
              "      async function convertToInteractive(key) {\n",
              "        const element = document.querySelector('#df-7c5e9864-62ee-45d8-aca7-e136937b74e9');\n",
              "        const dataTable =\n",
              "          await google.colab.kernel.invokeFunction('convertToInteractive',\n",
              "                                                    [key], {});\n",
              "        if (!dataTable) return;\n",
              "\n",
              "        const docLinkHtml = 'Like what you see? Visit the ' +\n",
              "          '<a target=\"_blank\" href=https://colab.research.google.com/notebooks/data_table.ipynb>data table notebook</a>'\n",
              "          + ' to learn more about interactive tables.';\n",
              "        element.innerHTML = '';\n",
              "        dataTable['output_type'] = 'display_data';\n",
              "        await google.colab.output.renderOutput(dataTable, element);\n",
              "        const docLink = document.createElement('div');\n",
              "        docLink.innerHTML = docLinkHtml;\n",
              "        element.appendChild(docLink);\n",
              "      }\n",
              "    </script>\n",
              "  </div>\n",
              "\n",
              "\n",
              "<div id=\"df-944fcb9e-6409-4d67-9b2f-2332c7dc9b4f\">\n",
              "  <button class=\"colab-df-quickchart\" onclick=\"quickchart('df-944fcb9e-6409-4d67-9b2f-2332c7dc9b4f')\"\n",
              "            title=\"Suggest charts.\"\n",
              "            style=\"display:none;\">\n",
              "\n",
              "<svg xmlns=\"http://www.w3.org/2000/svg\" height=\"24px\"viewBox=\"0 0 24 24\"\n",
              "     width=\"24px\">\n",
              "    <g>\n",
              "        <path d=\"M19 3H5c-1.1 0-2 .9-2 2v14c0 1.1.9 2 2 2h14c1.1 0 2-.9 2-2V5c0-1.1-.9-2-2-2zM9 17H7v-7h2v7zm4 0h-2V7h2v10zm4 0h-2v-4h2v4z\"/>\n",
              "    </g>\n",
              "</svg>\n",
              "  </button>\n",
              "\n",
              "<style>\n",
              "  .colab-df-quickchart {\n",
              "    background-color: #E8F0FE;\n",
              "    border: none;\n",
              "    border-radius: 50%;\n",
              "    cursor: pointer;\n",
              "    display: none;\n",
              "    fill: #1967D2;\n",
              "    height: 32px;\n",
              "    padding: 0 0 0 0;\n",
              "    width: 32px;\n",
              "  }\n",
              "\n",
              "  .colab-df-quickchart:hover {\n",
              "    background-color: #E2EBFA;\n",
              "    box-shadow: 0px 1px 2px rgba(60, 64, 67, 0.3), 0px 1px 3px 1px rgba(60, 64, 67, 0.15);\n",
              "    fill: #174EA6;\n",
              "  }\n",
              "\n",
              "  [theme=dark] .colab-df-quickchart {\n",
              "    background-color: #3B4455;\n",
              "    fill: #D2E3FC;\n",
              "  }\n",
              "\n",
              "  [theme=dark] .colab-df-quickchart:hover {\n",
              "    background-color: #434B5C;\n",
              "    box-shadow: 0px 1px 3px 1px rgba(0, 0, 0, 0.15);\n",
              "    filter: drop-shadow(0px 1px 2px rgba(0, 0, 0, 0.3));\n",
              "    fill: #FFFFFF;\n",
              "  }\n",
              "</style>\n",
              "\n",
              "  <script>\n",
              "    async function quickchart(key) {\n",
              "      const charts = await google.colab.kernel.invokeFunction(\n",
              "          'suggestCharts', [key], {});\n",
              "    }\n",
              "    (() => {\n",
              "      let quickchartButtonEl =\n",
              "        document.querySelector('#df-944fcb9e-6409-4d67-9b2f-2332c7dc9b4f button');\n",
              "      quickchartButtonEl.style.display =\n",
              "        google.colab.kernel.accessAllowed ? 'block' : 'none';\n",
              "    })();\n",
              "  </script>\n",
              "</div>\n",
              "    </div>\n",
              "  </div>\n"
            ]
          },
          "metadata": {},
          "execution_count": 45
        }
      ]
    },
    {
      "cell_type": "code",
      "source": [
        "# Only want closing price for each day\n",
        "RNA_Amount = pd.DataFrame(df[\"Nucleic Acid(ng/uL)\"]).rename(columns={\"Nucleic Acid(ng/uL)\": \"RNA Amount\"})\n",
        "RNA_Amount.head()"
      ],
      "metadata": {
        "colab": {
          "base_uri": "https://localhost:8080/",
          "height": 238
        },
        "id": "SFlSjw0Rr-KF",
        "outputId": "75934a63-0286-4de3-9864-1c6a54ce0503"
      },
      "execution_count": 46,
      "outputs": [
        {
          "output_type": "execute_result",
          "data": {
            "text/plain": [
              "            RNA Amount\n",
              "Date                  \n",
              "15/05/2023     242.049\n",
              "16/05/2023     222.481\n",
              "17/05/2023     214.449\n",
              "18/05/2023     217.025\n",
              "19/05/2023     242.049"
            ],
            "text/html": [
              "\n",
              "  <div id=\"df-7d293268-42ed-4383-87b0-05ae61906998\" class=\"colab-df-container\">\n",
              "    <div>\n",
              "<style scoped>\n",
              "    .dataframe tbody tr th:only-of-type {\n",
              "        vertical-align: middle;\n",
              "    }\n",
              "\n",
              "    .dataframe tbody tr th {\n",
              "        vertical-align: top;\n",
              "    }\n",
              "\n",
              "    .dataframe thead th {\n",
              "        text-align: right;\n",
              "    }\n",
              "</style>\n",
              "<table border=\"1\" class=\"dataframe\">\n",
              "  <thead>\n",
              "    <tr style=\"text-align: right;\">\n",
              "      <th></th>\n",
              "      <th>RNA Amount</th>\n",
              "    </tr>\n",
              "    <tr>\n",
              "      <th>Date</th>\n",
              "      <th></th>\n",
              "    </tr>\n",
              "  </thead>\n",
              "  <tbody>\n",
              "    <tr>\n",
              "      <th>15/05/2023</th>\n",
              "      <td>242.049</td>\n",
              "    </tr>\n",
              "    <tr>\n",
              "      <th>16/05/2023</th>\n",
              "      <td>222.481</td>\n",
              "    </tr>\n",
              "    <tr>\n",
              "      <th>17/05/2023</th>\n",
              "      <td>214.449</td>\n",
              "    </tr>\n",
              "    <tr>\n",
              "      <th>18/05/2023</th>\n",
              "      <td>217.025</td>\n",
              "    </tr>\n",
              "    <tr>\n",
              "      <th>19/05/2023</th>\n",
              "      <td>242.049</td>\n",
              "    </tr>\n",
              "  </tbody>\n",
              "</table>\n",
              "</div>\n",
              "    <div class=\"colab-df-buttons\">\n",
              "\n",
              "  <div class=\"colab-df-container\">\n",
              "    <button class=\"colab-df-convert\" onclick=\"convertToInteractive('df-7d293268-42ed-4383-87b0-05ae61906998')\"\n",
              "            title=\"Convert this dataframe to an interactive table.\"\n",
              "            style=\"display:none;\">\n",
              "\n",
              "  <svg xmlns=\"http://www.w3.org/2000/svg\" height=\"24px\" viewBox=\"0 -960 960 960\">\n",
              "    <path d=\"M120-120v-720h720v720H120Zm60-500h600v-160H180v160Zm220 220h160v-160H400v160Zm0 220h160v-160H400v160ZM180-400h160v-160H180v160Zm440 0h160v-160H620v160ZM180-180h160v-160H180v160Zm440 0h160v-160H620v160Z\"/>\n",
              "  </svg>\n",
              "    </button>\n",
              "\n",
              "  <style>\n",
              "    .colab-df-container {\n",
              "      display:flex;\n",
              "      gap: 12px;\n",
              "    }\n",
              "\n",
              "    .colab-df-convert {\n",
              "      background-color: #E8F0FE;\n",
              "      border: none;\n",
              "      border-radius: 50%;\n",
              "      cursor: pointer;\n",
              "      display: none;\n",
              "      fill: #1967D2;\n",
              "      height: 32px;\n",
              "      padding: 0 0 0 0;\n",
              "      width: 32px;\n",
              "    }\n",
              "\n",
              "    .colab-df-convert:hover {\n",
              "      background-color: #E2EBFA;\n",
              "      box-shadow: 0px 1px 2px rgba(60, 64, 67, 0.3), 0px 1px 3px 1px rgba(60, 64, 67, 0.15);\n",
              "      fill: #174EA6;\n",
              "    }\n",
              "\n",
              "    .colab-df-buttons div {\n",
              "      margin-bottom: 4px;\n",
              "    }\n",
              "\n",
              "    [theme=dark] .colab-df-convert {\n",
              "      background-color: #3B4455;\n",
              "      fill: #D2E3FC;\n",
              "    }\n",
              "\n",
              "    [theme=dark] .colab-df-convert:hover {\n",
              "      background-color: #434B5C;\n",
              "      box-shadow: 0px 1px 3px 1px rgba(0, 0, 0, 0.15);\n",
              "      filter: drop-shadow(0px 1px 2px rgba(0, 0, 0, 0.3));\n",
              "      fill: #FFFFFF;\n",
              "    }\n",
              "  </style>\n",
              "\n",
              "    <script>\n",
              "      const buttonEl =\n",
              "        document.querySelector('#df-7d293268-42ed-4383-87b0-05ae61906998 button.colab-df-convert');\n",
              "      buttonEl.style.display =\n",
              "        google.colab.kernel.accessAllowed ? 'block' : 'none';\n",
              "\n",
              "      async function convertToInteractive(key) {\n",
              "        const element = document.querySelector('#df-7d293268-42ed-4383-87b0-05ae61906998');\n",
              "        const dataTable =\n",
              "          await google.colab.kernel.invokeFunction('convertToInteractive',\n",
              "                                                    [key], {});\n",
              "        if (!dataTable) return;\n",
              "\n",
              "        const docLinkHtml = 'Like what you see? Visit the ' +\n",
              "          '<a target=\"_blank\" href=https://colab.research.google.com/notebooks/data_table.ipynb>data table notebook</a>'\n",
              "          + ' to learn more about interactive tables.';\n",
              "        element.innerHTML = '';\n",
              "        dataTable['output_type'] = 'display_data';\n",
              "        await google.colab.output.renderOutput(dataTable, element);\n",
              "        const docLink = document.createElement('div');\n",
              "        docLink.innerHTML = docLinkHtml;\n",
              "        element.appendChild(docLink);\n",
              "      }\n",
              "    </script>\n",
              "  </div>\n",
              "\n",
              "\n",
              "<div id=\"df-55a43a45-20da-4f08-9214-68adc1683827\">\n",
              "  <button class=\"colab-df-quickchart\" onclick=\"quickchart('df-55a43a45-20da-4f08-9214-68adc1683827')\"\n",
              "            title=\"Suggest charts.\"\n",
              "            style=\"display:none;\">\n",
              "\n",
              "<svg xmlns=\"http://www.w3.org/2000/svg\" height=\"24px\"viewBox=\"0 0 24 24\"\n",
              "     width=\"24px\">\n",
              "    <g>\n",
              "        <path d=\"M19 3H5c-1.1 0-2 .9-2 2v14c0 1.1.9 2 2 2h14c1.1 0 2-.9 2-2V5c0-1.1-.9-2-2-2zM9 17H7v-7h2v7zm4 0h-2V7h2v10zm4 0h-2v-4h2v4z\"/>\n",
              "    </g>\n",
              "</svg>\n",
              "  </button>\n",
              "\n",
              "<style>\n",
              "  .colab-df-quickchart {\n",
              "    background-color: #E8F0FE;\n",
              "    border: none;\n",
              "    border-radius: 50%;\n",
              "    cursor: pointer;\n",
              "    display: none;\n",
              "    fill: #1967D2;\n",
              "    height: 32px;\n",
              "    padding: 0 0 0 0;\n",
              "    width: 32px;\n",
              "  }\n",
              "\n",
              "  .colab-df-quickchart:hover {\n",
              "    background-color: #E2EBFA;\n",
              "    box-shadow: 0px 1px 2px rgba(60, 64, 67, 0.3), 0px 1px 3px 1px rgba(60, 64, 67, 0.15);\n",
              "    fill: #174EA6;\n",
              "  }\n",
              "\n",
              "  [theme=dark] .colab-df-quickchart {\n",
              "    background-color: #3B4455;\n",
              "    fill: #D2E3FC;\n",
              "  }\n",
              "\n",
              "  [theme=dark] .colab-df-quickchart:hover {\n",
              "    background-color: #434B5C;\n",
              "    box-shadow: 0px 1px 3px 1px rgba(0, 0, 0, 0.15);\n",
              "    filter: drop-shadow(0px 1px 2px rgba(0, 0, 0, 0.3));\n",
              "    fill: #FFFFFF;\n",
              "  }\n",
              "</style>\n",
              "\n",
              "  <script>\n",
              "    async function quickchart(key) {\n",
              "      const charts = await google.colab.kernel.invokeFunction(\n",
              "          'suggestCharts', [key], {});\n",
              "    }\n",
              "    (() => {\n",
              "      let quickchartButtonEl =\n",
              "        document.querySelector('#df-55a43a45-20da-4f08-9214-68adc1683827 button');\n",
              "      quickchartButtonEl.style.display =\n",
              "        google.colab.kernel.accessAllowed ? 'block' : 'none';\n",
              "    })();\n",
              "  </script>\n",
              "</div>\n",
              "    </div>\n",
              "  </div>\n"
            ]
          },
          "metadata": {},
          "execution_count": 46
        }
      ]
    },
    {
      "cell_type": "code",
      "source": [
        "RNA_Amount.max()"
      ],
      "metadata": {
        "colab": {
          "base_uri": "https://localhost:8080/"
        },
        "id": "YOlqyHtfuml_",
        "outputId": "aeef57d7-1f20-419e-da4a-24b5a54d52b2"
      },
      "execution_count": 47,
      "outputs": [
        {
          "output_type": "execute_result",
          "data": {
            "text/plain": [
              "RNA Amount    242.049\n",
              "dtype: float64"
            ]
          },
          "metadata": {},
          "execution_count": 47
        }
      ]
    },
    {
      "cell_type": "code",
      "source": [
        "RNA_Amount.min()"
      ],
      "metadata": {
        "colab": {
          "base_uri": "https://localhost:8080/"
        },
        "id": "siS8Oc6ysRAc",
        "outputId": "e8b13499-07d6-4f59-f511-b7cfde07ee9c"
      },
      "execution_count": 48,
      "outputs": [
        {
          "output_type": "execute_result",
          "data": {
            "text/plain": [
              "RNA Amount    214.449\n",
              "dtype: float64"
            ]
          },
          "metadata": {},
          "execution_count": 48
        }
      ]
    },
    {
      "cell_type": "code",
      "source": [
        "import matplotlib.pyplot as plt\n",
        "RNA_Amount.plot(figsize=(10, 7))\n",
        "plt.ylabel(\"RNA Amount\")\n",
        "plt.title(\"RNA Amount from May to June \", fontsize=16)\n",
        "plt.legend(fontsize=14);"
      ],
      "metadata": {
        "colab": {
          "base_uri": "https://localhost:8080/",
          "height": 643
        },
        "id": "dm_tXiGGu0YC",
        "outputId": "f79bd8b3-61e3-4104-c496-7f51865d5122"
      },
      "execution_count": 49,
      "outputs": [
        {
          "output_type": "display_data",
          "data": {
            "text/plain": [
              "<Figure size 1000x700 with 1 Axes>"
            ],
            "image/png": "[encoded data removed]"
          },
          "metadata": {}
        }
      ]
    },
    {
      "cell_type": "markdown",
      "source": [
        "#Importing time series data with Python's CSV module"
      ],
      "metadata": {
        "id": "PE-MSCSwWCRf"
      }
    },
    {
      "cell_type": "code",
      "source": [
        "import csv\n",
        "from datetime import datetime\n",
        "\n",
        "timesteps = []\n",
        "RNA_Concentartion = []\n",
        "\n",
        "with open(\"/content/RNA_Concentartion.csv\", \"r\") as f:\n",
        "    csv_reader = csv.reader(f, delimiter=\";\")  # Correct delimiter\n",
        "    next(csv_reader)  # Skip first line (this gets rid of the column titles)\n",
        "    for line in csv_reader:\n",
        "        date_str = line[0]  # Assuming the date is in the second column\n",
        "        price_str = line[2]  # Assuming the price is in the third column\n",
        "\n",
        "        # Handling date and price formatting\n",
        "        try:\n",
        "            date = datetime.strptime(date_str, \"%d/%m/%Y\")\n",
        "            price = float(price_str)\n",
        "            timesteps.append(date)\n",
        "            RNA_Concentartion.append(price)\n",
        "        except ValueError:\n",
        "            # Skip lines with incorrect format\n",
        "            pass\n",
        "\n",
        "# Print the collected data\n",
        "for i in range(len(timesteps)):\n",
        "    print(timesteps[i], RNA_Concentartion[i])\n"
      ],
      "metadata": {
        "colab": {
          "base_uri": "https://localhost:8080/"
        },
        "id": "qVFYOu_wx89K",
        "outputId": "8c84661f-028b-459f-877f-35580f47ba39"
      },
      "execution_count": 222,
      "outputs": [
        {
          "output_type": "stream",
          "name": "stdout",
          "text": [
            "2023-05-15 00:00:00 242.049\n",
            "2023-05-16 00:00:00 222.481\n",
            "2023-05-17 00:00:00 214.449\n",
            "2023-05-18 00:00:00 217.025\n",
            "2023-05-19 00:00:00 242.049\n",
            "2023-05-20 00:00:00 222.481\n",
            "2023-05-21 00:00:00 214.449\n",
            "2023-05-22 00:00:00 217.025\n",
            "2023-05-23 00:00:00 242.049\n",
            "2023-05-24 00:00:00 222.481\n",
            "2023-05-25 00:00:00 214.449\n",
            "2023-05-26 00:00:00 217.025\n",
            "2023-05-27 00:00:00 242.049\n",
            "2023-05-28 00:00:00 222.481\n",
            "2023-05-29 00:00:00 214.449\n",
            "2023-05-30 00:00:00 217.025\n",
            "2023-05-31 00:00:00 242.049\n",
            "2023-06-01 00:00:00 222.481\n",
            "2023-06-02 00:00:00 217.025\n",
            "2023-06-03 00:00:00 242.049\n",
            "2023-06-04 00:00:00 222.481\n",
            "2023-06-05 00:00:00 217.025\n",
            "2023-06-06 00:00:00 242.049\n",
            "2023-06-07 00:00:00 222.481\n"
          ]
        }
      ]
    },
    {
      "cell_type": "code",
      "source": [
        "# View first 10 of each\n",
        "timesteps[:10], RNA_Concentartion[:10]"
      ],
      "metadata": {
        "colab": {
          "base_uri": "https://localhost:8080/"
        },
        "id": "57A_fCAZxm-C",
        "outputId": "89e58bf0-6066-4e7a-e889-29bc999b18fc"
      },
      "execution_count": 223,
      "outputs": [
        {
          "output_type": "execute_result",
          "data": {
            "text/plain": [
              "([datetime.datetime(2023, 5, 15, 0, 0),\n",
              "  datetime.datetime(2023, 5, 16, 0, 0),\n",
              "  datetime.datetime(2023, 5, 17, 0, 0),\n",
              "  datetime.datetime(2023, 5, 18, 0, 0),\n",
              "  datetime.datetime(2023, 5, 19, 0, 0),\n",
              "  datetime.datetime(2023, 5, 20, 0, 0),\n",
              "  datetime.datetime(2023, 5, 21, 0, 0),\n",
              "  datetime.datetime(2023, 5, 22, 0, 0),\n",
              "  datetime.datetime(2023, 5, 23, 0, 0),\n",
              "  datetime.datetime(2023, 5, 24, 0, 0)],\n",
              " [242.049,\n",
              "  222.481,\n",
              "  214.449,\n",
              "  217.025,\n",
              "  242.049,\n",
              "  222.481,\n",
              "  214.449,\n",
              "  217.025,\n",
              "  242.049,\n",
              "  222.481])"
            ]
          },
          "metadata": {},
          "execution_count": 223
        }
      ]
    },
    {
      "cell_type": "code",
      "source": [
        "# Plot from CSV\n",
        "import matplotlib.pyplot as plt\n",
        "import numpy as np\n",
        "plt.figure(figsize=(10, 7))\n",
        "plt.plot(timesteps, RNA_Concentartion)\n",
        "plt.title(\"RNA_Concentartione from May to June\", fontsize=16)\n",
        "plt.xlabel(\"Date\")\n",
        "plt.ylabel(\"RNA_Concentartione\");"
      ],
      "metadata": {
        "colab": {
          "base_uri": "https://localhost:8080/",
          "height": 643
        },
        "id": "IOQ9NNPyw_Ge",
        "outputId": "8df6fe1a-2027-460f-9067-83af1b186b5f"
      },
      "execution_count": 310,
      "outputs": [
        {
          "output_type": "display_data",
          "data": {
            "text/plain": [
              "<Figure size 1000x700 with 1 Axes>"
            ],
            "image/png": "[encoded data removed]"
          },
          "metadata": {}
        }
      ]
    },
    {
      "cell_type": "markdown",
      "source": [
        "#Create train & test sets for time series (the wrong way)"
      ],
      "metadata": {
        "id": "2Cab113fWSjs"
      }
    },
    {
      "cell_type": "markdown",
      "source": [
        "I am dealing with a univariate time series, so we only have to make a split on one variable (for multivariate time series, i will have to split multiple variables).Let's turn our DataFrame index and column into NumPy arrays."
      ],
      "metadata": {
        "id": "NAQv7-0UWXoY"
      }
    },
    {
      "cell_type": "code",
      "source": [
        "# Get sts date array\n",
        "timesteps = RNA_Amount.index.to_numpy()\n",
        "prices = RNA_Amount[\"RNA Amount\"].to_numpy()"
      ],
      "metadata": {
        "id": "j264ITQnyMWs"
      },
      "execution_count": 59,
      "outputs": []
    },
    {
      "cell_type": "code",
      "source": [
        "timesteps[:10], prices[:10]"
      ],
      "metadata": {
        "colab": {
          "base_uri": "https://localhost:8080/"
        },
        "id": "WuG-wtHUyQOr",
        "outputId": "e3eb853a-f24f-4802-ba40-cdb068fe1a4d"
      },
      "execution_count": 60,
      "outputs": [
        {
          "output_type": "execute_result",
          "data": {
            "text/plain": [
              "(array(['15/05/2023', '16/05/2023', '17/05/2023', '18/05/2023',\n",
              "        '19/05/2023', '20/05/2023', '21/05/2023', '22/05/2023',\n",
              "        '23/05/2023', '24/05/2023'], dtype=object),\n",
              " array([242.049, 222.481, 214.449, 217.025, 242.049, 222.481, 214.449,\n",
              "        217.025, 242.049, 222.481]))"
            ]
          },
          "metadata": {},
          "execution_count": 60
        }
      ]
    },
    {
      "cell_type": "markdown",
      "source": [
        "And now i'll use the ever faithful train_test_split from Scikit-Learn to create our train and test sets."
      ],
      "metadata": {
        "id": "9DWAEOLWWdti"
      }
    },
    {
      "cell_type": "code",
      "source": [
        "# Wrong way to make train/test sets for time series\n",
        "from sklearn.model_selection import train_test_split\n",
        "\n",
        "X_train, X_test, y_train, y_test = train_test_split(timesteps, # dates\n",
        "                                                    prices, # prices\n",
        "                                                    test_size=0.2,\n",
        "                                                    random_state=42)\n",
        "X_train.shape, X_test.shape, y_train.shape, y_test.shape"
      ],
      "metadata": {
        "colab": {
          "base_uri": "https://localhost:8080/"
        },
        "id": "mb8HaBTpyp8m",
        "outputId": "7ba2a4f2-c616-4bcd-9e34-770320470e50"
      },
      "execution_count": 61,
      "outputs": [
        {
          "output_type": "execute_result",
          "data": {
            "text/plain": [
              "((19,), (5,), (19,), (5,))"
            ]
          },
          "metadata": {},
          "execution_count": 61
        }
      ]
    },
    {
      "cell_type": "code",
      "source": [
        "# Let's plot wrong train and test splits\n",
        "plt.figure(figsize=(10, 7))\n",
        "plt.scatter(X_train, y_train, s=5, label=\"Train data\")\n",
        "plt.scatter(X_test, y_test, s=5, label=\"Test data\")\n",
        "plt.xlabel(\"Date\")\n",
        "plt.ylabel(\"RNA_Concentartion\")\n",
        "plt.legend(fontsize=14)\n",
        "plt.show();"
      ],
      "metadata": {
        "colab": {
          "base_uri": "https://localhost:8080/",
          "height": 619
        },
        "id": "UVyvei95ysKH",
        "outputId": "88350b2e-24c9-4855-9184-329291c45e5c"
      },
      "execution_count": 226,
      "outputs": [
        {
          "output_type": "display_data",
          "data": {
            "text/plain": [
              "<Figure size 1000x700 with 1 Axes>"
            ],
            "image/png": "[encoded data removed]"
          },
          "metadata": {}
        }
      ]
    },
    {
      "cell_type": "markdown",
      "source": [
        "This is wrong plot I am trying to use the price of RNA Concentration to predict future Concentration. we have unseen data (test set) .\n",
        "\n",
        "This kind of random split is okay for datasets without a time component (such as images or passages of text for classification problems) but for time series, we've got to take the time factor into account.\n",
        "\n",
        "To fix this, we've got to split our data in a way that reflects what i am actually trying to do.\n",
        "\n",
        "We need to split our historical RNA Concentration data to have a dataset that reflects the past (train set) and a dataset that reflects the future (test set)"
      ],
      "metadata": {
        "id": "P43T-GOgXP4W"
      }
    },
    {
      "cell_type": "markdown",
      "source": [
        "#Create train & test sets for time series (the right way)"
      ],
      "metadata": {
        "id": "18qx88iTX15N"
      }
    },
    {
      "cell_type": "markdown",
      "source": [
        "Demonstration of time series split. Rather than a traditionaly random train/test split, it's best to split the time series data sequentially. Meaning, the test data should be data from the future when compared to the training data."
      ],
      "metadata": {
        "id": "P3V77uayX2Fe"
      }
    },
    {
      "cell_type": "code",
      "source": [
        "# Create train and test splits the right way for time series data\n",
        "split_size = int(0.8 * len(prices)) # 80% train, 20% test\n",
        "\n",
        "# Create train data splits (everything before the split)\n",
        "X_train, y_train = timesteps[:split_size], prices[:split_size]\n",
        "\n",
        "# Create test data splits (everything after the split)\n",
        "X_test, y_test = timesteps[split_size:], prices[split_size:]\n",
        "\n",
        "len(X_train), len(X_test), len(y_train), len(y_test)"
      ],
      "metadata": {
        "colab": {
          "base_uri": "https://localhost:8080/"
        },
        "id": "O6o2_LJxyvuW",
        "outputId": "3af4216e-ae3a-47a5-9d24-8805d3e11516"
      },
      "execution_count": 63,
      "outputs": [
        {
          "output_type": "execute_result",
          "data": {
            "text/plain": [
              "(19, 5, 19, 5)"
            ]
          },
          "metadata": {},
          "execution_count": 63
        }
      ]
    },
    {
      "cell_type": "markdown",
      "source": [
        "#Let's visualize."
      ],
      "metadata": {
        "id": "PHiPTmcRYIGy"
      }
    },
    {
      "cell_type": "code",
      "source": [
        "# Plot correctly made splits\n",
        "plt.figure(figsize=(10, 7))\n",
        "plt.scatter(X_train, y_train, s=5, label=\"Train data\")\n",
        "plt.scatter(X_test, y_test, s=5, label=\"Test data\")\n",
        "plt.xlabel(\"Date\")\n",
        "plt.ylabel(\"RNA_Concentartion\")\n",
        "plt.legend(fontsize=14)\n",
        "plt.show();"
      ],
      "metadata": {
        "colab": {
          "base_uri": "https://localhost:8080/",
          "height": 619
        },
        "id": "OxrEiSFry4GF",
        "outputId": "91219a5c-593f-462a-c29f-3970857bda04"
      },
      "execution_count": 227,
      "outputs": [
        {
          "output_type": "display_data",
          "data": {
            "text/plain": [
              "<Figure size 1000x700 with 1 Axes>"
            ],
            "image/png": "[encoded data removed]"
          },
          "metadata": {}
        }
      ]
    },
    {
      "cell_type": "markdown",
      "source": [
        "That looks much better!\n",
        "\n",
        "I am going to be using the training set (past) to train a model to try and predict values on the test set (future).\n",
        "\n",
        "Because the test set is an artificial future, we can guage how our model might perform on actual future data."
      ],
      "metadata": {
        "id": "lcfMraOpYMke"
      }
    },
    {
      "cell_type": "markdown",
      "source": [
        "#Create a plotting function"
      ],
      "metadata": {
        "id": "rZyNdSjJYSqd"
      }
    },
    {
      "cell_type": "code",
      "source": [
        "# Create a function to plot time series data\n",
        "def plot_time_series(timesteps, values, format='.', start=0, end=None, label=None):\n",
        "  # Plot the series\n",
        "  plt.plot(timesteps[start:end], values[start:end], format, label=label)\n",
        "  plt.xlabel(\"Time\")\n",
        "  plt.ylabel(\"RNA_Concentartion\")\n",
        "  if label:\n",
        "    plt.legend(fontsize=14) # make label bigger\n",
        "  plt.grid(True)"
      ],
      "metadata": {
        "id": "R8T2syXUy5pd"
      },
      "execution_count": 228,
      "outputs": []
    },
    {
      "cell_type": "code",
      "source": [
        "# Try out our plotting function\n",
        "plt.figure(figsize=(10, 7))\n",
        "plot_time_series(timesteps=X_train, values=y_train, label=\"Train data\")\n",
        "plot_time_series(timesteps=X_test, values=y_test, label=\"Test data\")"
      ],
      "metadata": {
        "colab": {
          "base_uri": "https://localhost:8080/",
          "height": 619
        },
        "id": "srljXbW1y8m2",
        "outputId": "5285d167-d9fb-4ecb-8234-d728a5946f7f"
      },
      "execution_count": 229,
      "outputs": [
        {
          "output_type": "display_data",
          "data": {
            "text/plain": [
              "<Figure size 1000x700 with 1 Axes>"
            ],
            "image/png": "[encoded data removed]"
          },
          "metadata": {}
        }
      ]
    },
    {
      "cell_type": "markdown",
      "source": [
        "Looking good!\n",
        "\n",
        "Time for some modelling experiments."
      ],
      "metadata": {
        "id": "_dmSBvjdYdVD"
      }
    },
    {
      "cell_type": "markdown",
      "source": [
        "#Modelling Experiments"
      ],
      "metadata": {
        "id": "7yr6ZopnYdla"
      }
    },
    {
      "cell_type": "markdown",
      "source": [
        "I will use two terms horizon and window.\n",
        "horizon = number of timesteps to predict into future\n",
        "\n",
        "window = number of timesteps from past used to predict horizon\n",
        "\n",
        "For example, if we wanted to predict the RNA Concentartion  for tomorrow (1 day in the future) using the previous week's worth of Stainless-Steel prices (7 days in the past)"
      ],
      "metadata": {
        "id": "CS1H3ncFYdzG"
      }
    },
    {
      "cell_type": "markdown",
      "source": [
        "\n",
        "#Model 0: Naïve forecast (baseline)\n"
      ],
      "metadata": {
        "id": "kTN4Ww5_YeA5"
      }
    },
    {
      "cell_type": "markdown",
      "source": [
        "One of the most common baseline models for time series forecasting, the naïve model (also called the naïve forecast), requires no training at all. That's because all the naïve model does is use the previous timestep value to predict the next timestep value."
      ],
      "metadata": {
        "id": "h2K2QO6bYeNM"
      }
    },
    {
      "cell_type": "code",
      "source": [
        "# Create a naïve forecast\n",
        "naive_forecast = y_test[:-1] # Naïve forecast equals every value excluding the last value\n",
        "naive_forecast[:10], naive_forecast[-10:] # View frist 10 and last 10"
      ],
      "metadata": {
        "colab": {
          "base_uri": "https://localhost:8080/"
        },
        "id": "oa8I1Dosy-vu",
        "outputId": "c42f47ed-deb8-4be1-f924-d67989c53a5f"
      },
      "execution_count": 230,
      "outputs": [
        {
          "output_type": "execute_result",
          "data": {
            "text/plain": [
              "(array([242.049, 222.481, 217.025, 242.049]),\n",
              " array([242.049, 222.481, 217.025, 242.049]))"
            ]
          },
          "metadata": {},
          "execution_count": 230
        }
      ]
    },
    {
      "cell_type": "code",
      "source": [
        "# Plot naive forecast\n",
        "plt.figure(figsize=(10, 7))\n",
        "plot_time_series(timesteps=X_train, values=y_train, label=\"Train data\")\n",
        "plot_time_series(timesteps=X_test, values=y_test, label=\"Test data\")\n",
        "plot_time_series(timesteps=X_test[1:], values=naive_forecast, format=\"-\", label=\"Naive forecast\");"
      ],
      "metadata": {
        "colab": {
          "base_uri": "https://localhost:8080/",
          "height": 619
        },
        "id": "eHvDQA1VzCcH",
        "outputId": "6e79ab75-4db9-4c64-9983-b4f4e2703686"
      },
      "execution_count": 231,
      "outputs": [
        {
          "output_type": "display_data",
          "data": {
            "text/plain": [
              "<Figure size 1000x700 with 1 Axes>"
            ],
            "image/png": "[encoded data removed]"
          },
          "metadata": {}
        }
      ]
    },
    {
      "cell_type": "markdown",
      "source": [
        "Let's zoom in to take a better look.\n",
        "\n",
        "We can do so by creating an offset value and passing it to the start parameter of our plot_time_series() function."
      ],
      "metadata": {
        "id": "Vn7m3t6qd3tD"
      }
    },
    {
      "cell_type": "code",
      "source": [
        "plt.figure(figsize=(10, 7))\n",
        "offset = 1\n",
        "plot_time_series(timesteps=X_test, values=y_test, start=offset, label=\"Test data\")\n",
        "plot_time_series(timesteps=X_test[1:], values=naive_forecast, format=\"-\", start=offset, label=\"Naive forecast\");"
      ],
      "metadata": {
        "colab": {
          "base_uri": "https://localhost:8080/",
          "height": 619
        },
        "id": "zw23xq9BzEe2",
        "outputId": "69e4209e-4d41-43ce-b862-88e48380210b"
      },
      "execution_count": 232,
      "outputs": [
        {
          "output_type": "display_data",
          "data": {
            "text/plain": [
              "<Figure size 1000x700 with 1 Axes>"
            ],
            "image/png": "[encoded data removed]"
          },
          "metadata": {}
        }
      ]
    },
    {
      "cell_type": "markdown",
      "source": [
        "When we zoom in we see the naïve forecast comes slightly after the test data. This makes sense because the naive forecast uses the previous timestep value to predict the next timestep value."
      ],
      "metadata": {
        "id": "Yp8nUk-Xd7Zk"
      }
    },
    {
      "cell_type": "markdown",
      "source": [
        "#Evaluating a time series model"
      ],
      "metadata": {
        "id": "zGp0br6UeAkw"
      }
    },
    {
      "cell_type": "code",
      "source": [
        "# Let's get TensorFlow!\n",
        "import tensorflow as tf"
      ],
      "metadata": {
        "id": "yCRwgFFGzLOl"
      },
      "execution_count": 233,
      "outputs": []
    },
    {
      "cell_type": "code",
      "source": [
        "def mean_absolute_scaled_error(y_true, y_pred):\n",
        "  mae = tf.reduce_mean(tf.abs(y_true - y_pred))\n",
        "\n",
        "  # Find MAE of naive forecast (no seasonality)\n",
        "  mae_naive_no_season = tf.reduce_mean(tf.abs(y_true[1:] - y_true[:-1]))\n",
        "  return mae / mae_naive_no_season"
      ],
      "metadata": {
        "id": "4o1IQJfHzWhY"
      },
      "execution_count": 234,
      "outputs": []
    },
    {
      "cell_type": "code",
      "source": [
        "def evaluate_preds(y_true, y_pred):\n",
        "  # Make sure float32 (for metric calculations)\n",
        "  y_true = tf.cast(y_true, dtype=tf.float32)\n",
        "  y_pred = tf.cast(y_pred, dtype=tf.float32)\n",
        "\n",
        "  # Calculate various metrics\n",
        "  mae = tf.keras.metrics.mean_absolute_error(y_true, y_pred)\n",
        "  mse = tf.keras.metrics.mean_squared_error(y_true, y_pred) # puts and emphasis on outliers (all errors get squared)\n",
        "  rmse = tf.sqrt(mse)\n",
        "  mape = tf.keras.metrics.mean_absolute_percentage_error(y_true, y_pred)\n",
        "  mase = mean_absolute_scaled_error(y_true, y_pred)\n",
        "\n",
        "  return {\"mae\": mae.numpy(),\n",
        "          \"mse\": mse.numpy(),\n",
        "          \"rmse\": rmse.numpy(),\n",
        "          \"mape\": mape.numpy(),\n",
        "          \"mase\": mase.numpy()}"
      ],
      "metadata": {
        "id": "2ND0mvRszYEH"
      },
      "execution_count": 235,
      "outputs": []
    },
    {
      "cell_type": "markdown",
      "source": [
        "we test our function on the naive forecast"
      ],
      "metadata": {
        "id": "ITrJaNfBeHJI"
      }
    },
    {
      "cell_type": "code",
      "source": [
        "naive_results = evaluate_preds(y_true=y_test[1:],\n",
        "                               y_pred=naive_forecast)\n",
        "naive_results"
      ],
      "metadata": {
        "colab": {
          "base_uri": "https://localhost:8080/"
        },
        "id": "whHmwlkxzZLm",
        "outputId": "3e0c169f-bc67-4243-df37-ad0de66af643"
      },
      "execution_count": 236,
      "outputs": [
        {
          "output_type": "execute_result",
          "data": {
            "text/plain": [
              "{'mae': 17.404,\n",
              " 'mse': 355.44537,\n",
              " 'rmse': 18.853258,\n",
              " 'mape': 7.6107783,\n",
              " 'mase': 1.0432383}"
            ]
          },
          "metadata": {},
          "execution_count": 236
        }
      ]
    },
    {
      "cell_type": "markdown",
      "source": [
        "it seems on average each forecast is 17.404 different than the actual RNA-Concentraion."
      ],
      "metadata": {
        "id": "O8C2R10AeNYp"
      }
    },
    {
      "cell_type": "code",
      "source": [
        "# Find average price of sts in test dataset\n",
        "tf.reduce_mean(y_test).numpy()"
      ],
      "metadata": {
        "colab": {
          "base_uri": "https://localhost:8080/"
        },
        "id": "rdm076ozzccd",
        "outputId": "857404a8-5637-4dbc-a3c5-41bba4b4090e"
      },
      "execution_count": 237,
      "outputs": [
        {
          "output_type": "execute_result",
          "data": {
            "text/plain": [
              "229.217"
            ]
          },
          "metadata": {},
          "execution_count": 237
        }
      ]
    },
    {
      "cell_type": "markdown",
      "source": [
        "looking at these two values is starting to give us an idea of how our model is performing:\n",
        "1)The average RNA Concentraionl in the test dataset is: 229.217.\n",
        "\n",
        "2)Each prediction in RNA Concentraion Forecast is on average off by: 17.404."
      ],
      "metadata": {
        "id": "ealTx0SjejPO"
      }
    },
    {
      "cell_type": "markdown",
      "source": [
        "I'd prefer a model which was closer to the mark."
      ],
      "metadata": {
        "id": "H3Vi3trefVSA"
      }
    },
    {
      "cell_type": "markdown",
      "source": [
        "#Format Data Part 2: Windowing dataset"
      ],
      "metadata": {
        "id": "jx2_bCCtfYs7"
      }
    },
    {
      "cell_type": "markdown",
      "source": [
        "I've got to window our time series.\n",
        "\n",
        "Windowing is a method to turn a time series dataset into supervised learning problem.\n",
        "\n",
        "In other words, we want to use windows of the past to predict the future.\n",
        "\n",
        "For example for a univariate time series, windowing for one week (window=3) to predict the next single value (horizon=1)."
      ],
      "metadata": {
        "id": "Nofv-eswft_h"
      }
    },
    {
      "cell_type": "markdown",
      "source": [
        "I'll start with the default horizon size of 1 and a window size of 3 (these aren't necessarily the best values to use, I've just picked them)."
      ],
      "metadata": {
        "id": "8A6zOicsf4qf"
      }
    },
    {
      "cell_type": "code",
      "source": [
        "HORIZON = 1 # predict 1 step at a time\n",
        "WINDOW_SIZE = 3 # use a week worth of timesteps to predict the horizon"
      ],
      "metadata": {
        "id": "dDzB0ir5ziQ2"
      },
      "execution_count": 238,
      "outputs": []
    },
    {
      "cell_type": "markdown",
      "source": [
        "I'll write a function to take in an array and turn it into a window and horizon."
      ],
      "metadata": {
        "id": "ucYa20nCf_hJ"
      }
    },
    {
      "cell_type": "code",
      "source": [
        "# Create function to label windowed data\n",
        "def get_labelled_windows(x, horizon=1):\n",
        "  \"\"\"\n",
        "  Creates labels for windowed dataset.\n",
        "\n",
        "  E.g. if horizon=1 (default)\n",
        "  Input: [1, 2, 3, 4, 5, 6] -> Output: ([1, 2, 3, 4, 5], [6])\n",
        "  \"\"\"\n",
        "  return x[:, :-horizon], x[:, -horizon:]"
      ],
      "metadata": {
        "id": "nG72DLWHzr1G"
      },
      "execution_count": 239,
      "outputs": []
    },
    {
      "cell_type": "code",
      "source": [
        "# Test out the window labelling function\n",
        "test_window, test_label = get_labelled_windows(tf.expand_dims(tf.range(8)+1, axis=0), horizon=HORIZON)\n",
        "print(f\"Window: {tf.squeeze(test_window).numpy()} -> Label: {tf.squeeze(test_label).numpy()}\")"
      ],
      "metadata": {
        "colab": {
          "base_uri": "https://localhost:8080/"
        },
        "id": "0lX0l-RDztJW",
        "outputId": "9284afc9-367e-480a-8d09-04ba6de4deda"
      },
      "execution_count": 240,
      "outputs": [
        {
          "output_type": "stream",
          "name": "stdout",
          "text": [
            "Window: [1 2 3 4 5 6 7] -> Label: 8\n"
          ]
        }
      ]
    },
    {
      "cell_type": "markdown",
      "source": [
        "make windows for an entire time series."
      ],
      "metadata": {
        "id": "rPxa48upgEej"
      }
    },
    {
      "cell_type": "code",
      "source": [
        "# Create function to view NumPy arrays as windows\n",
        "def make_windows(x, window_size=7, horizon=1):\n",
        "  \"\"\"\n",
        "  Turns a 1D array into a 2D array of sequential windows of window_size.\n",
        "  \"\"\"\n",
        "  # 1. Create a window of specific window_size (add the horizon on the end for later labelling)\n",
        "  window_step = np.expand_dims(np.arange(window_size+horizon), axis=0)\n",
        "  # print(f\"Window step:\\n {window_step}\")\n",
        "\n",
        "  # 2. Create a 2D array of multiple window steps (minus 1 to account for 0 indexing)\n",
        "  window_indexes = window_step + np.expand_dims(np.arange(len(x)-(window_size+horizon-1)), axis=0).T # create 2D array of windows of size window_size\n",
        "  # print(f\"Window indexes:\\n {window_indexes[:3], window_indexes[-3:], window_indexes.shape}\")\n",
        "\n",
        "  # 3. Index on the target array (time series) with 2D array of multiple window steps\n",
        "  windowed_array = x[window_indexes]\n",
        "\n",
        "  # 4. Get the labelled windows\n",
        "  windows, labels = get_labelled_windows(windowed_array, horizon=horizon)\n",
        "\n",
        "  return windows, labels"
      ],
      "metadata": {
        "id": "Ov7gq_TwzvJ9"
      },
      "execution_count": 241,
      "outputs": []
    },
    {
      "cell_type": "code",
      "source": [
        "full_windows, full_labels = make_windows(prices, window_size=WINDOW_SIZE, horizon=HORIZON)\n",
        "len(full_windows), len(full_labels)"
      ],
      "metadata": {
        "colab": {
          "base_uri": "https://localhost:8080/"
        },
        "id": "gb6DoVtrzxyt",
        "outputId": "37d605f8-0bc4-4d9e-9e97-94e0aff861e7"
      },
      "execution_count": 242,
      "outputs": [
        {
          "output_type": "execute_result",
          "data": {
            "text/plain": [
              "(21, 21)"
            ]
          },
          "metadata": {},
          "execution_count": 242
        }
      ]
    },
    {
      "cell_type": "markdown",
      "source": [
        "visualize!!!"
      ],
      "metadata": {
        "id": "MQlZPJVpgIpv"
      }
    },
    {
      "cell_type": "code",
      "source": [
        "# View the first 3 windows/labels\n",
        "for i in range(3):\n",
        "  print(f\"Window: {full_windows[i]} -> Label: {full_labels[i]}\")"
      ],
      "metadata": {
        "colab": {
          "base_uri": "https://localhost:8080/"
        },
        "id": "TxsTYZbEzzkN",
        "outputId": "bed43329-fc51-4df1-ab5c-e9344fc629db"
      },
      "execution_count": 243,
      "outputs": [
        {
          "output_type": "stream",
          "name": "stdout",
          "text": [
            "Window: [242.049 222.481 214.449] -> Label: [217.025]\n",
            "Window: [222.481 214.449 217.025] -> Label: [242.049]\n",
            "Window: [214.449 217.025 242.049] -> Label: [222.481]\n"
          ]
        }
      ]
    },
    {
      "cell_type": "code",
      "source": [
        "# View the last 3 windows/labels\n",
        "for i in range(3):\n",
        "  print(f\"Window: {full_windows[i-3]} -> Label: {full_labels[i-3]}\")"
      ],
      "metadata": {
        "colab": {
          "base_uri": "https://localhost:8080/"
        },
        "id": "cZzMzPNGz27F",
        "outputId": "e8649944-80e2-4e74-90c5-0f328e31c292"
      },
      "execution_count": 244,
      "outputs": [
        {
          "output_type": "stream",
          "name": "stdout",
          "text": [
            "Window: [217.025 242.049 222.481] -> Label: [217.025]\n",
            "Window: [242.049 222.481 217.025] -> Label: [242.049]\n",
            "Window: [222.481 217.025 242.049] -> Label: [222.481]\n"
          ]
        }
      ]
    },
    {
      "cell_type": "markdown",
      "source": [
        "#Turning windows into training and test sets"
      ],
      "metadata": {
        "id": "md45NbgEgRb-"
      }
    },
    {
      "cell_type": "markdown",
      "source": [
        "Let's write a function which takes in full sets of windows and their labels and splits them into train and test splits."
      ],
      "metadata": {
        "id": "IF4Dp1XQgRop"
      }
    },
    {
      "cell_type": "code",
      "source": [
        "# Make the train/test splits\n",
        "def make_train_test_splits(windows, labels, test_split=0.2):\n",
        "  \"\"\"\n",
        "  Splits matching pairs of windows and labels into train and test splits.\n",
        "  \"\"\"\n",
        "  split_size = int(len(windows) * (1-test_split)) # this will default to 80% train/20% test\n",
        "  train_windows = windows[:split_size]\n",
        "  train_labels = labels[:split_size]\n",
        "  test_windows = windows[split_size:]\n",
        "  test_labels = labels[split_size:]\n",
        "  return train_windows, test_windows, train_labels, test_labels"
      ],
      "metadata": {
        "id": "Es9FoHw6z7VW"
      },
      "execution_count": 245,
      "outputs": []
    },
    {
      "cell_type": "markdown",
      "source": [
        "default split of 80% training data and 20% testing data ."
      ],
      "metadata": {
        "id": "Ri-pM6JPgX1w"
      }
    },
    {
      "cell_type": "code",
      "source": [
        "train_windows, test_windows, train_labels, test_labels = make_train_test_splits(full_windows, full_labels)\n",
        "len(train_windows), len(test_windows), len(train_labels), len(test_labels)"
      ],
      "metadata": {
        "colab": {
          "base_uri": "https://localhost:8080/"
        },
        "id": "yBuj_wICz-wO",
        "outputId": "64cccec8-36b6-4129-d94b-e4511df404ae"
      },
      "execution_count": 246,
      "outputs": [
        {
          "output_type": "execute_result",
          "data": {
            "text/plain": [
              "(16, 5, 16, 5)"
            ]
          },
          "metadata": {},
          "execution_count": 246
        }
      ]
    },
    {
      "cell_type": "code",
      "source": [
        "train_windows[:5], train_labels[:5]"
      ],
      "metadata": {
        "colab": {
          "base_uri": "https://localhost:8080/"
        },
        "id": "s6zni0x80Aw3",
        "outputId": "ecc89f9b-3c24-4d17-92bb-40c3d597057f"
      },
      "execution_count": 247,
      "outputs": [
        {
          "output_type": "execute_result",
          "data": {
            "text/plain": [
              "(array([[242.049, 222.481, 214.449],\n",
              "        [222.481, 214.449, 217.025],\n",
              "        [214.449, 217.025, 242.049],\n",
              "        [217.025, 242.049, 222.481],\n",
              "        [242.049, 222.481, 214.449]]),\n",
              " array([[217.025],\n",
              "        [242.049],\n",
              "        [222.481],\n",
              "        [214.449],\n",
              "        [217.025]]))"
            ]
          },
          "metadata": {},
          "execution_count": 247
        }
      ]
    },
    {
      "cell_type": "markdown",
      "source": [
        "The ModelCheckpoint callback will monitor our model's performance during training and save the best model to file by setting save_best_only=True.\n",
        "\n",
        "we'll write a small function to create a ModelCheckpoint callback which saves a model to specified filename."
      ],
      "metadata": {
        "id": "e3QMFkgugeaw"
      }
    },
    {
      "cell_type": "code",
      "source": [
        "import os\n",
        "\n",
        "# Create a function to implement a ModelCheckpoint callback with a specific filename\n",
        "def create_model_checkpoint(model_name, save_path=\"model_experiments\"):\n",
        "  return tf.keras.callbacks.ModelCheckpoint(filepath=os.path.join(save_path, model_name), # create filepath to save model\n",
        "                                            verbose=0, # only output a limited amount of text\n",
        "                                            save_best_only=True) # save only the best model to file"
      ],
      "metadata": {
        "id": "k7pG1Hms0C-u"
      },
      "execution_count": 248,
      "outputs": []
    },
    {
      "cell_type": "markdown",
      "source": [
        "#Model 1: Dense model (window = 3, horizon = 1)"
      ],
      "metadata": {
        "id": "PgEvO6migq5N"
      }
    },
    {
      "cell_type": "code",
      "source": [
        "import tensorflow as tf\n",
        "from tensorflow.keras import layers\n",
        "\n",
        "# Set random seed for as reproducible results as possible\n",
        "tf.random.set_seed(42)\n",
        "\n",
        "# Construct model\n",
        "model_1 = tf.keras.Sequential([\n",
        "  layers.Dense(128, activation=\"relu\"),\n",
        "  layers.Dense(HORIZON, activation=\"linear\") # linear activation is the same as having no activation\n",
        "], name=\"model_1_dense\") # give the model a name so we can save it\n",
        "\n",
        "# Compile model\n",
        "model_1.compile(loss=\"mae\",\n",
        "                optimizer=tf.keras.optimizers.Adam(),\n",
        "                metrics=[\"mae\"]) # we don't necessarily need this when the loss function is already MAE\n",
        "\n",
        "# Fit model\n",
        "model_1.fit(x=train_windows, # train windows of 7 timesteps of sts prices\n",
        "            y=train_labels, # horizon value of 1 (using the previous 7 timesteps to predict next day)\n",
        "            epochs=100,\n",
        "            verbose=1,\n",
        "            batch_size=128,\n",
        "            validation_data=(test_windows, test_labels),\n",
        "            callbacks=[create_model_checkpoint(model_name=model_1.name)]) # create ModelCheckpoint callback to save best"
      ],
      "metadata": {
        "colab": {
          "base_uri": "https://localhost:8080/"
        },
        "id": "DEaMLUma0GaX",
        "outputId": "b3a0e499-7096-4914-9fbb-c17e6dbaa5f7"
      },
      "execution_count": 249,
      "outputs": [
        {
          "output_type": "stream",
          "name": "stdout",
          "text": [
            "Epoch 1/100\n",
            "1/1 [==============================] - ETA: 0s - loss: 232.5565 - mae: 232.5565"
          ]
        },
        {
          "output_type": "stream",
          "name": "stderr",
          "text": [
            "WARNING:absl:Found untraced functions such as _update_step_xla while saving (showing 1 of 1). These functions will not be directly callable after loading.\n"
          ]
        },
        {
          "output_type": "stream",
          "name": "stdout",
          "text": [
            "\b\b\b\b\b\b\b\b\b\b\b\b\b\b\b\b\b\b\b\b\b\b\b\b\b\b\b\b\b\b\b\b\b\b\b\b\b\b\b\b\b\b\b\b\b\b\b\b\b\b\b\b\b\b\b\b\b\b\b\b\b\b\b\b\b\b\b\b\b\b\b\b\b\b\b\b\b\b\b\r1/1 [==============================] - 2s 2s/step - loss: 232.5565 - mae: 232.5565 - val_loss: 231.8345 - val_mae: 231.8345\n",
            "Epoch 2/100\n",
            "1/1 [==============================] - ETA: 0s - loss: 226.8650 - mae: 226.8650"
          ]
        },
        {
          "output_type": "stream",
          "name": "stderr",
          "text": [
            "WARNING:absl:Found untraced functions such as _update_step_xla while saving (showing 1 of 1). These functions will not be directly callable after loading.\n"
          ]
        },
        {
          "output_type": "stream",
          "name": "stdout",
          "text": [
            "\b\b\b\b\b\b\b\b\b\b\b\b\b\b\b\b\b\b\b\b\b\b\b\b\b\b\b\b\b\b\b\b\b\b\b\b\b\b\b\b\b\b\b\b\b\b\b\b\b\b\b\b\b\b\b\b\b\b\b\b\b\b\b\b\b\b\b\b\b\b\b\b\b\b\b\b\b\b\b\r1/1 [==============================] - 1s 511ms/step - loss: 226.8650 - mae: 226.8650 - val_loss: 226.0042 - val_mae: 226.0042\n",
            "Epoch 3/100\n",
            "1/1 [==============================] - ETA: 0s - loss: 221.1324 - mae: 221.1324"
          ]
        },
        {
          "output_type": "stream",
          "name": "stderr",
          "text": [
            "WARNING:absl:Found untraced functions such as _update_step_xla while saving (showing 1 of 1). These functions will not be directly callable after loading.\n"
          ]
        },
        {
          "output_type": "stream",
          "name": "stdout",
          "text": [
            "\b\b\b\b\b\b\b\b\b\b\b\b\b\b\b\b\b\b\b\b\b\b\b\b\b\b\b\b\b\b\b\b\b\b\b\b\b\b\b\b\b\b\b\b\b\b\b\b\b\b\b\b\b\b\b\b\b\b\b\b\b\b\b\b\b\b\b\b\b\b\b\b\b\b\b\b\b\b\b\r1/1 [==============================] - 1s 523ms/step - loss: 221.1324 - mae: 221.1324 - val_loss: 220.1514 - val_mae: 220.1514\n",
            "Epoch 4/100\n",
            "1/1 [==============================] - ETA: 0s - loss: 215.3595 - mae: 215.3595"
          ]
        },
        {
          "output_type": "stream",
          "name": "stderr",
          "text": [
            "WARNING:absl:Found untraced functions such as _update_step_xla while saving (showing 1 of 1). These functions will not be directly callable after loading.\n"
          ]
        },
        {
          "output_type": "stream",
          "name": "stdout",
          "text": [
            "\b\b\b\b\b\b\b\b\b\b\b\b\b\b\b\b\b\b\b\b\b\b\b\b\b\b\b\b\b\b\b\b\b\b\b\b\b\b\b\b\b\b\b\b\b\b\b\b\b\b\b\b\b\b\b\b\b\b\b\b\b\b\b\b\b\b\b\b\b\b\b\b\b\b\b\b\b\b\b\r1/1 [==============================] - 1s 541ms/step - loss: 215.3595 - mae: 215.3595 - val_loss: 214.2560 - val_mae: 214.2560\n",
            "Epoch 5/100\n",
            "1/1 [==============================] - ETA: 0s - loss: 209.5440 - mae: 209.5440"
          ]
        },
        {
          "output_type": "stream",
          "name": "stderr",
          "text": [
            "WARNING:absl:Found untraced functions such as _update_step_xla while saving (showing 1 of 1). These functions will not be directly callable after loading.\n"
          ]
        },
        {
          "output_type": "stream",
          "name": "stdout",
          "text": [
            "\b\b\b\b\b\b\b\b\b\b\b\b\b\b\b\b\b\b\b\b\b\b\b\b\b\b\b\b\b\b\b\b\b\b\b\b\b\b\b\b\b\b\b\b\b\b\b\b\b\b\b\b\b\b\b\b\b\b\b\b\b\b\b\b\b\b\b\b\b\b\b\b\b\b\b\b\b\b\b\r1/1 [==============================] - 0s 495ms/step - loss: 209.5440 - mae: 209.5440 - val_loss: 208.3267 - val_mae: 208.3267\n",
            "Epoch 6/100\n",
            "1/1 [==============================] - ETA: 0s - loss: 203.7008 - mae: 203.7008"
          ]
        },
        {
          "output_type": "stream",
          "name": "stderr",
          "text": [
            "WARNING:absl:Found untraced functions such as _update_step_xla while saving (showing 1 of 1). These functions will not be directly callable after loading.\n"
          ]
        },
        {
          "output_type": "stream",
          "name": "stdout",
          "text": [
            "\b\b\b\b\b\b\b\b\b\b\b\b\b\b\b\b\b\b\b\b\b\b\b\b\b\b\b\b\b\b\b\b\b\b\b\b\b\b\b\b\b\b\b\b\b\b\b\b\b\b\b\b\b\b\b\b\b\b\b\b\b\b\b\b\b\b\b\b\b\b\b\b\b\b\b\b\b\b\b\r1/1 [==============================] - 1s 516ms/step - loss: 203.7008 - mae: 203.7008 - val_loss: 202.3787 - val_mae: 202.3787\n",
            "Epoch 7/100\n",
            "1/1 [==============================] - ETA: 0s - loss: 197.8309 - mae: 197.8309"
          ]
        },
        {
          "output_type": "stream",
          "name": "stderr",
          "text": [
            "WARNING:absl:Found untraced functions such as _update_step_xla while saving (showing 1 of 1). These functions will not be directly callable after loading.\n"
          ]
        },
        {
          "output_type": "stream",
          "name": "stdout",
          "text": [
            "\b\b\b\b\b\b\b\b\b\b\b\b\b\b\b\b\b\b\b\b\b\b\b\b\b\b\b\b\b\b\b\b\b\b\b\b\b\b\b\b\b\b\b\b\b\b\b\b\b\b\b\b\b\b\b\b\b\b\b\b\b\b\b\b\b\b\b\b\b\b\b\b\b\b\b\b\b\b\b\r1/1 [==============================] - 1s 514ms/step - loss: 197.8309 - mae: 197.8309 - val_loss: 196.4323 - val_mae: 196.4323\n",
            "Epoch 8/100\n",
            "1/1 [==============================] - ETA: 0s - loss: 191.9491 - mae: 191.9491"
          ]
        },
        {
          "output_type": "stream",
          "name": "stderr",
          "text": [
            "WARNING:absl:Found untraced functions such as _update_step_xla while saving (showing 1 of 1). These functions will not be directly callable after loading.\n"
          ]
        },
        {
          "output_type": "stream",
          "name": "stdout",
          "text": [
            "\b\b\b\b\b\b\b\b\b\b\b\b\b\b\b\b\b\b\b\b\b\b\b\b\b\b\b\b\b\b\b\b\b\b\b\b\b\b\b\b\b\b\b\b\b\b\b\b\b\b\b\b\b\b\b\b\b\b\b\b\b\b\b\b\b\b\b\b\b\b\b\b\b\b\b\b\b\b\b\r1/1 [==============================] - 1s 525ms/step - loss: 191.9491 - mae: 191.9491 - val_loss: 190.4677 - val_mae: 190.4677\n",
            "Epoch 9/100\n",
            "1/1 [==============================] - ETA: 0s - loss: 186.0498 - mae: 186.0498"
          ]
        },
        {
          "output_type": "stream",
          "name": "stderr",
          "text": [
            "WARNING:absl:Found untraced functions such as _update_step_xla while saving (showing 1 of 1). These functions will not be directly callable after loading.\n"
          ]
        },
        {
          "output_type": "stream",
          "name": "stdout",
          "text": [
            "\b\b\b\b\b\b\b\b\b\b\b\b\b\b\b\b\b\b\b\b\b\b\b\b\b\b\b\b\b\b\b\b\b\b\b\b\b\b\b\b\b\b\b\b\b\b\b\b\b\b\b\b\b\b\b\b\b\b\b\b\b\b\b\b\b\b\b\b\b\b\b\b\b\b\b\b\b\b\b\r1/1 [==============================] - 1s 523ms/step - loss: 186.0498 - mae: 186.0498 - val_loss: 184.4737 - val_mae: 184.4737\n",
            "Epoch 10/100\n",
            "1/1 [==============================] - ETA: 0s - loss: 180.1220 - mae: 180.1220"
          ]
        },
        {
          "output_type": "stream",
          "name": "stderr",
          "text": [
            "WARNING:absl:Found untraced functions such as _update_step_xla while saving (showing 1 of 1). These functions will not be directly callable after loading.\n"
          ]
        },
        {
          "output_type": "stream",
          "name": "stdout",
          "text": [
            "\b\b\b\b\b\b\b\b\b\b\b\b\b\b\b\b\b\b\b\b\b\b\b\b\b\b\b\b\b\b\b\b\b\b\b\b\b\b\b\b\b\b\b\b\b\b\b\b\b\b\b\b\b\b\b\b\b\b\b\b\b\b\b\b\b\b\b\b\b\b\b\b\b\b\b\b\b\b\b\r1/1 [==============================] - 1s 519ms/step - loss: 180.1220 - mae: 180.1220 - val_loss: 178.4490 - val_mae: 178.4490\n",
            "Epoch 11/100\n",
            "1/1 [==============================] - ETA: 0s - loss: 174.1659 - mae: 174.1659"
          ]
        },
        {
          "output_type": "stream",
          "name": "stderr",
          "text": [
            "WARNING:absl:Found untraced functions such as _update_step_xla while saving (showing 1 of 1). These functions will not be directly callable after loading.\n"
          ]
        },
        {
          "output_type": "stream",
          "name": "stdout",
          "text": [
            "\b\b\b\b\b\b\b\b\b\b\b\b\b\b\b\b\b\b\b\b\b\b\b\b\b\b\b\b\b\b\b\b\b\b\b\b\b\b\b\b\b\b\b\b\b\b\b\b\b\b\b\b\b\b\b\b\b\b\b\b\b\b\b\b\b\b\b\b\b\b\b\b\b\b\b\b\b\b\b\r1/1 [==============================] - 1s 503ms/step - loss: 174.1659 - mae: 174.1659 - val_loss: 172.3908 - val_mae: 172.3908\n",
            "Epoch 12/100\n",
            "1/1 [==============================] - ETA: 0s - loss: 168.1907 - mae: 168.1907"
          ]
        },
        {
          "output_type": "stream",
          "name": "stderr",
          "text": [
            "WARNING:absl:Found untraced functions such as _update_step_xla while saving (showing 1 of 1). These functions will not be directly callable after loading.\n"
          ]
        },
        {
          "output_type": "stream",
          "name": "stdout",
          "text": [
            "\b\b\b\b\b\b\b\b\b\b\b\b\b\b\b\b\b\b\b\b\b\b\b\b\b\b\b\b\b\b\b\b\b\b\b\b\b\b\b\b\b\b\b\b\b\b\b\b\b\b\b\b\b\b\b\b\b\b\b\b\b\b\b\b\b\b\b\b\b\b\b\b\b\b\b\b\b\b\b\r1/1 [==============================] - 1s 1s/step - loss: 168.1907 - mae: 168.1907 - val_loss: 166.3140 - val_mae: 166.3140\n",
            "Epoch 13/100\n",
            "1/1 [==============================] - ETA: 0s - loss: 162.1924 - mae: 162.1924"
          ]
        },
        {
          "output_type": "stream",
          "name": "stderr",
          "text": [
            "WARNING:absl:Found untraced functions such as _update_step_xla while saving (showing 1 of 1). These functions will not be directly callable after loading.\n"
          ]
        },
        {
          "output_type": "stream",
          "name": "stdout",
          "text": [
            "\b\b\b\b\b\b\b\b\b\b\b\b\b\b\b\b\b\b\b\b\b\b\b\b\b\b\b\b\b\b\b\b\b\b\b\b\b\b\b\b\b\b\b\b\b\b\b\b\b\b\b\b\b\b\b\b\b\b\b\b\b\b\b\b\b\b\b\b\b\b\b\b\b\b\b\b\b\b\b\r1/1 [==============================] - 1s 772ms/step - loss: 162.1924 - mae: 162.1924 - val_loss: 160.2483 - val_mae: 160.2483\n",
            "Epoch 14/100\n",
            "1/1 [==============================] - ETA: 0s - loss: 156.1956 - mae: 156.1956"
          ]
        },
        {
          "output_type": "stream",
          "name": "stderr",
          "text": [
            "WARNING:absl:Found untraced functions such as _update_step_xla while saving (showing 1 of 1). These functions will not be directly callable after loading.\n"
          ]
        },
        {
          "output_type": "stream",
          "name": "stdout",
          "text": [
            "\b\b\b\b\b\b\b\b\b\b\b\b\b\b\b\b\b\b\b\b\b\b\b\b\b\b\b\b\b\b\b\b\b\b\b\b\b\b\b\b\b\b\b\b\b\b\b\b\b\b\b\b\b\b\b\b\b\b\b\b\b\b\b\b\b\b\b\b\b\b\b\b\b\b\b\b\b\b\b\r1/1 [==============================] - 1s 1s/step - loss: 156.1956 - mae: 156.1956 - val_loss: 154.1465 - val_mae: 154.1465\n",
            "Epoch 15/100\n",
            "1/1 [==============================] - ETA: 0s - loss: 150.1631 - mae: 150.1631"
          ]
        },
        {
          "output_type": "stream",
          "name": "stderr",
          "text": [
            "WARNING:absl:Found untraced functions such as _update_step_xla while saving (showing 1 of 1). These functions will not be directly callable after loading.\n"
          ]
        },
        {
          "output_type": "stream",
          "name": "stdout",
          "text": [
            "\b\b\b\b\b\b\b\b\b\b\b\b\b\b\b\b\b\b\b\b\b\b\b\b\b\b\b\b\b\b\b\b\b\b\b\b\b\b\b\b\b\b\b\b\b\b\b\b\b\b\b\b\b\b\b\b\b\b\b\b\b\b\b\b\b\b\b\b\b\b\b\b\b\b\b\b\b\b\b\r1/1 [==============================] - 2s 2s/step - loss: 150.1631 - mae: 150.1631 - val_loss: 148.0063 - val_mae: 148.0063\n",
            "Epoch 16/100\n",
            "1/1 [==============================] - ETA: 0s - loss: 144.0932 - mae: 144.0932"
          ]
        },
        {
          "output_type": "stream",
          "name": "stderr",
          "text": [
            "WARNING:absl:Found untraced functions such as _update_step_xla while saving (showing 1 of 1). These functions will not be directly callable after loading.\n"
          ]
        },
        {
          "output_type": "stream",
          "name": "stdout",
          "text": [
            "\b\b\b\b\b\b\b\b\b\b\b\b\b\b\b\b\b\b\b\b\b\b\b\b\b\b\b\b\b\b\b\b\b\b\b\b\b\b\b\b\b\b\b\b\b\b\b\b\b\b\b\b\b\b\b\b\b\b\b\b\b\b\b\b\b\b\b\b\b\b\b\b\b\b\b\b\b\b\b\r1/1 [==============================] - 1s 986ms/step - loss: 144.0932 - mae: 144.0932 - val_loss: 141.8259 - val_mae: 141.8259\n",
            "Epoch 17/100\n",
            "1/1 [==============================] - ETA: 0s - loss: 137.9839 - mae: 137.9839"
          ]
        },
        {
          "output_type": "stream",
          "name": "stderr",
          "text": [
            "WARNING:absl:Found untraced functions such as _update_step_xla while saving (showing 1 of 1). These functions will not be directly callable after loading.\n"
          ]
        },
        {
          "output_type": "stream",
          "name": "stdout",
          "text": [
            "\b\b\b\b\b\b\b\b\b\b\b\b\b\b\b\b\b\b\b\b\b\b\b\b\b\b\b\b\b\b\b\b\b\b\b\b\b\b\b\b\b\b\b\b\b\b\b\b\b\b\b\b\b\b\b\b\b\b\b\b\b\b\b\b\b\b\b\b\b\b\b\b\b\b\b\b\b\b\b\r1/1 [==============================] - 1s 616ms/step - loss: 137.9839 - mae: 137.9839 - val_loss: 135.6034 - val_mae: 135.6034\n",
            "Epoch 18/100\n",
            "1/1 [==============================] - ETA: 0s - loss: 131.8334 - mae: 131.8334"
          ]
        },
        {
          "output_type": "stream",
          "name": "stderr",
          "text": [
            "WARNING:absl:Found untraced functions such as _update_step_xla while saving (showing 1 of 1). These functions will not be directly callable after loading.\n"
          ]
        },
        {
          "output_type": "stream",
          "name": "stdout",
          "text": [
            "\b\b\b\b\b\b\b\b\b\b\b\b\b\b\b\b\b\b\b\b\b\b\b\b\b\b\b\b\b\b\b\b\b\b\b\b\b\b\b\b\b\b\b\b\b\b\b\b\b\b\b\b\b\b\b\b\b\b\b\b\b\b\b\b\b\b\b\b\b\b\b\b\b\b\b\b\b\b\b\r1/1 [==============================] - 1s 521ms/step - loss: 131.8334 - mae: 131.8334 - val_loss: 129.3369 - val_mae: 129.3369\n",
            "Epoch 19/100\n",
            "1/1 [==============================] - ETA: 0s - loss: 125.6398 - mae: 125.6398"
          ]
        },
        {
          "output_type": "stream",
          "name": "stderr",
          "text": [
            "WARNING:absl:Found untraced functions such as _update_step_xla while saving (showing 1 of 1). These functions will not be directly callable after loading.\n"
          ]
        },
        {
          "output_type": "stream",
          "name": "stdout",
          "text": [
            "\b\b\b\b\b\b\b\b\b\b\b\b\b\b\b\b\b\b\b\b\b\b\b\b\b\b\b\b\b\b\b\b\b\b\b\b\b\b\b\b\b\b\b\b\b\b\b\b\b\b\b\b\b\b\b\b\b\b\b\b\b\b\b\b\b\b\b\b\b\b\b\b\b\b\b\b\b\b\b\r1/1 [==============================] - 1s 521ms/step - loss: 125.6398 - mae: 125.6398 - val_loss: 123.0257 - val_mae: 123.0257\n",
            "Epoch 20/100\n",
            "1/1 [==============================] - ETA: 0s - loss: 119.4083 - mae: 119.4083"
          ]
        },
        {
          "output_type": "stream",
          "name": "stderr",
          "text": [
            "WARNING:absl:Found untraced functions such as _update_step_xla while saving (showing 1 of 1). These functions will not be directly callable after loading.\n"
          ]
        },
        {
          "output_type": "stream",
          "name": "stdout",
          "text": [
            "\b\b\b\b\b\b\b\b\b\b\b\b\b\b\b\b\b\b\b\b\b\b\b\b\b\b\b\b\b\b\b\b\b\b\b\b\b\b\b\b\b\b\b\b\b\b\b\b\b\b\b\b\b\b\b\b\b\b\b\b\b\b\b\b\b\b\b\b\b\b\b\b\b\b\b\b\b\b\b\r1/1 [==============================] - 1s 508ms/step - loss: 119.4083 - mae: 119.4083 - val_loss: 116.6730 - val_mae: 116.6730\n",
            "Epoch 21/100\n",
            "1/1 [==============================] - ETA: 0s - loss: 113.1444 - mae: 113.1444"
          ]
        },
        {
          "output_type": "stream",
          "name": "stderr",
          "text": [
            "WARNING:absl:Found untraced functions such as _update_step_xla while saving (showing 1 of 1). These functions will not be directly callable after loading.\n"
          ]
        },
        {
          "output_type": "stream",
          "name": "stdout",
          "text": [
            "\b\b\b\b\b\b\b\b\b\b\b\b\b\b\b\b\b\b\b\b\b\b\b\b\b\b\b\b\b\b\b\b\b\b\b\b\b\b\b\b\b\b\b\b\b\b\b\b\b\b\b\b\b\b\b\b\b\b\b\b\b\b\b\b\b\b\b\b\b\b\b\b\b\b\b\b\b\b\b\r1/1 [==============================] - 1s 510ms/step - loss: 113.1444 - mae: 113.1444 - val_loss: 110.2756 - val_mae: 110.2756\n",
            "Epoch 22/100\n",
            "1/1 [==============================] - ETA: 0s - loss: 106.8395 - mae: 106.8395"
          ]
        },
        {
          "output_type": "stream",
          "name": "stderr",
          "text": [
            "WARNING:absl:Found untraced functions such as _update_step_xla while saving (showing 1 of 1). These functions will not be directly callable after loading.\n"
          ]
        },
        {
          "output_type": "stream",
          "name": "stdout",
          "text": [
            "\b\b\b\b\b\b\b\b\b\b\b\b\b\b\b\b\b\b\b\b\b\b\b\b\b\b\b\b\b\b\b\b\b\b\b\b\b\b\b\b\b\b\b\b\b\b\b\b\b\b\b\b\b\b\b\b\b\b\b\b\b\b\b\b\b\b\b\b\b\b\b\b\b\b\b\b\b\b\b\r1/1 [==============================] - 1s 522ms/step - loss: 106.8395 - mae: 106.8395 - val_loss: 103.8545 - val_mae: 103.8545\n",
            "Epoch 23/100\n",
            "1/1 [==============================] - ETA: 0s - loss: 100.4886 - mae: 100.4886"
          ]
        },
        {
          "output_type": "stream",
          "name": "stderr",
          "text": [
            "WARNING:absl:Found untraced functions such as _update_step_xla while saving (showing 1 of 1). These functions will not be directly callable after loading.\n"
          ]
        },
        {
          "output_type": "stream",
          "name": "stdout",
          "text": [
            "\b\b\b\b\b\b\b\b\b\b\b\b\b\b\b\b\b\b\b\b\b\b\b\b\b\b\b\b\b\b\b\b\b\b\b\b\b\b\b\b\b\b\b\b\b\b\b\b\b\b\b\b\b\b\b\b\b\b\b\b\b\b\b\b\b\b\b\b\b\b\b\b\b\b\b\b\b\b\b\r1/1 [==============================] - 1s 519ms/step - loss: 100.4886 - mae: 100.4886 - val_loss: 97.3848 - val_mae: 97.3848\n",
            "Epoch 24/100\n",
            "1/1 [==============================] - ETA: 0s - loss: 94.1020 - mae: 94.1020"
          ]
        },
        {
          "output_type": "stream",
          "name": "stderr",
          "text": [
            "WARNING:absl:Found untraced functions such as _update_step_xla while saving (showing 1 of 1). These functions will not be directly callable after loading.\n"
          ]
        },
        {
          "output_type": "stream",
          "name": "stdout",
          "text": [
            "\b\b\b\b\b\b\b\b\b\b\b\b\b\b\b\b\b\b\b\b\b\b\b\b\b\b\b\b\b\b\b\b\b\b\b\b\b\b\b\b\b\b\b\b\b\b\b\b\b\b\b\b\b\b\b\b\b\b\b\b\b\b\b\b\b\b\b\b\b\b\b\b\b\b\b\b\b\r1/1 [==============================] - 1s 536ms/step - loss: 94.1020 - mae: 94.1020 - val_loss: 90.8601 - val_mae: 90.8601\n",
            "Epoch 25/100\n",
            "1/1 [==============================] - ETA: 0s - loss: 87.6623 - mae: 87.6623"
          ]
        },
        {
          "output_type": "stream",
          "name": "stderr",
          "text": [
            "WARNING:absl:Found untraced functions such as _update_step_xla while saving (showing 1 of 1). These functions will not be directly callable after loading.\n"
          ]
        },
        {
          "output_type": "stream",
          "name": "stdout",
          "text": [
            "\b\b\b\b\b\b\b\b\b\b\b\b\b\b\b\b\b\b\b\b\b\b\b\b\b\b\b\b\b\b\b\b\b\b\b\b\b\b\b\b\b\b\b\b\b\b\b\b\b\b\b\b\b\b\b\b\b\b\b\b\b\b\b\b\b\b\b\b\b\b\b\b\b\b\b\b\b\r1/1 [==============================] - 1s 511ms/step - loss: 87.6623 - mae: 87.6623 - val_loss: 84.2787 - val_mae: 84.2787\n",
            "Epoch 26/100\n",
            "1/1 [==============================] - ETA: 0s - loss: 81.1668 - mae: 81.1668"
          ]
        },
        {
          "output_type": "stream",
          "name": "stderr",
          "text": [
            "WARNING:absl:Found untraced functions such as _update_step_xla while saving (showing 1 of 1). These functions will not be directly callable after loading.\n"
          ]
        },
        {
          "output_type": "stream",
          "name": "stdout",
          "text": [
            "\b\b\b\b\b\b\b\b\b\b\b\b\b\b\b\b\b\b\b\b\b\b\b\b\b\b\b\b\b\b\b\b\b\b\b\b\b\b\b\b\b\b\b\b\b\b\b\b\b\b\b\b\b\b\b\b\b\b\b\b\b\b\b\b\b\b\b\b\b\b\b\b\b\b\b\b\b\r1/1 [==============================] - 1s 524ms/step - loss: 81.1668 - mae: 81.1668 - val_loss: 77.6389 - val_mae: 77.6389\n",
            "Epoch 27/100\n",
            "1/1 [==============================] - ETA: 0s - loss: 74.6140 - mae: 74.6140"
          ]
        },
        {
          "output_type": "stream",
          "name": "stderr",
          "text": [
            "WARNING:absl:Found untraced functions such as _update_step_xla while saving (showing 1 of 1). These functions will not be directly callable after loading.\n"
          ]
        },
        {
          "output_type": "stream",
          "name": "stdout",
          "text": [
            "\b\b\b\b\b\b\b\b\b\b\b\b\b\b\b\b\b\b\b\b\b\b\b\b\b\b\b\b\b\b\b\b\b\b\b\b\b\b\b\b\b\b\b\b\b\b\b\b\b\b\b\b\b\b\b\b\b\b\b\b\b\b\b\b\b\b\b\b\b\b\b\b\b\b\b\b\b\r1/1 [==============================] - 1s 519ms/step - loss: 74.6140 - mae: 74.6140 - val_loss: 70.9412 - val_mae: 70.9412\n",
            "Epoch 28/100\n",
            "1/1 [==============================] - ETA: 0s - loss: 68.0048 - mae: 68.0048"
          ]
        },
        {
          "output_type": "stream",
          "name": "stderr",
          "text": [
            "WARNING:absl:Found untraced functions such as _update_step_xla while saving (showing 1 of 1). These functions will not be directly callable after loading.\n"
          ]
        },
        {
          "output_type": "stream",
          "name": "stdout",
          "text": [
            "\b\b\b\b\b\b\b\b\b\b\b\b\b\b\b\b\b\b\b\b\b\b\b\b\b\b\b\b\b\b\b\b\b\b\b\b\b\b\b\b\b\b\b\b\b\b\b\b\b\b\b\b\b\b\b\b\b\b\b\b\b\b\b\b\b\b\b\b\b\b\b\b\b\b\b\b\b\r1/1 [==============================] - 1s 519ms/step - loss: 68.0048 - mae: 68.0048 - val_loss: 64.1900 - val_mae: 64.1900\n",
            "Epoch 29/100\n",
            "1/1 [==============================] - ETA: 0s - loss: 61.3452 - mae: 61.3452"
          ]
        },
        {
          "output_type": "stream",
          "name": "stderr",
          "text": [
            "WARNING:absl:Found untraced functions such as _update_step_xla while saving (showing 1 of 1). These functions will not be directly callable after loading.\n"
          ]
        },
        {
          "output_type": "stream",
          "name": "stdout",
          "text": [
            "\b\b\b\b\b\b\b\b\b\b\b\b\b\b\b\b\b\b\b\b\b\b\b\b\b\b\b\b\b\b\b\b\b\b\b\b\b\b\b\b\b\b\b\b\b\b\b\b\b\b\b\b\b\b\b\b\b\b\b\b\b\b\b\b\b\b\b\b\b\b\b\b\b\b\b\b\b\r1/1 [==============================] - 1s 593ms/step - loss: 61.3452 - mae: 61.3452 - val_loss: 57.3748 - val_mae: 57.3748\n",
            "Epoch 30/100\n",
            "1/1 [==============================] - ETA: 0s - loss: 54.6226 - mae: 54.6226"
          ]
        },
        {
          "output_type": "stream",
          "name": "stderr",
          "text": [
            "WARNING:absl:Found untraced functions such as _update_step_xla while saving (showing 1 of 1). These functions will not be directly callable after loading.\n"
          ]
        },
        {
          "output_type": "stream",
          "name": "stdout",
          "text": [
            "\b\b\b\b\b\b\b\b\b\b\b\b\b\b\b\b\b\b\b\b\b\b\b\b\b\b\b\b\b\b\b\b\b\b\b\b\b\b\b\b\b\b\b\b\b\b\b\b\b\b\b\b\b\b\b\b\b\b\b\b\b\b\b\b\b\b\b\b\b\b\b\b\b\b\b\b\b\r1/1 [==============================] - 1s 747ms/step - loss: 54.6226 - mae: 54.6226 - val_loss: 50.4939 - val_mae: 50.4939\n",
            "Epoch 31/100\n",
            "1/1 [==============================] - ETA: 0s - loss: 47.8368 - mae: 47.8368"
          ]
        },
        {
          "output_type": "stream",
          "name": "stderr",
          "text": [
            "WARNING:absl:Found untraced functions such as _update_step_xla while saving (showing 1 of 1). These functions will not be directly callable after loading.\n"
          ]
        },
        {
          "output_type": "stream",
          "name": "stdout",
          "text": [
            "\b\b\b\b\b\b\b\b\b\b\b\b\b\b\b\b\b\b\b\b\b\b\b\b\b\b\b\b\b\b\b\b\b\b\b\b\b\b\b\b\b\b\b\b\b\b\b\b\b\b\b\b\b\b\b\b\b\b\b\b\b\b\b\b\b\b\b\b\b\b\b\b\b\b\b\b\b\r1/1 [==============================] - 1s 1s/step - loss: 47.8368 - mae: 47.8368 - val_loss: 43.5503 - val_mae: 43.5503\n",
            "Epoch 32/100\n",
            "1/1 [==============================] - ETA: 0s - loss: 40.9869 - mae: 40.9869"
          ]
        },
        {
          "output_type": "stream",
          "name": "stderr",
          "text": [
            "WARNING:absl:Found untraced functions such as _update_step_xla while saving (showing 1 of 1). These functions will not be directly callable after loading.\n"
          ]
        },
        {
          "output_type": "stream",
          "name": "stdout",
          "text": [
            "\b\b\b\b\b\b\b\b\b\b\b\b\b\b\b\b\b\b\b\b\b\b\b\b\b\b\b\b\b\b\b\b\b\b\b\b\b\b\b\b\b\b\b\b\b\b\b\b\b\b\b\b\b\b\b\b\b\b\b\b\b\b\b\b\b\b\b\b\b\b\b\b\b\b\b\b\b\r1/1 [==============================] - 1s 1s/step - loss: 40.9869 - mae: 40.9869 - val_loss: 36.5393 - val_mae: 36.5393\n",
            "Epoch 33/100\n",
            "1/1 [==============================] - ETA: 0s - loss: 34.0690 - mae: 34.0690"
          ]
        },
        {
          "output_type": "stream",
          "name": "stderr",
          "text": [
            "WARNING:absl:Found untraced functions such as _update_step_xla while saving (showing 1 of 1). These functions will not be directly callable after loading.\n"
          ]
        },
        {
          "output_type": "stream",
          "name": "stdout",
          "text": [
            "\b\b\b\b\b\b\b\b\b\b\b\b\b\b\b\b\b\b\b\b\b\b\b\b\b\b\b\b\b\b\b\b\b\b\b\b\b\b\b\b\b\b\b\b\b\b\b\b\b\b\b\b\b\b\b\b\b\b\b\b\b\b\b\b\b\b\b\b\b\b\b\b\b\b\b\b\b\r1/1 [==============================] - 1s 1s/step - loss: 34.0690 - mae: 34.0690 - val_loss: 29.4575 - val_mae: 29.4575\n",
            "Epoch 34/100\n",
            "1/1 [==============================] - ETA: 0s - loss: 27.0815 - mae: 27.0815"
          ]
        },
        {
          "output_type": "stream",
          "name": "stderr",
          "text": [
            "WARNING:absl:Found untraced functions such as _update_step_xla while saving (showing 1 of 1). These functions will not be directly callable after loading.\n"
          ]
        },
        {
          "output_type": "stream",
          "name": "stdout",
          "text": [
            "\b\b\b\b\b\b\b\b\b\b\b\b\b\b\b\b\b\b\b\b\b\b\b\b\b\b\b\b\b\b\b\b\b\b\b\b\b\b\b\b\b\b\b\b\b\b\b\b\b\b\b\b\b\b\b\b\b\b\b\b\b\b\b\b\b\b\b\b\b\b\b\b\b\b\b\b\b\r1/1 [==============================] - 1s 838ms/step - loss: 27.0815 - mae: 27.0815 - val_loss: 22.3049 - val_mae: 22.3049\n",
            "Epoch 35/100\n",
            "1/1 [==============================] - ETA: 0s - loss: 20.0245 - mae: 20.0245"
          ]
        },
        {
          "output_type": "stream",
          "name": "stderr",
          "text": [
            "WARNING:absl:Found untraced functions such as _update_step_xla while saving (showing 1 of 1). These functions will not be directly callable after loading.\n"
          ]
        },
        {
          "output_type": "stream",
          "name": "stdout",
          "text": [
            "\b\b\b\b\b\b\b\b\b\b\b\b\b\b\b\b\b\b\b\b\b\b\b\b\b\b\b\b\b\b\b\b\b\b\b\b\b\b\b\b\b\b\b\b\b\b\b\b\b\b\b\b\b\b\b\b\b\b\b\b\b\b\b\b\b\b\b\b\b\b\b\b\b\b\b\b\b\r1/1 [==============================] - 1s 513ms/step - loss: 20.0245 - mae: 20.0245 - val_loss: 15.0784 - val_mae: 15.0784\n",
            "Epoch 36/100\n",
            "1/1 [==============================] - ETA: 0s - loss: 13.0579 - mae: 13.0579"
          ]
        },
        {
          "output_type": "stream",
          "name": "stderr",
          "text": [
            "WARNING:absl:Found untraced functions such as _update_step_xla while saving (showing 1 of 1). These functions will not be directly callable after loading.\n"
          ]
        },
        {
          "output_type": "stream",
          "name": "stdout",
          "text": [
            "\b\b\b\b\b\b\b\b\b\b\b\b\b\b\b\b\b\b\b\b\b\b\b\b\b\b\b\b\b\b\b\b\b\b\b\b\b\b\b\b\b\b\b\b\b\b\b\b\b\b\b\b\b\b\b\b\b\b\b\b\b\b\b\b\b\b\b\b\b\b\b\b\b\b\b\b\b\r1/1 [==============================] - 1s 531ms/step - loss: 13.0579 - mae: 13.0579 - val_loss: 9.9780 - val_mae: 9.9780\n",
            "Epoch 37/100\n",
            "1/1 [==============================] - ETA: 0s - loss: 12.2274 - mae: 12.2274"
          ]
        },
        {
          "output_type": "stream",
          "name": "stderr",
          "text": [
            "WARNING:absl:Found untraced functions such as _update_step_xla while saving (showing 1 of 1). These functions will not be directly callable after loading.\n"
          ]
        },
        {
          "output_type": "stream",
          "name": "stdout",
          "text": [
            "\b\b\b\b\b\b\b\b\b\b\b\b\b\b\b\b\b\b\b\b\b\b\b\b\b\b\b\b\b\b\b\b\b\b\b\b\b\b\b\b\b\b\b\b\b\b\b\b\b\b\b\b\b\b\b\b\b\b\b\b\b\b\b\b\b\b\b\b\b\b\b\b\b\b\b\b\b\r1/1 [==============================] - 1s 510ms/step - loss: 12.2274 - mae: 12.2274 - val_loss: 8.2819 - val_mae: 8.2819\n",
            "Epoch 38/100\n",
            "1/1 [==============================] - 0s 57ms/step - loss: 12.3164 - mae: 12.3164 - val_loss: 9.4602 - val_mae: 9.4602\n",
            "Epoch 39/100\n",
            "1/1 [==============================] - 0s 38ms/step - loss: 15.0785 - mae: 15.0785 - val_loss: 10.4433 - val_mae: 10.4433\n",
            "Epoch 40/100\n",
            "1/1 [==============================] - 0s 56ms/step - loss: 17.5851 - mae: 17.5851 - val_loss: 13.4076 - val_mae: 13.4076\n",
            "Epoch 41/100\n",
            "1/1 [==============================] - 0s 40ms/step - loss: 19.6304 - mae: 19.6304 - val_loss: 16.6074 - val_mae: 16.6074\n",
            "Epoch 42/100\n",
            "1/1 [==============================] - 0s 39ms/step - loss: 21.2515 - mae: 21.2515 - val_loss: 19.0390 - val_mae: 19.0390\n",
            "Epoch 43/100\n",
            "1/1 [==============================] - 0s 57ms/step - loss: 22.4838 - mae: 22.4838 - val_loss: 20.7676 - val_mae: 20.7676\n",
            "Epoch 44/100\n",
            "1/1 [==============================] - 0s 47ms/step - loss: 23.3598 - mae: 23.3598 - val_loss: 21.8545 - val_mae: 21.8545\n",
            "Epoch 45/100\n",
            "1/1 [==============================] - 0s 54ms/step - loss: 23.9105 - mae: 23.9105 - val_loss: 22.3572 - val_mae: 22.3572\n",
            "Epoch 46/100\n",
            "1/1 [==============================] - 0s 59ms/step - loss: 24.1651 - mae: 24.1651 - val_loss: 22.3295 - val_mae: 22.3295\n",
            "Epoch 47/100\n",
            "1/1 [==============================] - 0s 40ms/step - loss: 24.1509 - mae: 24.1509 - val_loss: 21.8211 - val_mae: 21.8211\n",
            "Epoch 48/100\n",
            "1/1 [==============================] - 0s 61ms/step - loss: 23.8930 - mae: 23.8930 - val_loss: 20.8783 - val_mae: 20.8783\n",
            "Epoch 49/100\n",
            "1/1 [==============================] - 0s 40ms/step - loss: 23.4147 - mae: 23.4147 - val_loss: 19.5438 - val_mae: 19.5438\n",
            "Epoch 50/100\n",
            "1/1 [==============================] - 0s 39ms/step - loss: 22.7379 - mae: 22.7379 - val_loss: 17.8568 - val_mae: 17.8568\n",
            "Epoch 51/100\n",
            "1/1 [==============================] - 0s 39ms/step - loss: 21.8825 - mae: 21.8825 - val_loss: 15.8532 - val_mae: 15.8532\n",
            "Epoch 52/100\n",
            "1/1 [==============================] - 0s 38ms/step - loss: 20.8667 - mae: 20.8667 - val_loss: 13.5661 - val_mae: 13.5661\n",
            "Epoch 53/100\n",
            "1/1 [==============================] - 0s 57ms/step - loss: 19.7073 - mae: 19.7073 - val_loss: 11.0259 - val_mae: 11.0259\n",
            "Epoch 54/100\n",
            "1/1 [==============================] - 0s 40ms/step - loss: 18.4196 - mae: 18.4196 - val_loss: 10.2387 - val_mae: 10.2387\n",
            "Epoch 55/100\n",
            "1/1 [==============================] - 0s 55ms/step - loss: 17.0177 - mae: 17.0177 - val_loss: 9.6494 - val_mae: 9.6494\n",
            "Epoch 56/100\n",
            "1/1 [==============================] - 0s 57ms/step - loss: 15.5141 - mae: 15.5141 - val_loss: 9.0249 - val_mae: 9.0249\n",
            "Epoch 57/100\n",
            "1/1 [==============================] - 0s 39ms/step - loss: 13.9206 - mae: 13.9206 - val_loss: 8.3691 - val_mae: 8.3691\n",
            "Epoch 58/100\n",
            "1/1 [==============================] - ETA: 0s - loss: 12.2888 - mae: 12.2888"
          ]
        },
        {
          "output_type": "stream",
          "name": "stderr",
          "text": [
            "WARNING:absl:Found untraced functions such as _update_step_xla while saving (showing 1 of 1). These functions will not be directly callable after loading.\n"
          ]
        },
        {
          "output_type": "stream",
          "name": "stdout",
          "text": [
            "\b\b\b\b\b\b\b\b\b\b\b\b\b\b\b\b\b\b\b\b\b\b\b\b\b\b\b\b\b\b\b\b\b\b\b\b\b\b\b\b\b\b\b\b\b\b\b\b\b\b\b\b\b\b\b\b\b\b\b\b\b\b\b\b\b\b\b\b\b\b\b\b\b\b\b\b\b\r1/1 [==============================] - 1s 526ms/step - loss: 12.2888 - mae: 12.2888 - val_loss: 7.7748 - val_mae: 7.7748\n",
            "Epoch 59/100\n",
            "1/1 [==============================] - 0s 56ms/step - loss: 12.2443 - mae: 12.2443 - val_loss: 9.2684 - val_mae: 9.2684\n",
            "Epoch 60/100\n",
            "1/1 [==============================] - 0s 37ms/step - loss: 12.2031 - mae: 12.2031 - val_loss: 10.7469 - val_mae: 10.7469\n",
            "Epoch 61/100\n",
            "1/1 [==============================] - 0s 37ms/step - loss: 12.1646 - mae: 12.1646 - val_loss: 12.0911 - val_mae: 12.0911\n",
            "Epoch 62/100\n",
            "1/1 [==============================] - 0s 36ms/step - loss: 12.1287 - mae: 12.1287 - val_loss: 13.6313 - val_mae: 13.6313\n",
            "Epoch 63/100\n",
            "1/1 [==============================] - 0s 38ms/step - loss: 12.1951 - mae: 12.1951 - val_loss: 15.3766 - val_mae: 15.3766\n",
            "Epoch 64/100\n",
            "1/1 [==============================] - 0s 54ms/step - loss: 13.2178 - mae: 13.2178 - val_loss: 16.3734 - val_mae: 16.3734\n",
            "Epoch 65/100\n",
            "1/1 [==============================] - 0s 37ms/step - loss: 14.1922 - mae: 14.1922 - val_loss: 16.3464 - val_mae: 16.3464\n",
            "Epoch 66/100\n",
            "1/1 [==============================] - 0s 37ms/step - loss: 14.1667 - mae: 14.1667 - val_loss: 15.4133 - val_mae: 15.4133\n",
            "Epoch 67/100\n",
            "1/1 [==============================] - 0s 40ms/step - loss: 13.2472 - mae: 13.2472 - val_loss: 13.6739 - val_mae: 13.6739\n",
            "Epoch 68/100\n",
            "1/1 [==============================] - 0s 36ms/step - loss: 12.1837 - mae: 12.1837 - val_loss: 12.3177 - val_mae: 12.3177\n",
            "Epoch 69/100\n",
            "1/1 [==============================] - 0s 52ms/step - loss: 12.0953 - mae: 12.0953 - val_loss: 11.4073 - val_mae: 11.4073\n",
            "Epoch 70/100\n",
            "1/1 [==============================] - 0s 63ms/step - loss: 12.1122 - mae: 12.1122 - val_loss: 10.5881 - val_mae: 10.5881\n",
            "Epoch 71/100\n",
            "1/1 [==============================] - 0s 51ms/step - loss: 12.1266 - mae: 12.1266 - val_loss: 9.8519 - val_mae: 9.8519\n",
            "Epoch 72/100\n",
            "1/1 [==============================] - 0s 57ms/step - loss: 12.1386 - mae: 12.1386 - val_loss: 9.1913 - val_mae: 9.1913\n",
            "Epoch 73/100\n",
            "1/1 [==============================] - 0s 52ms/step - loss: 12.1485 - mae: 12.1485 - val_loss: 8.5996 - val_mae: 8.5996\n",
            "Epoch 74/100\n",
            "1/1 [==============================] - 0s 46ms/step - loss: 12.1565 - mae: 12.1565 - val_loss: 8.0705 - val_mae: 8.0705\n",
            "Epoch 75/100\n",
            "1/1 [==============================] - 0s 36ms/step - loss: 12.1627 - mae: 12.1627 - val_loss: 7.8351 - val_mae: 7.8351\n",
            "Epoch 76/100\n",
            "1/1 [==============================] - 0s 44ms/step - loss: 12.1673 - mae: 12.1673 - val_loss: 7.9794 - val_mae: 7.9794\n",
            "Epoch 77/100\n",
            "1/1 [==============================] - 0s 44ms/step - loss: 12.1705 - mae: 12.1705 - val_loss: 8.1082 - val_mae: 8.1082\n",
            "Epoch 78/100\n",
            "1/1 [==============================] - 0s 37ms/step - loss: 12.1722 - mae: 12.1722 - val_loss: 8.2230 - val_mae: 8.2230\n",
            "Epoch 79/100\n",
            "1/1 [==============================] - 0s 36ms/step - loss: 12.1728 - mae: 12.1728 - val_loss: 8.3251 - val_mae: 8.3251\n",
            "Epoch 80/100\n",
            "1/1 [==============================] - 0s 37ms/step - loss: 12.1722 - mae: 12.1722 - val_loss: 8.4156 - val_mae: 8.4156\n",
            "Epoch 81/100\n",
            "1/1 [==============================] - 0s 36ms/step - loss: 12.1706 - mae: 12.1706 - val_loss: 8.4956 - val_mae: 8.4956\n",
            "Epoch 82/100\n",
            "1/1 [==============================] - 0s 37ms/step - loss: 12.3029 - mae: 12.3029 - val_loss: 8.4624 - val_mae: 8.4624\n",
            "Epoch 83/100\n",
            "1/1 [==============================] - 0s 35ms/step - loss: 12.2021 - mae: 12.2021 - val_loss: 8.3269 - val_mae: 8.3269\n",
            "Epoch 84/100\n",
            "1/1 [==============================] - 0s 39ms/step - loss: 12.1425 - mae: 12.1425 - val_loss: 8.2023 - val_mae: 8.2023\n",
            "Epoch 85/100\n",
            "1/1 [==============================] - 0s 35ms/step - loss: 12.1269 - mae: 12.1269 - val_loss: 8.0876 - val_mae: 8.0876\n",
            "Epoch 86/100\n",
            "1/1 [==============================] - 0s 35ms/step - loss: 12.1117 - mae: 12.1117 - val_loss: 7.9819 - val_mae: 7.9819\n",
            "Epoch 87/100\n",
            "1/1 [==============================] - 0s 36ms/step - loss: 12.0968 - mae: 12.0968 - val_loss: 7.8841 - val_mae: 7.8841\n",
            "Epoch 88/100\n",
            "1/1 [==============================] - 0s 37ms/step - loss: 12.0822 - mae: 12.0822 - val_loss: 7.9265 - val_mae: 7.9265\n",
            "Epoch 89/100\n",
            "1/1 [==============================] - 0s 35ms/step - loss: 12.0679 - mae: 12.0679 - val_loss: 8.1970 - val_mae: 8.1970\n",
            "Epoch 90/100\n",
            "1/1 [==============================] - 0s 35ms/step - loss: 12.0538 - mae: 12.0538 - val_loss: 8.4501 - val_mae: 8.4501\n",
            "Epoch 91/100\n",
            "1/1 [==============================] - 0s 35ms/step - loss: 12.0398 - mae: 12.0398 - val_loss: 8.6875 - val_mae: 8.6875\n",
            "Epoch 92/100\n",
            "1/1 [==============================] - 0s 36ms/step - loss: 12.0260 - mae: 12.0260 - val_loss: 8.9108 - val_mae: 8.9108\n",
            "Epoch 93/100\n",
            "1/1 [==============================] - 0s 36ms/step - loss: 12.0124 - mae: 12.0124 - val_loss: 9.1214 - val_mae: 9.1214\n",
            "Epoch 94/100\n",
            "1/1 [==============================] - 0s 37ms/step - loss: 11.9989 - mae: 11.9989 - val_loss: 9.3211 - val_mae: 9.3211\n",
            "Epoch 95/100\n",
            "1/1 [==============================] - 0s 37ms/step - loss: 11.9854 - mae: 11.9854 - val_loss: 9.5113 - val_mae: 9.5113\n",
            "Epoch 96/100\n",
            "1/1 [==============================] - 0s 36ms/step - loss: 11.9720 - mae: 11.9720 - val_loss: 9.6922 - val_mae: 9.6922\n",
            "Epoch 97/100\n",
            "1/1 [==============================] - 0s 36ms/step - loss: 11.9588 - mae: 11.9588 - val_loss: 9.8645 - val_mae: 9.8645\n",
            "Epoch 98/100\n",
            "1/1 [==============================] - 0s 44ms/step - loss: 11.9465 - mae: 11.9465 - val_loss: 10.0291 - val_mae: 10.0291\n",
            "Epoch 99/100\n",
            "1/1 [==============================] - 0s 36ms/step - loss: 11.9343 - mae: 11.9343 - val_loss: 10.1866 - val_mae: 10.1866\n",
            "Epoch 100/100\n",
            "1/1 [==============================] - 0s 52ms/step - loss: 11.9222 - mae: 11.9222 - val_loss: 10.3378 - val_mae: 10.3378\n"
          ]
        },
        {
          "output_type": "execute_result",
          "data": {
            "text/plain": [
              "<keras.callbacks.History at 0x7e25de3aef50>"
            ]
          },
          "metadata": {},
          "execution_count": 249
        }
      ]
    },
    {
      "cell_type": "code",
      "source": [
        "# Evaluate model on test data\n",
        "model_1.evaluate(test_windows, test_labels)"
      ],
      "metadata": {
        "colab": {
          "base_uri": "https://localhost:8080/"
        },
        "id": "L_QrF1TO0K3-",
        "outputId": "767931e3-3e89-4e0e-c73f-2f985d6e4109"
      },
      "execution_count": 250,
      "outputs": [
        {
          "output_type": "stream",
          "name": "stdout",
          "text": [
            "1/1 [==============================] - 0s 35ms/step - loss: 10.3378 - mae: 10.3378\n"
          ]
        },
        {
          "output_type": "execute_result",
          "data": {
            "text/plain": [
              "[10.337786674499512, 10.337786674499512]"
            ]
          },
          "metadata": {},
          "execution_count": 250
        }
      ]
    },
    {
      "cell_type": "code",
      "source": [
        "# Load in saved best performing model_1 and evaluate on test data\n",
        "model_1 = tf.keras.models.load_model(\"model_experiments/model_1_dense\")\n",
        "model_1.evaluate(test_windows, test_labels)"
      ],
      "metadata": {
        "colab": {
          "base_uri": "https://localhost:8080/"
        },
        "id": "SZv71bIG0QfW",
        "outputId": "aac19ce0-5448-413d-9559-db620f93b1e8"
      },
      "execution_count": 251,
      "outputs": [
        {
          "output_type": "stream",
          "name": "stdout",
          "text": [
            "1/1 [==============================] - 0s 107ms/step - loss: 7.7748 - mae: 7.7748\n"
          ]
        },
        {
          "output_type": "execute_result",
          "data": {
            "text/plain": [
              "[7.774816989898682, 7.774816989898682]"
            ]
          },
          "metadata": {},
          "execution_count": 251
        }
      ]
    },
    {
      "cell_type": "markdown",
      "source": [
        "Making forecasts with a model (on the test dataset)"
      ],
      "metadata": {
        "id": "E6rHrt6NhDRn"
      }
    },
    {
      "cell_type": "code",
      "source": [
        "def make_preds(model, input_data):\n",
        "  forecast = model.predict(input_data)\n",
        "  return tf.squeeze(forecast) # return 1D array of predictions"
      ],
      "metadata": {
        "id": "fsSmJs3i0SLe"
      },
      "execution_count": 252,
      "outputs": []
    },
    {
      "cell_type": "code",
      "source": [
        "# Make predictions using model_1 on the test dataset and view the results\n",
        "model_1_preds = make_preds(model_1, test_windows)\n",
        "len(model_1_preds), model_1_preds[:10]"
      ],
      "metadata": {
        "colab": {
          "base_uri": "https://localhost:8080/"
        },
        "id": "23VDjr6m0XaV",
        "outputId": "5e96d9c3-6cc9-4e1d-aba1-ba77021cd9c3"
      },
      "execution_count": 253,
      "outputs": [
        {
          "output_type": "stream",
          "name": "stdout",
          "text": [
            "1/1 [==============================] - 0s 46ms/step\n"
          ]
        },
        {
          "output_type": "execute_result",
          "data": {
            "text/plain": [
              "(5,\n",
              " <tf.Tensor: shape=(5,), dtype=float32, numpy=\n",
              " array([227.14847, 222.64815, 225.76373, 227.14847, 222.64815],\n",
              "       dtype=float32)>)"
            ]
          },
          "metadata": {},
          "execution_count": 253
        }
      ]
    },
    {
      "cell_type": "code",
      "source": [
        "# Evaluate preds\n",
        "model_1_results = evaluate_preds(y_true=tf.squeeze(test_labels), # reduce to right shape\n",
        "                                 y_pred=model_1_preds)\n",
        "model_1_results"
      ],
      "metadata": {
        "colab": {
          "base_uri": "https://localhost:8080/"
        },
        "id": "WOQbersg0ZKF",
        "outputId": "3c377ba4-dba5-4095-83a5-b7193e480081"
      },
      "execution_count": 254,
      "outputs": [
        {
          "output_type": "execute_result",
          "data": {
            "text/plain": [
              "{'mae': 7.774817,\n",
              " 'mse': 104.09458,\n",
              " 'rmse': 10.202675,\n",
              " 'mape': 3.2977707,\n",
              " 'mase': 0.44672588}"
            ]
          },
          "metadata": {},
          "execution_count": 254
        }
      ]
    },
    {
      "cell_type": "code",
      "source": [
        "naive_results"
      ],
      "metadata": {
        "colab": {
          "base_uri": "https://localhost:8080/"
        },
        "id": "rIzzxK380bLO",
        "outputId": "0dc6d9fd-345e-4517-a588-b58da650afc5"
      },
      "execution_count": 255,
      "outputs": [
        {
          "output_type": "execute_result",
          "data": {
            "text/plain": [
              "{'mae': 17.404,\n",
              " 'mse': 355.44537,\n",
              " 'rmse': 18.853258,\n",
              " 'mape': 7.6107783,\n",
              " 'mase': 1.0432383}"
            ]
          },
          "metadata": {},
          "execution_count": 255
        }
      ]
    },
    {
      "cell_type": "markdown",
      "source": [
        "It looks like our naïve model beats our first deep model on nearly every metric.\n",
        "That goes to show the power of the naïve model and the reason for having a baseline for any machine learning project."
      ],
      "metadata": {
        "id": "4T5inhP4hJDb"
      }
    },
    {
      "cell_type": "markdown",
      "source": [
        "Let's use the plot_time_series() function to plot model_1_preds against the test data.*"
      ],
      "metadata": {
        "id": "2BzT50OhhO1T"
      }
    },
    {
      "cell_type": "code",
      "source": [
        "offset = 1\n",
        "plt.figure(figsize=(10, 7))\n",
        "# Account for the test_window offset and index into test_labels to ensure correct plotting\n",
        "plot_time_series(timesteps=X_test[-len(test_windows):], values=test_labels[:, 0], start=offset, label=\"Test_data\")\n",
        "plot_time_series(timesteps=X_test[-len(test_windows):], values=model_1_preds, start=offset, format=\"-\", label=\"model_1_preds\")"
      ],
      "metadata": {
        "colab": {
          "base_uri": "https://localhost:8080/",
          "height": 619
        },
        "id": "55jwrl2W0djN",
        "outputId": "3be0e7b9-ccae-4639-ab47-ca09522fe67e"
      },
      "execution_count": 256,
      "outputs": [
        {
          "output_type": "display_data",
          "data": {
            "text/plain": [
              "<Figure size 1000x700 with 1 Axes>"
            ],
            "image/png": "[encoded data removed]"
          },
          "metadata": {}
        }
      ]
    },
    {
      "cell_type": "markdown",
      "source": [
        "#Model 2: Dense (window = 5, horizon = 1)"
      ],
      "metadata": {
        "id": "rm9s0ozOidC2"
      }
    },
    {
      "cell_type": "markdown",
      "source": [
        "Let's try and predict 7 days ahead given the previous 30 days.\n",
        "\n",
        "First, we'll update the HORIZON and WINDOW_SIZE variables and create windowed data."
      ],
      "metadata": {
        "id": "V59hHINDisHH"
      }
    },
    {
      "cell_type": "code",
      "source": [
        "HORIZON = 1\n",
        "WINDOW_SIZE = 5\n"
      ],
      "metadata": {
        "id": "K6rTn7hi0lSl"
      },
      "execution_count": 257,
      "outputs": []
    },
    {
      "cell_type": "markdown",
      "source": [
        "split the full dataset windows into training and test sets."
      ],
      "metadata": {
        "id": "D2rRdP58iwbb"
      }
    },
    {
      "cell_type": "code",
      "source": [
        "train_windows, test_windows, train_labels, test_labels = make_train_test_splits(windows=full_windows, labels=full_labels, test_split=0.2)\n",
        "len(train_windows), len(test_windows), len(train_labels), len(test_labels)"
      ],
      "metadata": {
        "colab": {
          "base_uri": "https://localhost:8080/"
        },
        "id": "YnZT6C_t0rLl",
        "outputId": "8462644c-f564-4c07-ab34-38279e2ee202"
      },
      "execution_count": 258,
      "outputs": [
        {
          "output_type": "execute_result",
          "data": {
            "text/plain": [
              "(16, 5, 16, 5)"
            ]
          },
          "metadata": {},
          "execution_count": 258
        }
      ]
    },
    {
      "cell_type": "markdown",
      "source": [
        "Now let's build, compile, fit and evaluate a model."
      ],
      "metadata": {
        "id": "p5uAnXf5izD0"
      }
    },
    {
      "cell_type": "code",
      "source": [
        "tf.random.set_seed(42)\n",
        "\n",
        "# Create model (same as model_1 except with different data input size)\n",
        "model_2 = tf.keras.Sequential([\n",
        "  layers.Dense(128, activation=\"relu\"),\n",
        "  layers.Dense(HORIZON)\n",
        "], name=\"model_2_dense\")\n",
        "\n",
        "model_2.compile(loss=\"mae\",\n",
        "                optimizer=tf.keras.optimizers.Adam())\n",
        "\n",
        "model_2.fit(train_windows,\n",
        "            train_labels,\n",
        "            batch_size=128,\n",
        "            epochs=100,\n",
        "            verbose=0,\n",
        "            validation_data=(test_windows, test_labels),\n",
        "            callbacks=[create_model_checkpoint(model_name=model_2.name)])"
      ],
      "metadata": {
        "colab": {
          "base_uri": "https://localhost:8080/"
        },
        "id": "tzZ9A0Lv0ssH",
        "outputId": "1d74a905-634a-45ff-fb9c-51816b1a3707"
      },
      "execution_count": 259,
      "outputs": [
        {
          "output_type": "stream",
          "name": "stderr",
          "text": [
            "WARNING:absl:Found untraced functions such as _update_step_xla while saving (showing 1 of 1). These functions will not be directly callable after loading.\n",
            "WARNING:absl:Found untraced functions such as _update_step_xla while saving (showing 1 of 1). These functions will not be directly callable after loading.\n",
            "WARNING:absl:Found untraced functions such as _update_step_xla while saving (showing 1 of 1). These functions will not be directly callable after loading.\n",
            "WARNING:absl:Found untraced functions such as _update_step_xla while saving (showing 1 of 1). These functions will not be directly callable after loading.\n",
            "WARNING:absl:Found untraced functions such as _update_step_xla while saving (showing 1 of 1). These functions will not be directly callable after loading.\n",
            "WARNING:absl:Found untraced functions such as _update_step_xla while saving (showing 1 of 1). These functions will not be directly callable after loading.\n",
            "WARNING:absl:Found untraced functions such as _update_step_xla while saving (showing 1 of 1). These functions will not be directly callable after loading.\n",
            "WARNING:absl:Found untraced functions such as _update_step_xla while saving (showing 1 of 1). These functions will not be directly callable after loading.\n",
            "WARNING:absl:Found untraced functions such as _update_step_xla while saving (showing 1 of 1). These functions will not be directly callable after loading.\n",
            "WARNING:absl:Found untraced functions such as _update_step_xla while saving (showing 1 of 1). These functions will not be directly callable after loading.\n",
            "WARNING:absl:Found untraced functions such as _update_step_xla while saving (showing 1 of 1). These functions will not be directly callable after loading.\n",
            "WARNING:absl:Found untraced functions such as _update_step_xla while saving (showing 1 of 1). These functions will not be directly callable after loading.\n",
            "WARNING:absl:Found untraced functions such as _update_step_xla while saving (showing 1 of 1). These functions will not be directly callable after loading.\n",
            "WARNING:absl:Found untraced functions such as _update_step_xla while saving (showing 1 of 1). These functions will not be directly callable after loading.\n",
            "WARNING:absl:Found untraced functions such as _update_step_xla while saving (showing 1 of 1). These functions will not be directly callable after loading.\n",
            "WARNING:absl:Found untraced functions such as _update_step_xla while saving (showing 1 of 1). These functions will not be directly callable after loading.\n",
            "WARNING:absl:Found untraced functions such as _update_step_xla while saving (showing 1 of 1). These functions will not be directly callable after loading.\n",
            "WARNING:absl:Found untraced functions such as _update_step_xla while saving (showing 1 of 1). These functions will not be directly callable after loading.\n",
            "WARNING:absl:Found untraced functions such as _update_step_xla while saving (showing 1 of 1). These functions will not be directly callable after loading.\n",
            "WARNING:absl:Found untraced functions such as _update_step_xla while saving (showing 1 of 1). These functions will not be directly callable after loading.\n",
            "WARNING:absl:Found untraced functions such as _update_step_xla while saving (showing 1 of 1). These functions will not be directly callable after loading.\n",
            "WARNING:absl:Found untraced functions such as _update_step_xla while saving (showing 1 of 1). These functions will not be directly callable after loading.\n",
            "WARNING:absl:Found untraced functions such as _update_step_xla while saving (showing 1 of 1). These functions will not be directly callable after loading.\n",
            "WARNING:absl:Found untraced functions such as _update_step_xla while saving (showing 1 of 1). These functions will not be directly callable after loading.\n",
            "WARNING:absl:Found untraced functions such as _update_step_xla while saving (showing 1 of 1). These functions will not be directly callable after loading.\n",
            "WARNING:absl:Found untraced functions such as _update_step_xla while saving (showing 1 of 1). These functions will not be directly callable after loading.\n",
            "WARNING:absl:Found untraced functions such as _update_step_xla while saving (showing 1 of 1). These functions will not be directly callable after loading.\n",
            "WARNING:absl:Found untraced functions such as _update_step_xla while saving (showing 1 of 1). These functions will not be directly callable after loading.\n"
          ]
        },
        {
          "output_type": "execute_result",
          "data": {
            "text/plain": [
              "<keras.callbacks.History at 0x7e25c062fb20>"
            ]
          },
          "metadata": {},
          "execution_count": 259
        }
      ]
    },
    {
      "cell_type": "code",
      "source": [
        "# How did our model with a larger window size and horizon go?\n",
        "model_2.evaluate(test_windows, test_labels)"
      ],
      "metadata": {
        "colab": {
          "base_uri": "https://localhost:8080/"
        },
        "id": "xVT1KezQ0uLc",
        "outputId": "ba29a810-f09d-4cf9-f423-9fda1541b5a2"
      },
      "execution_count": 260,
      "outputs": [
        {
          "output_type": "stream",
          "name": "stdout",
          "text": [
            "1/1 [==============================] - 0s 25ms/step - loss: 9.0596\n"
          ]
        },
        {
          "output_type": "execute_result",
          "data": {
            "text/plain": [
              "9.059552192687988"
            ]
          },
          "metadata": {},
          "execution_count": 260
        }
      ]
    },
    {
      "cell_type": "code",
      "source": [
        "# Load in best version of model_2 and evaluate\n",
        "model_2 = tf.keras.models.load_model(\"model_experiments/model_2_dense/\")\n",
        "model_2.evaluate(test_windows, test_labels)"
      ],
      "metadata": {
        "colab": {
          "base_uri": "https://localhost:8080/"
        },
        "id": "GLyFf2170wBU",
        "outputId": "a3a61242-32aa-4263-98c7-6c9b83a4ada6"
      },
      "execution_count": 261,
      "outputs": [
        {
          "output_type": "stream",
          "name": "stdout",
          "text": [
            "1/1 [==============================] - 0s 138ms/step - loss: 8.7318\n"
          ]
        },
        {
          "output_type": "execute_result",
          "data": {
            "text/plain": [
              "8.731762886047363"
            ]
          },
          "metadata": {},
          "execution_count": 261
        }
      ]
    },
    {
      "cell_type": "markdown",
      "source": [
        "In this case, the error will be higher because we're predicting 7 steps at a time.\n",
        "\n",
        "This makes sense though because the further you try and predict, the larger your error will be (think of trying to predict the weather 7 days in advance)."
      ],
      "metadata": {
        "id": "lMNaszaNjOA-"
      }
    },
    {
      "cell_type": "markdown",
      "source": [
        "Let's make predictions with our model using the make_preds() function and evaluate them using the evaluate_preds() function."
      ],
      "metadata": {
        "id": "SSN9CNvXjRR_"
      }
    },
    {
      "cell_type": "code",
      "source": [
        "# The predictions are going to be 7 steps at a time (this is the HORIZON size)\n",
        "model_2_preds = make_preds(model_2,\n",
        "                           input_data=test_windows)\n",
        "model_2_preds[:5]"
      ],
      "metadata": {
        "colab": {
          "base_uri": "https://localhost:8080/"
        },
        "id": "8A_WY9sv0xKG",
        "outputId": "83337ecf-83db-4fa2-f1ec-d8fc69066613"
      },
      "execution_count": 262,
      "outputs": [
        {
          "output_type": "stream",
          "name": "stdout",
          "text": [
            "1/1 [==============================] - 0s 93ms/step\n"
          ]
        },
        {
          "output_type": "execute_result",
          "data": {
            "text/plain": [
              "<tf.Tensor: shape=(5,), dtype=float32, numpy=\n",
              "array([222.21649, 222.51575, 220.94931, 222.21649, 222.51575],\n",
              "      dtype=float32)>"
            ]
          },
          "metadata": {},
          "execution_count": 262
        }
      ]
    },
    {
      "cell_type": "code",
      "source": [
        "# Calculate model_2 results - these are going to be multi-dimensional because\n",
        "# we're trying to predict more than one step at a time.\n",
        "model_2_results = evaluate_preds(y_true=tf.squeeze(test_labels),\n",
        "                                 y_pred=model_2_preds)\n",
        "model_2_results"
      ],
      "metadata": {
        "colab": {
          "base_uri": "https://localhost:8080/"
        },
        "id": "KcghNtoB0y31",
        "outputId": "16c75807-18e7-4e86-b5cc-514df24f938f"
      },
      "execution_count": 263,
      "outputs": [
        {
          "output_type": "execute_result",
          "data": {
            "text/plain": [
              "{'mae': 8.731763,\n",
              " 'mse': 160.41183,\n",
              " 'rmse': 12.66538,\n",
              " 'mape': 3.6453295,\n",
              " 'mase': 0.5017101}"
            ]
          },
          "metadata": {},
          "execution_count": 263
        }
      ]
    },
    {
      "cell_type": "markdown",
      "source": [
        "#Make our evaluation function work for larger horizons"
      ],
      "metadata": {
        "id": "ZNuYFWtWjXsq"
      }
    },
    {
      "cell_type": "markdown",
      "source": [
        "\n",
        "\n",
        "model_2_results are multi-dimensional.\n",
        "\n",
        "This is because the predictions are getting evaluated across the HORIZON timesteps (7 predictions at a time).\n",
        "\n",
        "To fix this, let's adjust our evaluate_preds() function to work with multiple shapes of data.\n",
        "\n"
      ],
      "metadata": {
        "id": "sfLA4RQTjXb-"
      }
    },
    {
      "cell_type": "code",
      "source": [
        "def evaluate_preds(y_true, y_pred):\n",
        "  # Make sure float32 (for metric calculations)\n",
        "  y_true = tf.cast(y_true, dtype=tf.float32)\n",
        "  y_pred = tf.cast(y_pred, dtype=tf.float32)\n",
        "\n",
        "  # Calculate various metrics\n",
        "  mae = tf.keras.metrics.mean_absolute_error(y_true, y_pred)\n",
        "  mse = tf.keras.metrics.mean_squared_error(y_true, y_pred)\n",
        "  rmse = tf.sqrt(mse)\n",
        "  mape = tf.keras.metrics.mean_absolute_percentage_error(y_true, y_pred)\n",
        "  mase = mean_absolute_scaled_error(y_true, y_pred)\n",
        "\n",
        "  # Account for different sized metrics (for longer horizons, reduce to single number)\n",
        "  if mae.ndim > 0: # if mae isn't already a scalar, reduce it to one by aggregating tensors to mean\n",
        "    mae = tf.reduce_mean(mae)\n",
        "    mse = tf.reduce_mean(mse)\n",
        "    rmse = tf.reduce_mean(rmse)\n",
        "    mape = tf.reduce_mean(mape)\n",
        "    mase = tf.reduce_mean(mase)\n",
        "\n",
        "  return {\"mae\": mae.numpy(),\n",
        "          \"mse\": mse.numpy(),\n",
        "          \"rmse\": rmse.numpy(),\n",
        "          \"mape\": mape.numpy(),\n",
        "          \"mase\": mase.numpy()}"
      ],
      "metadata": {
        "id": "9cuyvTpz00Zc"
      },
      "execution_count": 264,
      "outputs": []
    },
    {
      "cell_type": "code",
      "source": [
        "# Get model_2 results aggregated to single values\n",
        "model_2_results = evaluate_preds(y_true=tf.squeeze(test_labels),\n",
        "                                 y_pred=model_2_preds)\n",
        "model_2_results"
      ],
      "metadata": {
        "colab": {
          "base_uri": "https://localhost:8080/"
        },
        "id": "E0PmV8hC1Eh2",
        "outputId": "86f27575-2f38-4550-ace3-9c80d9bb2d1e"
      },
      "execution_count": 267,
      "outputs": [
        {
          "output_type": "execute_result",
          "data": {
            "text/plain": [
              "{'mae': 8.731763,\n",
              " 'mse': 160.41183,\n",
              " 'rmse': 12.66538,\n",
              " 'mape': 3.6453295,\n",
              " 'mase': 0.5017101}"
            ]
          },
          "metadata": {},
          "execution_count": 267
        }
      ]
    },
    {
      "cell_type": "code",
      "source": [
        "import tensorflow as tf\n",
        "from keras.losses import mean_absolute_error\n",
        "\n",
        "# Assuming you have 'test_labels' and 'model_2_preds' tensors\n",
        "\n",
        "# Print the shapes of tensors for debugging\n",
        "print(\"Shape of test_labels:\", test_labels.shape)\n",
        "print(\"Shape of model_2_preds:\", model_2_preds.shape)\n",
        "\n",
        "# Check if the shapes are compatible for element-wise operations\n",
        "if test_labels.shape != model_2_preds.shape:\n",
        "    print(\"Shapes are not compatible for subtraction\")\n",
        "else:\n",
        "    # Calculate mean absolute error\n",
        "    mae = mean_absolute_error(y_true=test_labels, y_pred=model_2_preds)\n",
        "    print(\"Mean Absolute Error:\", mae)\n"
      ],
      "metadata": {
        "colab": {
          "base_uri": "https://localhost:8080/"
        },
        "id": "FTqS0igD1Yl-",
        "outputId": "64cc28bf-aa17-4271-8ddb-594c3e52c5f5"
      },
      "execution_count": 268,
      "outputs": [
        {
          "output_type": "stream",
          "name": "stdout",
          "text": [
            "Shape of test_labels: (5, 1)\n",
            "Shape of model_2_preds: (5,)\n",
            "Shapes are not compatible for subtraction\n"
          ]
        }
      ]
    },
    {
      "cell_type": "markdown",
      "source": [
        "visualize!!"
      ],
      "metadata": {
        "id": "44Y044rTmV8G"
      }
    },
    {
      "cell_type": "code",
      "source": [
        "offset = 1\n",
        "plt.figure(figsize=(10, 7))\n",
        "plot_time_series(timesteps=X_test[-len(test_windows):], values=test_labels[:, 0], start=offset, label=\"Test_data\")\n",
        "plot_time_series(timesteps=X_test[-len(test_windows):], values=model_2_preds, start=offset, label=\"model_2_preds\")"
      ],
      "metadata": {
        "colab": {
          "base_uri": "https://localhost:8080/",
          "height": 619
        },
        "id": "5NN8ANpA1wjU",
        "outputId": "e5c93007-a627-4719-a5c2-a322bdce69cf"
      },
      "execution_count": 269,
      "outputs": [
        {
          "output_type": "display_data",
          "data": {
            "text/plain": [
              "<Figure size 1000x700 with 1 Axes>"
            ],
            "image/png": "[encoded data removed]"
          },
          "metadata": {}
        }
      ]
    },
    {
      "cell_type": "markdown",
      "source": [
        "When we try to plot our multi-horizon predicts, we get a funky looking plot.\n",
        "\n",
        "Again, we can fix this by aggregating our model's predictions."
      ],
      "metadata": {
        "id": "PWna6RjimRry"
      }
    },
    {
      "cell_type": "code",
      "source": [
        "offset = 1\n",
        "plt.figure(figsize=(10, 7))\n",
        "# Account for the test_window offset and index into test_labels to ensure correct plotting\n",
        "plot_time_series(timesteps=X_test[-len(test_windows):], values=test_labels[:, 0], start=offset, label=\"Test_data\")\n",
        "plot_time_series(timesteps=X_test[-len(test_windows):], values=model_2_preds, start=offset, format=\"-\", label=\"model_1_preds\")"
      ],
      "metadata": {
        "colab": {
          "base_uri": "https://localhost:8080/",
          "height": 619
        },
        "id": "CA57pUzs2a-l",
        "outputId": "4d527f22-5108-4574-8ad4-7fb161a90d1f"
      },
      "execution_count": 270,
      "outputs": [
        {
          "output_type": "display_data",
          "data": {
            "text/plain": [
              "<Figure size 1000x700 with 1 Axes>"
            ],
            "image/png": "[encoded data removed]"
          },
          "metadata": {}
        }
      ]
    },
    {
      "cell_type": "markdown",
      "source": [
        "#Model 2: Dense (window = 7, horizon = 3)"
      ],
      "metadata": {
        "id": "R_uYU4kXmIJQ"
      }
    },
    {
      "cell_type": "code",
      "source": [
        "HORIZON = 3 # predict one step at a time\n",
        "WINDOW_SIZE = 7 # use 30 timesteps in the past"
      ],
      "metadata": {
        "id": "OCC9KWTR2crk"
      },
      "execution_count": 271,
      "outputs": []
    },
    {
      "cell_type": "code",
      "source": [
        "# Make windowed data with appropriate horizon and window sizes\n",
        "full_windows, full_labels = make_windows(prices, window_size=WINDOW_SIZE, horizon=HORIZON)\n",
        "len(full_windows), len(full_labels)"
      ],
      "metadata": {
        "colab": {
          "base_uri": "https://localhost:8080/"
        },
        "id": "_c0qdDQE39A9",
        "outputId": "7c2130e8-2f92-47cb-fbe8-152326884e4e"
      },
      "execution_count": 272,
      "outputs": [
        {
          "output_type": "execute_result",
          "data": {
            "text/plain": [
              "(15, 15)"
            ]
          },
          "metadata": {},
          "execution_count": 272
        }
      ]
    },
    {
      "cell_type": "code",
      "source": [
        "# Make train and testing windows\n",
        "train_windows, test_windows, train_labels, test_labels = make_train_test_splits(windows=full_windows, labels=full_labels)\n",
        "len(train_windows), len(test_windows), len(train_labels), len(test_labels)"
      ],
      "metadata": {
        "colab": {
          "base_uri": "https://localhost:8080/"
        },
        "id": "nTB4ow1k4AV-",
        "outputId": "7bdc64ea-9716-4c23-e882-778bc8fff77d"
      },
      "execution_count": 273,
      "outputs": [
        {
          "output_type": "execute_result",
          "data": {
            "text/plain": [
              "(12, 3, 12, 3)"
            ]
          },
          "metadata": {},
          "execution_count": 273
        }
      ]
    },
    {
      "cell_type": "code",
      "source": [
        "tf.random.set_seed(42)\n",
        "\n",
        "# Create model\n",
        "model_3 = tf.keras.Sequential([\n",
        "  layers.Dense(128, activation=\"relu\"),\n",
        "  layers.Dense(HORIZON) # need to predict horizon number of steps into the future\n",
        "], name=\"model_3_dense\")\n",
        "\n",
        "model_3.compile(loss=\"mae\",\n",
        "                optimizer=tf.keras.optimizers.Adam())\n",
        "\n",
        "model_3.fit(train_windows,\n",
        "            train_labels,\n",
        "            epochs=100,\n",
        "            batch_size=128,\n",
        "            verbose=0,\n",
        "            validation_data=(test_windows, test_labels),\n",
        "            callbacks=[create_model_checkpoint(model_name=model_3.name)])"
      ],
      "metadata": {
        "colab": {
          "base_uri": "https://localhost:8080/"
        },
        "id": "_7LoQMJf4BpN",
        "outputId": "809752bb-7cf9-4bc7-9ac3-ef5acb8e9c95"
      },
      "execution_count": 274,
      "outputs": [
        {
          "output_type": "stream",
          "name": "stderr",
          "text": [
            "WARNING:absl:Found untraced functions such as _update_step_xla while saving (showing 1 of 1). These functions will not be directly callable after loading.\n",
            "WARNING:absl:Found untraced functions such as _update_step_xla while saving (showing 1 of 1). These functions will not be directly callable after loading.\n",
            "WARNING:absl:Found untraced functions such as _update_step_xla while saving (showing 1 of 1). These functions will not be directly callable after loading.\n",
            "WARNING:absl:Found untraced functions such as _update_step_xla while saving (showing 1 of 1). These functions will not be directly callable after loading.\n",
            "WARNING:absl:Found untraced functions such as _update_step_xla while saving (showing 1 of 1). These functions will not be directly callable after loading.\n",
            "WARNING:absl:Found untraced functions such as _update_step_xla while saving (showing 1 of 1). These functions will not be directly callable after loading.\n",
            "WARNING:absl:Found untraced functions such as _update_step_xla while saving (showing 1 of 1). These functions will not be directly callable after loading.\n",
            "WARNING:absl:Found untraced functions such as _update_step_xla while saving (showing 1 of 1). These functions will not be directly callable after loading.\n",
            "WARNING:absl:Found untraced functions such as _update_step_xla while saving (showing 1 of 1). These functions will not be directly callable after loading.\n",
            "WARNING:absl:Found untraced functions such as _update_step_xla while saving (showing 1 of 1). These functions will not be directly callable after loading.\n",
            "WARNING:absl:Found untraced functions such as _update_step_xla while saving (showing 1 of 1). These functions will not be directly callable after loading.\n",
            "WARNING:absl:Found untraced functions such as _update_step_xla while saving (showing 1 of 1). These functions will not be directly callable after loading.\n",
            "WARNING:absl:Found untraced functions such as _update_step_xla while saving (showing 1 of 1). These functions will not be directly callable after loading.\n",
            "WARNING:absl:Found untraced functions such as _update_step_xla while saving (showing 1 of 1). These functions will not be directly callable after loading.\n",
            "WARNING:absl:Found untraced functions such as _update_step_xla while saving (showing 1 of 1). These functions will not be directly callable after loading.\n",
            "WARNING:absl:Found untraced functions such as _update_step_xla while saving (showing 1 of 1). These functions will not be directly callable after loading.\n",
            "WARNING:absl:Found untraced functions such as _update_step_xla while saving (showing 1 of 1). These functions will not be directly callable after loading.\n",
            "WARNING:absl:Found untraced functions such as _update_step_xla while saving (showing 1 of 1). These functions will not be directly callable after loading.\n",
            "WARNING:absl:Found untraced functions such as _update_step_xla while saving (showing 1 of 1). These functions will not be directly callable after loading.\n",
            "WARNING:absl:Found untraced functions such as _update_step_xla while saving (showing 1 of 1). These functions will not be directly callable after loading.\n",
            "WARNING:absl:Found untraced functions such as _update_step_xla while saving (showing 1 of 1). These functions will not be directly callable after loading.\n",
            "WARNING:absl:Found untraced functions such as _update_step_xla while saving (showing 1 of 1). These functions will not be directly callable after loading.\n",
            "WARNING:absl:Found untraced functions such as _update_step_xla while saving (showing 1 of 1). These functions will not be directly callable after loading.\n",
            "WARNING:absl:Found untraced functions such as _update_step_xla while saving (showing 1 of 1). These functions will not be directly callable after loading.\n",
            "WARNING:absl:Found untraced functions such as _update_step_xla while saving (showing 1 of 1). These functions will not be directly callable after loading.\n",
            "WARNING:absl:Found untraced functions such as _update_step_xla while saving (showing 1 of 1). These functions will not be directly callable after loading.\n",
            "WARNING:absl:Found untraced functions such as _update_step_xla while saving (showing 1 of 1). These functions will not be directly callable after loading.\n",
            "WARNING:absl:Found untraced functions such as _update_step_xla while saving (showing 1 of 1). These functions will not be directly callable after loading.\n",
            "WARNING:absl:Found untraced functions such as _update_step_xla while saving (showing 1 of 1). These functions will not be directly callable after loading.\n",
            "WARNING:absl:Found untraced functions such as _update_step_xla while saving (showing 1 of 1). These functions will not be directly callable after loading.\n",
            "WARNING:absl:Found untraced functions such as _update_step_xla while saving (showing 1 of 1). These functions will not be directly callable after loading.\n",
            "WARNING:absl:Found untraced functions such as _update_step_xla while saving (showing 1 of 1). These functions will not be directly callable after loading.\n",
            "WARNING:absl:Found untraced functions such as _update_step_xla while saving (showing 1 of 1). These functions will not be directly callable after loading.\n",
            "WARNING:absl:Found untraced functions such as _update_step_xla while saving (showing 1 of 1). These functions will not be directly callable after loading.\n",
            "WARNING:absl:Found untraced functions such as _update_step_xla while saving (showing 1 of 1). These functions will not be directly callable after loading.\n",
            "WARNING:absl:Found untraced functions such as _update_step_xla while saving (showing 1 of 1). These functions will not be directly callable after loading.\n",
            "WARNING:absl:Found untraced functions such as _update_step_xla while saving (showing 1 of 1). These functions will not be directly callable after loading.\n"
          ]
        },
        {
          "output_type": "execute_result",
          "data": {
            "text/plain": [
              "<keras.callbacks.History at 0x7e2640f49300>"
            ]
          },
          "metadata": {},
          "execution_count": 274
        }
      ]
    },
    {
      "cell_type": "code",
      "source": [
        "# Evaluate model 3 preds\n",
        "model_3.evaluate(test_windows, test_labels)"
      ],
      "metadata": {
        "colab": {
          "base_uri": "https://localhost:8080/"
        },
        "id": "1Kcbj5WM4Dgv",
        "outputId": "ce53c66c-bea8-45d7-d2a5-35840ffbfcc8"
      },
      "execution_count": 275,
      "outputs": [
        {
          "output_type": "stream",
          "name": "stdout",
          "text": [
            "1/1 [==============================] - 0s 25ms/step - loss: 8.3792\n"
          ]
        },
        {
          "output_type": "execute_result",
          "data": {
            "text/plain": [
              "8.379243850708008"
            ]
          },
          "metadata": {},
          "execution_count": 275
        }
      ]
    },
    {
      "cell_type": "code",
      "source": [
        "# Load in best performing model\n",
        "model_3 = tf.keras.models.load_model(\"model_experiments/model_3_dense/\")\n",
        "model_3.evaluate(test_windows, test_labels)"
      ],
      "metadata": {
        "colab": {
          "base_uri": "https://localhost:8080/"
        },
        "id": "IVfXUDUd4FTF",
        "outputId": "3a925665-a831-4a2e-dea9-f453b50b5e36"
      },
      "execution_count": 276,
      "outputs": [
        {
          "output_type": "stream",
          "name": "stdout",
          "text": [
            "1/1 [==============================] - 0s 88ms/step - loss: 7.7433\n"
          ]
        },
        {
          "output_type": "execute_result",
          "data": {
            "text/plain": [
              "7.74326753616333"
            ]
          },
          "metadata": {},
          "execution_count": 276
        }
      ]
    },
    {
      "cell_type": "code",
      "source": [
        "# Get forecast predictions\n",
        "model_3_preds = make_preds(model_3,\n",
        "                           input_data=test_windows)"
      ],
      "metadata": {
        "colab": {
          "base_uri": "https://localhost:8080/"
        },
        "id": "knHQXnKC4GdB",
        "outputId": "a49508ee-2c1c-4def-b695-45fc752b175c"
      },
      "execution_count": 277,
      "outputs": [
        {
          "output_type": "stream",
          "name": "stdout",
          "text": [
            "1/1 [==============================] - 0s 49ms/step\n"
          ]
        }
      ]
    },
    {
      "cell_type": "code",
      "source": [
        "model_3_preds"
      ],
      "metadata": {
        "colab": {
          "base_uri": "https://localhost:8080/"
        },
        "id": "Yb1kqals4dxO",
        "outputId": "48d18401-4d07-456c-8da4-40dd5bb5397e"
      },
      "execution_count": 278,
      "outputs": [
        {
          "output_type": "execute_result",
          "data": {
            "text/plain": [
              "<tf.Tensor: shape=(3, 3), dtype=float32, numpy=\n",
              "array([[224.4436 , 221.64807, 216.50563],\n",
              "       [223.00812, 226.83401, 224.73282],\n",
              "       [216.64665, 221.13705, 224.27013]], dtype=float32)>"
            ]
          },
          "metadata": {},
          "execution_count": 278
        }
      ]
    },
    {
      "cell_type": "code",
      "source": [
        "# Evaluate results for model 3 predictions\n",
        "model_3_results = evaluate_preds(y_true=tf.squeeze(test_labels),\n",
        "                                 y_pred=model_3_preds)\n",
        "model_3_results"
      ],
      "metadata": {
        "colab": {
          "base_uri": "https://localhost:8080/"
        },
        "id": "QXVxYj_x4Hul",
        "outputId": "216d9fff-7923-4b2c-825c-77bea4cc0539"
      },
      "execution_count": 279,
      "outputs": [
        {
          "output_type": "execute_result",
          "data": {
            "text/plain": [
              "{'mae': 7.7432675,\n",
              " 'mse': 127.545715,\n",
              " 'rmse': 11.26466,\n",
              " 'mape': 3.2684345,\n",
              " 'mase': 0.4641504}"
            ]
          },
          "metadata": {},
          "execution_count": 279
        }
      ]
    },
    {
      "cell_type": "code",
      "source": [
        "offset = 1\n",
        "plt.figure(figsize=(10, 7))\n",
        "# Account for the test_window offset\n",
        "plot_time_series(timesteps=X_test[-len(test_windows):], values=test_labels[:, 0], start=offset, label=\"test_data\")\n",
        "plot_time_series(timesteps=X_test[-len(test_windows):], values=model_3_preds, start=offset, format=\"-\", label=\"model_3_preds\")"
      ],
      "metadata": {
        "colab": {
          "base_uri": "https://localhost:8080/",
          "height": 619
        },
        "id": "NTt6mMQH4Jf0",
        "outputId": "b46a386f-48b7-42b0-8733-92df654f6e14"
      },
      "execution_count": 280,
      "outputs": [
        {
          "output_type": "display_data",
          "data": {
            "text/plain": [
              "<Figure size 1000x700 with 1 Axes>"
            ],
            "image/png": "[encoded data removed]"
          },
          "metadata": {}
        }
      ]
    },
    {
      "cell_type": "markdown",
      "source": [
        "#Which of our models is performing best so far?\n",
        "So far, I've trained 3 models which use the same architecture but use different data inputs.\n",
        "\n",
        "Let's compare them with the naïve model to see which model is performing the best so far."
      ],
      "metadata": {
        "id": "Q0DlvywVkJH-"
      }
    },
    {
      "cell_type": "code",
      "source": [
        "pd.DataFrame({\"naive\": naive_results[\"mae\"],\n",
        "              \"horizon_1_window_3\": model_1_results[\"mae\"],\n",
        "              \"horizon_1_window_5\": model_2_results[\"mae\"],\n",
        "              \"horizon_3_window_7\": model_3_results[\"mae\"]}, index=[\"mae\"]).plot(figsize=(10, 7), kind=\"bar\");"
      ],
      "metadata": {
        "colab": {
          "base_uri": "https://localhost:8080/",
          "height": 616
        },
        "id": "GT5Et6sN4LVl",
        "outputId": "a4a538e1-e22e-41d9-e935-71dae7e32090"
      },
      "execution_count": 281,
      "outputs": [
        {
          "output_type": "display_data",
          "data": {
            "text/plain": [
              "<Figure size 1000x700 with 1 Axes>"
            ],
            "image/png": "[encoded data removed]"
          },
          "metadata": {}
        }
      ]
    },
    {
      "cell_type": "markdown",
      "source": [
        "#Model 4: Conv1D"
      ],
      "metadata": {
        "id": "SDmj8v6yk_Zo"
      }
    },
    {
      "cell_type": "code",
      "source": [
        "HORIZON = 1 # predict next day\n",
        "WINDOW_SIZE = 7 # use previous week worth of data"
      ],
      "metadata": {
        "id": "TFvvllg54M9w"
      },
      "execution_count": 282,
      "outputs": []
    },
    {
      "cell_type": "code",
      "source": [
        "# Create windowed dataset\n",
        "full_windows, full_labels = make_windows(prices, window_size=WINDOW_SIZE, horizon=HORIZON)\n",
        "len(full_windows), len(full_labels)"
      ],
      "metadata": {
        "colab": {
          "base_uri": "https://localhost:8080/"
        },
        "id": "FPGIM9BM4vGF",
        "outputId": "0fd028d9-3d36-43dc-cd72-92ce9ead5e6b"
      },
      "execution_count": 283,
      "outputs": [
        {
          "output_type": "execute_result",
          "data": {
            "text/plain": [
              "(17, 17)"
            ]
          },
          "metadata": {},
          "execution_count": 283
        }
      ]
    },
    {
      "cell_type": "code",
      "source": [
        "# Check data sample shapes\n",
        "train_windows[0].shape # returns (WINDOW_SIZE, )"
      ],
      "metadata": {
        "colab": {
          "base_uri": "https://localhost:8080/"
        },
        "id": "lwQszUx24woO",
        "outputId": "99d47f2a-e3f6-43a9-d8d4-7fd136cce1d5"
      },
      "execution_count": 284,
      "outputs": [
        {
          "output_type": "execute_result",
          "data": {
            "text/plain": [
              "(7,)"
            ]
          },
          "metadata": {},
          "execution_count": 284
        }
      ]
    },
    {
      "cell_type": "code",
      "source": [
        "# Before we pass our data to the Conv1D layer, we have to reshape it in order to make sure it works\n",
        "x = tf.constant(train_windows[0])\n",
        "expand_dims_layer = layers.Lambda(lambda x: tf.expand_dims(x, axis=1)) # add an extra dimension for timesteps\n",
        "print(f\"Original shape: {x.shape}\") # (WINDOW_SIZE)\n",
        "print(f\"Expanded shape: {expand_dims_layer(x).shape}\") # (WINDOW_SIZE, input_dim)\n",
        "print(f\"Original values with expanded shape:\\n {expand_dims_layer(x)}\")"
      ],
      "metadata": {
        "colab": {
          "base_uri": "https://localhost:8080/"
        },
        "id": "mKpvdEUl42x1",
        "outputId": "da1458a8-0508-4c88-c30d-2677af3880d1"
      },
      "execution_count": 285,
      "outputs": [
        {
          "output_type": "stream",
          "name": "stdout",
          "text": [
            "Original shape: (7,)\n",
            "Expanded shape: (7, 1)\n",
            "Original values with expanded shape:\n",
            " [[242.049]\n",
            " [222.481]\n",
            " [214.449]\n",
            " [217.025]\n",
            " [242.049]\n",
            " [222.481]\n",
            " [214.449]]\n"
          ]
        }
      ]
    },
    {
      "cell_type": "code",
      "source": [
        "tf.random.set_seed(42)\n",
        "\n",
        "# Create model\n",
        "model_4 = tf.keras.Sequential([\n",
        "  # Create Lambda layer to reshape inputs, without this layer, the model will error\n",
        "  layers.Lambda(lambda x: tf.expand_dims(x, axis=1)), # resize the inputs to adjust for window size / Conv1D 3D input requirements\n",
        "  layers.Conv1D(filters=128, kernel_size=5, padding=\"causal\", activation=\"relu\"),\n",
        "  layers.Dense(HORIZON)\n",
        "], name=\"model_4_conv1D\")\n",
        "\n",
        "# Compile model\n",
        "model_4.compile(loss=\"mae\",\n",
        "                optimizer=tf.keras.optimizers.Adam())\n",
        "\n",
        "# Fit model\n",
        "model_4.fit(train_windows,\n",
        "            train_labels,\n",
        "            batch_size=128,\n",
        "            epochs=100,\n",
        "            verbose=0,\n",
        "            validation_data=(test_windows, test_labels),\n",
        "            callbacks=[create_model_checkpoint(model_name=model_4.name)])"
      ],
      "metadata": {
        "colab": {
          "base_uri": "https://localhost:8080/"
        },
        "id": "NT0Pp5n844D-",
        "outputId": "e162fd9e-b120-4c14-ab0b-07b4d913da93"
      },
      "execution_count": 286,
      "outputs": [
        {
          "output_type": "stream",
          "name": "stderr",
          "text": [
            "WARNING:absl:Found untraced functions such as _jit_compiled_convolution_op, _update_step_xla while saving (showing 2 of 2). These functions will not be directly callable after loading.\n",
            "WARNING:absl:Found untraced functions such as _jit_compiled_convolution_op, _update_step_xla while saving (showing 2 of 2). These functions will not be directly callable after loading.\n",
            "WARNING:absl:Found untraced functions such as _jit_compiled_convolution_op, _update_step_xla while saving (showing 2 of 2). These functions will not be directly callable after loading.\n",
            "WARNING:absl:Found untraced functions such as _jit_compiled_convolution_op, _update_step_xla while saving (showing 2 of 2). These functions will not be directly callable after loading.\n",
            "WARNING:absl:Found untraced functions such as _jit_compiled_convolution_op, _update_step_xla while saving (showing 2 of 2). These functions will not be directly callable after loading.\n",
            "WARNING:absl:Found untraced functions such as _jit_compiled_convolution_op, _update_step_xla while saving (showing 2 of 2). These functions will not be directly callable after loading.\n",
            "WARNING:absl:Found untraced functions such as _jit_compiled_convolution_op, _update_step_xla while saving (showing 2 of 2). These functions will not be directly callable after loading.\n",
            "WARNING:absl:Found untraced functions such as _jit_compiled_convolution_op, _update_step_xla while saving (showing 2 of 2). These functions will not be directly callable after loading.\n",
            "WARNING:absl:Found untraced functions such as _jit_compiled_convolution_op, _update_step_xla while saving (showing 2 of 2). These functions will not be directly callable after loading.\n",
            "WARNING:absl:Found untraced functions such as _jit_compiled_convolution_op, _update_step_xla while saving (showing 2 of 2). These functions will not be directly callable after loading.\n",
            "WARNING:absl:Found untraced functions such as _jit_compiled_convolution_op, _update_step_xla while saving (showing 2 of 2). These functions will not be directly callable after loading.\n",
            "WARNING:absl:Found untraced functions such as _jit_compiled_convolution_op, _update_step_xla while saving (showing 2 of 2). These functions will not be directly callable after loading.\n",
            "WARNING:absl:Found untraced functions such as _jit_compiled_convolution_op, _update_step_xla while saving (showing 2 of 2). These functions will not be directly callable after loading.\n",
            "WARNING:absl:Found untraced functions such as _jit_compiled_convolution_op, _update_step_xla while saving (showing 2 of 2). These functions will not be directly callable after loading.\n",
            "WARNING:absl:Found untraced functions such as _jit_compiled_convolution_op, _update_step_xla while saving (showing 2 of 2). These functions will not be directly callable after loading.\n",
            "WARNING:absl:Found untraced functions such as _jit_compiled_convolution_op, _update_step_xla while saving (showing 2 of 2). These functions will not be directly callable after loading.\n",
            "WARNING:absl:Found untraced functions such as _jit_compiled_convolution_op, _update_step_xla while saving (showing 2 of 2). These functions will not be directly callable after loading.\n",
            "WARNING:absl:Found untraced functions such as _jit_compiled_convolution_op, _update_step_xla while saving (showing 2 of 2). These functions will not be directly callable after loading.\n"
          ]
        },
        {
          "output_type": "execute_result",
          "data": {
            "text/plain": [
              "<keras.callbacks.History at 0x7e25c053dd20>"
            ]
          },
          "metadata": {},
          "execution_count": 286
        }
      ]
    },
    {
      "cell_type": "code",
      "source": [
        "model_4.summary()"
      ],
      "metadata": {
        "colab": {
          "base_uri": "https://localhost:8080/"
        },
        "id": "msiRXjWd45gX",
        "outputId": "735bac55-2552-4e39-bfc0-7bb1309922a4"
      },
      "execution_count": 287,
      "outputs": [
        {
          "output_type": "stream",
          "name": "stdout",
          "text": [
            "Model: \"model_4_conv1D\"\n",
            "_________________________________________________________________\n",
            " Layer (type)                Output Shape              Param #   \n",
            "=================================================================\n",
            " lambda_3 (Lambda)           (None, 1, 7)              0         \n",
            "                                                                 \n",
            " conv1d_1 (Conv1D)           (None, 1, 128)            4608      \n",
            "                                                                 \n",
            " dense_24 (Dense)            (None, 1, 1)              129       \n",
            "                                                                 \n",
            "=================================================================\n",
            "Total params: 4,737\n",
            "Trainable params: 4,737\n",
            "Non-trainable params: 0\n",
            "_________________________________________________________________\n"
          ]
        }
      ]
    },
    {
      "cell_type": "code",
      "source": [
        "# Load in best performing Conv1D model and evaluate it on the test data\n",
        "model_4 = tf.keras.models.load_model(\"model_experiments/model_4_conv1D\")\n",
        "model_4.evaluate(test_windows, test_labels)"
      ],
      "metadata": {
        "colab": {
          "base_uri": "https://localhost:8080/"
        },
        "id": "jCFTkeRZ462s",
        "outputId": "194aaf6e-7df1-40e8-9fae-5a88272e7174"
      },
      "execution_count": 288,
      "outputs": [
        {
          "output_type": "stream",
          "name": "stdout",
          "text": [
            "1/1 [==============================] - 0s 136ms/step - loss: 8.8447\n"
          ]
        },
        {
          "output_type": "execute_result",
          "data": {
            "text/plain": [
              "8.844721794128418"
            ]
          },
          "metadata": {},
          "execution_count": 288
        }
      ]
    },
    {
      "cell_type": "code",
      "source": [
        "# Make predictions\n",
        "model_4_preds = make_preds(model_4, test_windows)\n",
        "model_4_preds[:10]"
      ],
      "metadata": {
        "colab": {
          "base_uri": "https://localhost:8080/"
        },
        "id": "TrH_X0JM485d",
        "outputId": "625f430f-5c94-4875-ab9e-f4dfa3801d25"
      },
      "execution_count": 289,
      "outputs": [
        {
          "output_type": "stream",
          "name": "stdout",
          "text": [
            "1/1 [==============================] - 0s 79ms/step\n"
          ]
        },
        {
          "output_type": "execute_result",
          "data": {
            "text/plain": [
              "<tf.Tensor: shape=(3,), dtype=float32, numpy=array([224.96529, 220.54964, 222.36617], dtype=float32)>"
            ]
          },
          "metadata": {},
          "execution_count": 289
        }
      ]
    },
    {
      "cell_type": "code",
      "source": [
        "# Evaluate predictions\n",
        "model_4_results = evaluate_preds(y_true=tf.squeeze(test_labels),\n",
        "                                 y_pred=model_4_preds)\n",
        "model_4_results"
      ],
      "metadata": {
        "colab": {
          "base_uri": "https://localhost:8080/"
        },
        "id": "0AgqbpwU4-KO",
        "outputId": "d0903cbc-2ae1-4cde-a13a-d47fd4f84f19"
      },
      "execution_count": 290,
      "outputs": [
        {
          "output_type": "execute_result",
          "data": {
            "text/plain": [
              "{'mae': 8.844722,\n",
              " 'mse': 139.48932,\n",
              " 'rmse': 11.753278,\n",
              " 'mape': 3.76135,\n",
              " 'mase': 0.53017426}"
            ]
          },
          "metadata": {},
          "execution_count": 290
        }
      ]
    },
    {
      "cell_type": "code",
      "source": [
        "# Find average price of sts in test dataset\n",
        "tf.reduce_mean(y_test).numpy()"
      ],
      "metadata": {
        "colab": {
          "base_uri": "https://localhost:8080/"
        },
        "id": "Qwa4L5xQ4_y-",
        "outputId": "81cd53c1-a716-4990-e964-9180da8ea679"
      },
      "execution_count": 291,
      "outputs": [
        {
          "output_type": "execute_result",
          "data": {
            "text/plain": [
              "229.217"
            ]
          },
          "metadata": {},
          "execution_count": 291
        }
      ]
    },
    {
      "cell_type": "markdown",
      "source": [
        "#Train a model on the full historical data to make predictions into future"
      ],
      "metadata": {
        "id": "oJCOzSb2lLTx"
      }
    },
    {
      "cell_type": "markdown",
      "source": [
        "now we didn't use it to predict into the future\n",
        "It's time we created a model which is able to make future predictions on the price of Stainless-Steel.\n",
        "\n",
        "To make predictions into the future, we'll train a model on the full dataset and then get to make predictions to some future horizon."
      ],
      "metadata": {
        "id": "JrYeTR5tlQM7"
      }
    },
    {
      "cell_type": "code",
      "source": [
        "# Setup dataset hyperparameters\n",
        "HORIZON = 1\n",
        "WINDOW_SIZE = 7"
      ],
      "metadata": {
        "id": "VCk93YUa7F74"
      },
      "execution_count": 292,
      "outputs": []
    },
    {
      "cell_type": "code",
      "source": [
        "# Make a copy of the sts historical data with block reward feature\n",
        "RNA_Concentartion_windowed = RNA_Amount.copy()\n"
      ],
      "metadata": {
        "id": "mvUb8rmQ7Gau"
      },
      "execution_count": 293,
      "outputs": []
    },
    {
      "cell_type": "code",
      "source": [
        "# Add windowed columns\n",
        "for i in range(WINDOW_SIZE): # Shift values for each step in WINDOW_SIZE\n",
        "  RNA_Concentartion_windowed[f\"RNA Amount+{i+1}\"] = RNA_Concentartion_windowed[\"RNA Amount\"].shift(periods=i+1)\n",
        "RNA_Concentartion_windowed.head(10)"
      ],
      "metadata": {
        "colab": {
          "base_uri": "https://localhost:8080/",
          "height": 394
        },
        "id": "pwXBvoUo7H79",
        "outputId": "d5898283-af51-47c8-c76b-629f66bbaa62"
      },
      "execution_count": 294,
      "outputs": [
        {
          "output_type": "execute_result",
          "data": {
            "text/plain": [
              "            RNA Amount  RNA Amount+1  RNA Amount+2  RNA Amount+3  \\\n",
              "Date                                                               \n",
              "2023-05-15     242.049           NaN           NaN           NaN   \n",
              "2023-05-16     222.481       242.049           NaN           NaN   \n",
              "2023-05-17     214.449       222.481       242.049           NaN   \n",
              "2023-05-18     217.025       214.449       222.481       242.049   \n",
              "2023-05-19     242.049       217.025       214.449       222.481   \n",
              "2023-05-20     222.481       242.049       217.025       214.449   \n",
              "2023-05-21     214.449       222.481       242.049       217.025   \n",
              "2023-05-22     217.025       214.449       222.481       242.049   \n",
              "2023-05-23     242.049       217.025       214.449       222.481   \n",
              "2023-05-24     222.481       242.049       217.025       214.449   \n",
              "\n",
              "            RNA Amount+4  RNA Amount+5  RNA Amount+6  RNA Amount+7  \n",
              "Date                                                                \n",
              "2023-05-15           NaN           NaN           NaN           NaN  \n",
              "2023-05-16           NaN           NaN           NaN           NaN  \n",
              "2023-05-17           NaN           NaN           NaN           NaN  \n",
              "2023-05-18           NaN           NaN           NaN           NaN  \n",
              "2023-05-19       242.049           NaN           NaN           NaN  \n",
              "2023-05-20       222.481       242.049           NaN           NaN  \n",
              "2023-05-21       214.449       222.481       242.049           NaN  \n",
              "2023-05-22       217.025       214.449       222.481       242.049  \n",
              "2023-05-23       242.049       217.025       214.449       222.481  \n",
              "2023-05-24       222.481       242.049       217.025       214.449  "
            ],
            "text/html": [
              "\n",
              "  <div id=\"df-73a3ab3e-f44e-4d77-aa95-c779e070a5d0\" class=\"colab-df-container\">\n",
              "    <div>\n",
              "<style scoped>\n",
              "    .dataframe tbody tr th:only-of-type {\n",
              "        vertical-align: middle;\n",
              "    }\n",
              "\n",
              "    .dataframe tbody tr th {\n",
              "        vertical-align: top;\n",
              "    }\n",
              "\n",
              "    .dataframe thead th {\n",
              "        text-align: right;\n",
              "    }\n",
              "</style>\n",
              "<table border=\"1\" class=\"dataframe\">\n",
              "  <thead>\n",
              "    <tr style=\"text-align: right;\">\n",
              "      <th></th>\n",
              "      <th>RNA Amount</th>\n",
              "      <th>RNA Amount+1</th>\n",
              "      <th>RNA Amount+2</th>\n",
              "      <th>RNA Amount+3</th>\n",
              "      <th>RNA Amount+4</th>\n",
              "      <th>RNA Amount+5</th>\n",
              "      <th>RNA Amount+6</th>\n",
              "      <th>RNA Amount+7</th>\n",
              "    </tr>\n",
              "    <tr>\n",
              "      <th>Date</th>\n",
              "      <th></th>\n",
              "      <th></th>\n",
              "      <th></th>\n",
              "      <th></th>\n",
              "      <th></th>\n",
              "      <th></th>\n",
              "      <th></th>\n",
              "      <th></th>\n",
              "    </tr>\n",
              "  </thead>\n",
              "  <tbody>\n",
              "    <tr>\n",
              "      <th>2023-05-15</th>\n",
              "      <td>242.049</td>\n",
              "      <td>NaN</td>\n",
              "      <td>NaN</td>\n",
              "      <td>NaN</td>\n",
              "      <td>NaN</td>\n",
              "      <td>NaN</td>\n",
              "      <td>NaN</td>\n",
              "      <td>NaN</td>\n",
              "    </tr>\n",
              "    <tr>\n",
              "      <th>2023-05-16</th>\n",
              "      <td>222.481</td>\n",
              "      <td>242.049</td>\n",
              "      <td>NaN</td>\n",
              "      <td>NaN</td>\n",
              "      <td>NaN</td>\n",
              "      <td>NaN</td>\n",
              "      <td>NaN</td>\n",
              "      <td>NaN</td>\n",
              "    </tr>\n",
              "    <tr>\n",
              "      <th>2023-05-17</th>\n",
              "      <td>214.449</td>\n",
              "      <td>222.481</td>\n",
              "      <td>242.049</td>\n",
              "      <td>NaN</td>\n",
              "      <td>NaN</td>\n",
              "      <td>NaN</td>\n",
              "      <td>NaN</td>\n",
              "      <td>NaN</td>\n",
              "    </tr>\n",
              "    <tr>\n",
              "      <th>2023-05-18</th>\n",
              "      <td>217.025</td>\n",
              "      <td>214.449</td>\n",
              "      <td>222.481</td>\n",
              "      <td>242.049</td>\n",
              "      <td>NaN</td>\n",
              "      <td>NaN</td>\n",
              "      <td>NaN</td>\n",
              "      <td>NaN</td>\n",
              "    </tr>\n",
              "    <tr>\n",
              "      <th>2023-05-19</th>\n",
              "      <td>242.049</td>\n",
              "      <td>217.025</td>\n",
              "      <td>214.449</td>\n",
              "      <td>222.481</td>\n",
              "      <td>242.049</td>\n",
              "      <td>NaN</td>\n",
              "      <td>NaN</td>\n",
              "      <td>NaN</td>\n",
              "    </tr>\n",
              "    <tr>\n",
              "      <th>2023-05-20</th>\n",
              "      <td>222.481</td>\n",
              "      <td>242.049</td>\n",
              "      <td>217.025</td>\n",
              "      <td>214.449</td>\n",
              "      <td>222.481</td>\n",
              "      <td>242.049</td>\n",
              "      <td>NaN</td>\n",
              "      <td>NaN</td>\n",
              "    </tr>\n",
              "    <tr>\n",
              "      <th>2023-05-21</th>\n",
              "      <td>214.449</td>\n",
              "      <td>222.481</td>\n",
              "      <td>242.049</td>\n",
              "      <td>217.025</td>\n",
              "      <td>214.449</td>\n",
              "      <td>222.481</td>\n",
              "      <td>242.049</td>\n",
              "      <td>NaN</td>\n",
              "    </tr>\n",
              "    <tr>\n",
              "      <th>2023-05-22</th>\n",
              "      <td>217.025</td>\n",
              "      <td>214.449</td>\n",
              "      <td>222.481</td>\n",
              "      <td>242.049</td>\n",
              "      <td>217.025</td>\n",
              "      <td>214.449</td>\n",
              "      <td>222.481</td>\n",
              "      <td>242.049</td>\n",
              "    </tr>\n",
              "    <tr>\n",
              "      <th>2023-05-23</th>\n",
              "      <td>242.049</td>\n",
              "      <td>217.025</td>\n",
              "      <td>214.449</td>\n",
              "      <td>222.481</td>\n",
              "      <td>242.049</td>\n",
              "      <td>217.025</td>\n",
              "      <td>214.449</td>\n",
              "      <td>222.481</td>\n",
              "    </tr>\n",
              "    <tr>\n",
              "      <th>2023-05-24</th>\n",
              "      <td>222.481</td>\n",
              "      <td>242.049</td>\n",
              "      <td>217.025</td>\n",
              "      <td>214.449</td>\n",
              "      <td>222.481</td>\n",
              "      <td>242.049</td>\n",
              "      <td>217.025</td>\n",
              "      <td>214.449</td>\n",
              "    </tr>\n",
              "  </tbody>\n",
              "</table>\n",
              "</div>\n",
              "    <div class=\"colab-df-buttons\">\n",
              "\n",
              "  <div class=\"colab-df-container\">\n",
              "    <button class=\"colab-df-convert\" onclick=\"convertToInteractive('df-73a3ab3e-f44e-4d77-aa95-c779e070a5d0')\"\n",
              "            title=\"Convert this dataframe to an interactive table.\"\n",
              "            style=\"display:none;\">\n",
              "\n",
              "  <svg xmlns=\"http://www.w3.org/2000/svg\" height=\"24px\" viewBox=\"0 -960 960 960\">\n",
              "    <path d=\"M120-120v-720h720v720H120Zm60-500h600v-160H180v160Zm220 220h160v-160H400v160Zm0 220h160v-160H400v160ZM180-400h160v-160H180v160Zm440 0h160v-160H620v160ZM180-180h160v-160H180v160Zm440 0h160v-160H620v160Z\"/>\n",
              "  </svg>\n",
              "    </button>\n",
              "\n",
              "  <style>\n",
              "    .colab-df-container {\n",
              "      display:flex;\n",
              "      gap: 12px;\n",
              "    }\n",
              "\n",
              "    .colab-df-convert {\n",
              "      background-color: #E8F0FE;\n",
              "      border: none;\n",
              "      border-radius: 50%;\n",
              "      cursor: pointer;\n",
              "      display: none;\n",
              "      fill: #1967D2;\n",
              "      height: 32px;\n",
              "      padding: 0 0 0 0;\n",
              "      width: 32px;\n",
              "    }\n",
              "\n",
              "    .colab-df-convert:hover {\n",
              "      background-color: #E2EBFA;\n",
              "      box-shadow: 0px 1px 2px rgba(60, 64, 67, 0.3), 0px 1px 3px 1px rgba(60, 64, 67, 0.15);\n",
              "      fill: #174EA6;\n",
              "    }\n",
              "\n",
              "    .colab-df-buttons div {\n",
              "      margin-bottom: 4px;\n",
              "    }\n",
              "\n",
              "    [theme=dark] .colab-df-convert {\n",
              "      background-color: #3B4455;\n",
              "      fill: #D2E3FC;\n",
              "    }\n",
              "\n",
              "    [theme=dark] .colab-df-convert:hover {\n",
              "      background-color: #434B5C;\n",
              "      box-shadow: 0px 1px 3px 1px rgba(0, 0, 0, 0.15);\n",
              "      filter: drop-shadow(0px 1px 2px rgba(0, 0, 0, 0.3));\n",
              "      fill: #FFFFFF;\n",
              "    }\n",
              "  </style>\n",
              "\n",
              "    <script>\n",
              "      const buttonEl =\n",
              "        document.querySelector('#df-73a3ab3e-f44e-4d77-aa95-c779e070a5d0 button.colab-df-convert');\n",
              "      buttonEl.style.display =\n",
              "        google.colab.kernel.accessAllowed ? 'block' : 'none';\n",
              "\n",
              "      async function convertToInteractive(key) {\n",
              "        const element = document.querySelector('#df-73a3ab3e-f44e-4d77-aa95-c779e070a5d0');\n",
              "        const dataTable =\n",
              "          await google.colab.kernel.invokeFunction('convertToInteractive',\n",
              "                                                    [key], {});\n",
              "        if (!dataTable) return;\n",
              "\n",
              "        const docLinkHtml = 'Like what you see? Visit the ' +\n",
              "          '<a target=\"_blank\" href=https://colab.research.google.com/notebooks/data_table.ipynb>data table notebook</a>'\n",
              "          + ' to learn more about interactive tables.';\n",
              "        element.innerHTML = '';\n",
              "        dataTable['output_type'] = 'display_data';\n",
              "        await google.colab.output.renderOutput(dataTable, element);\n",
              "        const docLink = document.createElement('div');\n",
              "        docLink.innerHTML = docLinkHtml;\n",
              "        element.appendChild(docLink);\n",
              "      }\n",
              "    </script>\n",
              "  </div>\n",
              "\n",
              "\n",
              "<div id=\"df-7c2a99ba-8a87-40d6-abed-63efcc4e8f77\">\n",
              "  <button class=\"colab-df-quickchart\" onclick=\"quickchart('df-7c2a99ba-8a87-40d6-abed-63efcc4e8f77')\"\n",
              "            title=\"Suggest charts.\"\n",
              "            style=\"display:none;\">\n",
              "\n",
              "<svg xmlns=\"http://www.w3.org/2000/svg\" height=\"24px\"viewBox=\"0 0 24 24\"\n",
              "     width=\"24px\">\n",
              "    <g>\n",
              "        <path d=\"M19 3H5c-1.1 0-2 .9-2 2v14c0 1.1.9 2 2 2h14c1.1 0 2-.9 2-2V5c0-1.1-.9-2-2-2zM9 17H7v-7h2v7zm4 0h-2V7h2v10zm4 0h-2v-4h2v4z\"/>\n",
              "    </g>\n",
              "</svg>\n",
              "  </button>\n",
              "\n",
              "<style>\n",
              "  .colab-df-quickchart {\n",
              "    background-color: #E8F0FE;\n",
              "    border: none;\n",
              "    border-radius: 50%;\n",
              "    cursor: pointer;\n",
              "    display: none;\n",
              "    fill: #1967D2;\n",
              "    height: 32px;\n",
              "    padding: 0 0 0 0;\n",
              "    width: 32px;\n",
              "  }\n",
              "\n",
              "  .colab-df-quickchart:hover {\n",
              "    background-color: #E2EBFA;\n",
              "    box-shadow: 0px 1px 2px rgba(60, 64, 67, 0.3), 0px 1px 3px 1px rgba(60, 64, 67, 0.15);\n",
              "    fill: #174EA6;\n",
              "  }\n",
              "\n",
              "  [theme=dark] .colab-df-quickchart {\n",
              "    background-color: #3B4455;\n",
              "    fill: #D2E3FC;\n",
              "  }\n",
              "\n",
              "  [theme=dark] .colab-df-quickchart:hover {\n",
              "    background-color: #434B5C;\n",
              "    box-shadow: 0px 1px 3px 1px rgba(0, 0, 0, 0.15);\n",
              "    filter: drop-shadow(0px 1px 2px rgba(0, 0, 0, 0.3));\n",
              "    fill: #FFFFFF;\n",
              "  }\n",
              "</style>\n",
              "\n",
              "  <script>\n",
              "    async function quickchart(key) {\n",
              "      const charts = await google.colab.kernel.invokeFunction(\n",
              "          'suggestCharts', [key], {});\n",
              "    }\n",
              "    (() => {\n",
              "      let quickchartButtonEl =\n",
              "        document.querySelector('#df-7c2a99ba-8a87-40d6-abed-63efcc4e8f77 button');\n",
              "      quickchartButtonEl.style.display =\n",
              "        google.colab.kernel.accessAllowed ? 'block' : 'none';\n",
              "    })();\n",
              "  </script>\n",
              "</div>\n",
              "    </div>\n",
              "  </div>\n"
            ]
          },
          "metadata": {},
          "execution_count": 294
        }
      ]
    },
    {
      "cell_type": "code",
      "source": [
        "# Let's create X & y, remove the NaN's and convert to float32 to prevent TensorFlow errors\n",
        "x = RNA_Concentartion_windowed.drop([\"RNA Amount\"], axis=1).dropna().to_numpy()\n",
        "y = RNA_Concentartion_windowed.dropna()[\"RNA Amount\"].to_numpy()"
      ],
      "metadata": {
        "id": "kCqtOqJB7Sdd"
      },
      "execution_count": 295,
      "outputs": []
    },
    {
      "cell_type": "code",
      "source": [
        "# 1. Turn X and y into tensor Datasets\n",
        "features_dataset_all = tf.data.Dataset.from_tensor_slices(x)\n",
        "labels_dataset_all = tf.data.Dataset.from_tensor_slices(y)\n",
        "\n",
        "# 2. Combine features & labels\n",
        "dataset_all = tf.data.Dataset.zip((features_dataset_all, labels_dataset_all))\n",
        "\n",
        "# 3. Batch and prefetch for optimal performance\n",
        "BATCH_SIZE = 8 # taken from Appendix D in N-BEATS paper\n",
        "dataset_all = dataset_all.batch(BATCH_SIZE).prefetch(tf.data.AUTOTUNE)\n",
        "\n",
        "dataset_all"
      ],
      "metadata": {
        "colab": {
          "base_uri": "https://localhost:8080/"
        },
        "id": "5RxPSZA87e2O",
        "outputId": "52689670-4db5-4a25-92cd-0d81a8b52cb2"
      },
      "execution_count": 296,
      "outputs": [
        {
          "output_type": "execute_result",
          "data": {
            "text/plain": [
              "<_PrefetchDataset element_spec=(TensorSpec(shape=(None, 7), dtype=tf.float64, name=None), TensorSpec(shape=(None,), dtype=tf.float64, name=None))>"
            ]
          },
          "metadata": {},
          "execution_count": 296
        }
      ]
    },
    {
      "cell_type": "markdown",
      "source": [
        "And now let's create a model similar to model_1 except with an extra layer, I'll also fit it to the entire dataset for 100 epochs ."
      ],
      "metadata": {
        "id": "K0Q3jo7clbkk"
      }
    },
    {
      "cell_type": "code",
      "source": [
        "tf.random.set_seed(42)\n",
        "\n",
        "# Create model (nice and simple, just to test)\n",
        "model_3 = tf.keras.Sequential([\n",
        "  layers.Dense(128, activation=\"relu\"),\n",
        "  layers.Dense(128, activation=\"relu\"),\n",
        "  layers.Dense(HORIZON)\n",
        "])\n",
        "\n",
        "# Compile\n",
        "model_3.compile(loss=tf.keras.losses.mae,\n",
        "                optimizer=tf.keras.optimizers.Adam())\n",
        "\n",
        "# Fit model on all of the data to make future forecasts\n",
        "model_3.fit(dataset_all,\n",
        "            epochs=100,\n",
        "            verbose=0)"
      ],
      "metadata": {
        "colab": {
          "base_uri": "https://localhost:8080/"
        },
        "id": "nPxyMSxp7hGJ",
        "outputId": "89997186-da2d-4def-f470-226dda3a54fa"
      },
      "execution_count": 297,
      "outputs": [
        {
          "output_type": "execute_result",
          "data": {
            "text/plain": [
              "<keras.callbacks.History at 0x7e25f0787250>"
            ]
          },
          "metadata": {},
          "execution_count": 297
        }
      ]
    },
    {
      "cell_type": "markdown",
      "source": [
        "#Make predictions on the future"
      ],
      "metadata": {
        "id": "l1wH4c0Plfp8"
      }
    },
    {
      "cell_type": "code",
      "source": [
        "# How many timesteps to predict into the future?\n",
        "INTO_FUTURE = 5 # since our sts data is daily, this is for 14 days"
      ],
      "metadata": {
        "id": "m3qftJFI7jUy"
      },
      "execution_count": 298,
      "outputs": []
    },
    {
      "cell_type": "code",
      "source": [
        "# 1. Create function to make predictions into the future\n",
        "def make_future_forecast(values, model, into_future, window_size=WINDOW_SIZE) -> list:\n",
        "\n",
        "  # 2. Make an empty list for future forecasts/prepare data to forecast on\n",
        "  future_forecast = []\n",
        "  last_window = values[-WINDOW_SIZE:] # only want preds from the last window (this will get updated)\n",
        "\n",
        "  # 3. Make INTO_FUTURE number of predictions, altering the data which gets predicted on each time\n",
        "  for _ in range(into_future):\n",
        "\n",
        "    # Predict on last window then append it again, again, again (model starts to make forecasts on its own forecasts)\n",
        "    future_pred = model.predict(tf.expand_dims(last_window, axis=0))\n",
        "    print(f\"Predicting on: \\n {last_window} -> Prediction: {tf.squeeze(future_pred).numpy()}\\n\")\n",
        "\n",
        "    # Append predictions to future_forecast\n",
        "    future_forecast.append(tf.squeeze(future_pred).numpy())\n",
        "    # print(future_forecast)\n",
        "\n",
        "    # Update last window with new pred and get WINDOW_SIZE most recent preds (model was trained on WINDOW_SIZE windows)\n",
        "    last_window = np.append(last_window, future_pred)[-WINDOW_SIZE:]\n",
        "\n",
        "  return future_forecast"
      ],
      "metadata": {
        "id": "FZeVGf2A7mU7"
      },
      "execution_count": 299,
      "outputs": []
    },
    {
      "cell_type": "code",
      "source": [
        "# we're making may not actually be forecasts, if that's the case, readjust the training data.\n",
        "future_forecast = make_future_forecast(values=y,\n",
        "                                       model=model_3,\n",
        "                                       into_future=INTO_FUTURE,\n",
        "                                       window_size=WINDOW_SIZE)"
      ],
      "metadata": {
        "colab": {
          "base_uri": "https://localhost:8080/"
        },
        "id": "i0r4T-km7n10",
        "outputId": "1f21c357-7105-4999-d21a-6abfac65d5d5"
      },
      "execution_count": 300,
      "outputs": [
        {
          "output_type": "stream",
          "name": "stdout",
          "text": [
            "1/1 [==============================] - 0s 54ms/step\n",
            "Predicting on: \n",
            " [222.481 217.025 242.049 222.481 217.025 242.049 222.481] -> Prediction: 221.7147979736328\n",
            "\n",
            "1/1 [==============================] - 0s 24ms/step\n",
            "Predicting on: \n",
            " [217.025      242.049      222.481      217.025      242.049\n",
            " 222.481      221.71479797] -> Prediction: 219.632568359375\n",
            "\n",
            "1/1 [==============================] - 0s 20ms/step\n",
            "Predicting on: \n",
            " [242.049      222.481      217.025      242.049      222.481\n",
            " 221.71479797 219.63256836] -> Prediction: 219.55902099609375\n",
            "\n",
            "1/1 [==============================] - 0s 24ms/step\n",
            "Predicting on: \n",
            " [222.481      217.025      242.049      222.481      221.71479797\n",
            " 219.63256836 219.559021  ] -> Prediction: 220.74742126464844\n",
            "\n",
            "1/1 [==============================] - 0s 21ms/step\n",
            "Predicting on: \n",
            " [217.025      242.049      222.481      221.71479797 219.63256836\n",
            " 219.559021   220.74742126] -> Prediction: 214.35980224609375\n",
            "\n"
          ]
        }
      ]
    },
    {
      "cell_type": "code",
      "source": [
        "future_forecast[:10]"
      ],
      "metadata": {
        "colab": {
          "base_uri": "https://localhost:8080/"
        },
        "id": "wqwbs0yl7pmk",
        "outputId": "df9eb900-bb67-4e1a-ad51-0ba553300fa2"
      },
      "execution_count": 301,
      "outputs": [
        {
          "output_type": "execute_result",
          "data": {
            "text/plain": [
              "[221.7148, 219.63257, 219.55902, 220.74742, 214.3598]"
            ]
          },
          "metadata": {},
          "execution_count": 301
        }
      ]
    },
    {
      "cell_type": "markdown",
      "source": [
        "#Plot future forecasts"
      ],
      "metadata": {
        "id": "xy8xTlp5loxn"
      }
    },
    {
      "cell_type": "markdown",
      "source": [
        "I need a series of future dates (future dates from the final date of where our dataset ends)."
      ],
      "metadata": {
        "id": "mMBRrk15lsb3"
      }
    },
    {
      "cell_type": "code",
      "source": [
        "def get_future_dates(start_date, into_future, offset=1):\n",
        "  start_date = start_date + np.timedelta64(offset, \"D\") # specify start date, \"D\" stands for day\n",
        "  end_date = start_date + np.timedelta64(into_future, \"D\") # specify end date\n",
        "  return np.arange(start_date, end_date, dtype=\"datetime64[D]\") # return a date range between start date and end data"
      ],
      "metadata": {
        "id": "W8aYyOWZ7tw1"
      },
      "execution_count": 302,
      "outputs": []
    },
    {
      "cell_type": "markdown",
      "source": [
        "The start date of our forecasted dates will be the last date of our dataset."
      ],
      "metadata": {
        "id": "YdmyGLNhlunX"
      }
    },
    {
      "cell_type": "code",
      "source": [
        "# Last timestep of timesteps (currently in np.datetime64 format)\n",
        "last_timestep =  RNA_Amount.index[-1]\n",
        "last_timestep"
      ],
      "metadata": {
        "colab": {
          "base_uri": "https://localhost:8080/"
        },
        "id": "Ke13HEpe7wWP",
        "outputId": "92cd5daf-7a7b-49c0-c255-36155dd8883f"
      },
      "execution_count": 303,
      "outputs": [
        {
          "output_type": "execute_result",
          "data": {
            "text/plain": [
              "Timestamp('2023-06-07 00:00:00')"
            ]
          },
          "metadata": {},
          "execution_count": 303
        }
      ]
    },
    {
      "cell_type": "code",
      "source": [
        "RNA_Amount.index = pd.to_datetime(RNA_Amount.index, format='%d/%m/%Y')"
      ],
      "metadata": {
        "id": "5ET8fZxR9-vs"
      },
      "execution_count": 304,
      "outputs": []
    },
    {
      "cell_type": "code",
      "source": [
        "RNA_Amount"
      ],
      "metadata": {
        "colab": {
          "base_uri": "https://localhost:8080/",
          "height": 833
        },
        "id": "kuXsMZtV-hgq",
        "outputId": "e7539ee8-545f-42fe-e12c-eb68ffb203c9"
      },
      "execution_count": 305,
      "outputs": [
        {
          "output_type": "execute_result",
          "data": {
            "text/plain": [
              "            RNA Amount\n",
              "Date                  \n",
              "2023-05-15     242.049\n",
              "2023-05-16     222.481\n",
              "2023-05-17     214.449\n",
              "2023-05-18     217.025\n",
              "2023-05-19     242.049\n",
              "2023-05-20     222.481\n",
              "2023-05-21     214.449\n",
              "2023-05-22     217.025\n",
              "2023-05-23     242.049\n",
              "2023-05-24     222.481\n",
              "2023-05-25     214.449\n",
              "2023-05-26     217.025\n",
              "2023-05-27     242.049\n",
              "2023-05-28     222.481\n",
              "2023-05-29     214.449\n",
              "2023-05-30     217.025\n",
              "2023-05-31     242.049\n",
              "2023-06-01     222.481\n",
              "2023-06-02     217.025\n",
              "2023-06-03     242.049\n",
              "2023-06-04     222.481\n",
              "2023-06-05     217.025\n",
              "2023-06-06     242.049\n",
              "2023-06-07     222.481"
            ],
            "text/html": [
              "\n",
              "  <div id=\"df-097e3620-ab8d-42ab-853b-fd3f01593480\" class=\"colab-df-container\">\n",
              "    <div>\n",
              "<style scoped>\n",
              "    .dataframe tbody tr th:only-of-type {\n",
              "        vertical-align: middle;\n",
              "    }\n",
              "\n",
              "    .dataframe tbody tr th {\n",
              "        vertical-align: top;\n",
              "    }\n",
              "\n",
              "    .dataframe thead th {\n",
              "        text-align: right;\n",
              "    }\n",
              "</style>\n",
              "<table border=\"1\" class=\"dataframe\">\n",
              "  <thead>\n",
              "    <tr style=\"text-align: right;\">\n",
              "      <th></th>\n",
              "      <th>RNA Amount</th>\n",
              "    </tr>\n",
              "    <tr>\n",
              "      <th>Date</th>\n",
              "      <th></th>\n",
              "    </tr>\n",
              "  </thead>\n",
              "  <tbody>\n",
              "    <tr>\n",
              "      <th>2023-05-15</th>\n",
              "      <td>242.049</td>\n",
              "    </tr>\n",
              "    <tr>\n",
              "      <th>2023-05-16</th>\n",
              "      <td>222.481</td>\n",
              "    </tr>\n",
              "    <tr>\n",
              "      <th>2023-05-17</th>\n",
              "      <td>214.449</td>\n",
              "    </tr>\n",
              "    <tr>\n",
              "      <th>2023-05-18</th>\n",
              "      <td>217.025</td>\n",
              "    </tr>\n",
              "    <tr>\n",
              "      <th>2023-05-19</th>\n",
              "      <td>242.049</td>\n",
              "    </tr>\n",
              "    <tr>\n",
              "      <th>2023-05-20</th>\n",
              "      <td>222.481</td>\n",
              "    </tr>\n",
              "    <tr>\n",
              "      <th>2023-05-21</th>\n",
              "      <td>214.449</td>\n",
              "    </tr>\n",
              "    <tr>\n",
              "      <th>2023-05-22</th>\n",
              "      <td>217.025</td>\n",
              "    </tr>\n",
              "    <tr>\n",
              "      <th>2023-05-23</th>\n",
              "      <td>242.049</td>\n",
              "    </tr>\n",
              "    <tr>\n",
              "      <th>2023-05-24</th>\n",
              "      <td>222.481</td>\n",
              "    </tr>\n",
              "    <tr>\n",
              "      <th>2023-05-25</th>\n",
              "      <td>214.449</td>\n",
              "    </tr>\n",
              "    <tr>\n",
              "      <th>2023-05-26</th>\n",
              "      <td>217.025</td>\n",
              "    </tr>\n",
              "    <tr>\n",
              "      <th>2023-05-27</th>\n",
              "      <td>242.049</td>\n",
              "    </tr>\n",
              "    <tr>\n",
              "      <th>2023-05-28</th>\n",
              "      <td>222.481</td>\n",
              "    </tr>\n",
              "    <tr>\n",
              "      <th>2023-05-29</th>\n",
              "      <td>214.449</td>\n",
              "    </tr>\n",
              "    <tr>\n",
              "      <th>2023-05-30</th>\n",
              "      <td>217.025</td>\n",
              "    </tr>\n",
              "    <tr>\n",
              "      <th>2023-05-31</th>\n",
              "      <td>242.049</td>\n",
              "    </tr>\n",
              "    <tr>\n",
              "      <th>2023-06-01</th>\n",
              "      <td>222.481</td>\n",
              "    </tr>\n",
              "    <tr>\n",
              "      <th>2023-06-02</th>\n",
              "      <td>217.025</td>\n",
              "    </tr>\n",
              "    <tr>\n",
              "      <th>2023-06-03</th>\n",
              "      <td>242.049</td>\n",
              "    </tr>\n",
              "    <tr>\n",
              "      <th>2023-06-04</th>\n",
              "      <td>222.481</td>\n",
              "    </tr>\n",
              "    <tr>\n",
              "      <th>2023-06-05</th>\n",
              "      <td>217.025</td>\n",
              "    </tr>\n",
              "    <tr>\n",
              "      <th>2023-06-06</th>\n",
              "      <td>242.049</td>\n",
              "    </tr>\n",
              "    <tr>\n",
              "      <th>2023-06-07</th>\n",
              "      <td>222.481</td>\n",
              "    </tr>\n",
              "  </tbody>\n",
              "</table>\n",
              "</div>\n",
              "    <div class=\"colab-df-buttons\">\n",
              "\n",
              "  <div class=\"colab-df-container\">\n",
              "    <button class=\"colab-df-convert\" onclick=\"convertToInteractive('df-097e3620-ab8d-42ab-853b-fd3f01593480')\"\n",
              "            title=\"Convert this dataframe to an interactive table.\"\n",
              "            style=\"display:none;\">\n",
              "\n",
              "  <svg xmlns=\"http://www.w3.org/2000/svg\" height=\"24px\" viewBox=\"0 -960 960 960\">\n",
              "    <path d=\"M120-120v-720h720v720H120Zm60-500h600v-160H180v160Zm220 220h160v-160H400v160Zm0 220h160v-160H400v160ZM180-400h160v-160H180v160Zm440 0h160v-160H620v160ZM180-180h160v-160H180v160Zm440 0h160v-160H620v160Z\"/>\n",
              "  </svg>\n",
              "    </button>\n",
              "\n",
              "  <style>\n",
              "    .colab-df-container {\n",
              "      display:flex;\n",
              "      gap: 12px;\n",
              "    }\n",
              "\n",
              "    .colab-df-convert {\n",
              "      background-color: #E8F0FE;\n",
              "      border: none;\n",
              "      border-radius: 50%;\n",
              "      cursor: pointer;\n",
              "      display: none;\n",
              "      fill: #1967D2;\n",
              "      height: 32px;\n",
              "      padding: 0 0 0 0;\n",
              "      width: 32px;\n",
              "    }\n",
              "\n",
              "    .colab-df-convert:hover {\n",
              "      background-color: #E2EBFA;\n",
              "      box-shadow: 0px 1px 2px rgba(60, 64, 67, 0.3), 0px 1px 3px 1px rgba(60, 64, 67, 0.15);\n",
              "      fill: #174EA6;\n",
              "    }\n",
              "\n",
              "    .colab-df-buttons div {\n",
              "      margin-bottom: 4px;\n",
              "    }\n",
              "\n",
              "    [theme=dark] .colab-df-convert {\n",
              "      background-color: #3B4455;\n",
              "      fill: #D2E3FC;\n",
              "    }\n",
              "\n",
              "    [theme=dark] .colab-df-convert:hover {\n",
              "      background-color: #434B5C;\n",
              "      box-shadow: 0px 1px 3px 1px rgba(0, 0, 0, 0.15);\n",
              "      filter: drop-shadow(0px 1px 2px rgba(0, 0, 0, 0.3));\n",
              "      fill: #FFFFFF;\n",
              "    }\n",
              "  </style>\n",
              "\n",
              "    <script>\n",
              "      const buttonEl =\n",
              "        document.querySelector('#df-097e3620-ab8d-42ab-853b-fd3f01593480 button.colab-df-convert');\n",
              "      buttonEl.style.display =\n",
              "        google.colab.kernel.accessAllowed ? 'block' : 'none';\n",
              "\n",
              "      async function convertToInteractive(key) {\n",
              "        const element = document.querySelector('#df-097e3620-ab8d-42ab-853b-fd3f01593480');\n",
              "        const dataTable =\n",
              "          await google.colab.kernel.invokeFunction('convertToInteractive',\n",
              "                                                    [key], {});\n",
              "        if (!dataTable) return;\n",
              "\n",
              "        const docLinkHtml = 'Like what you see? Visit the ' +\n",
              "          '<a target=\"_blank\" href=https://colab.research.google.com/notebooks/data_table.ipynb>data table notebook</a>'\n",
              "          + ' to learn more about interactive tables.';\n",
              "        element.innerHTML = '';\n",
              "        dataTable['output_type'] = 'display_data';\n",
              "        await google.colab.output.renderOutput(dataTable, element);\n",
              "        const docLink = document.createElement('div');\n",
              "        docLink.innerHTML = docLinkHtml;\n",
              "        element.appendChild(docLink);\n",
              "      }\n",
              "    </script>\n",
              "  </div>\n",
              "\n",
              "\n",
              "<div id=\"df-613f5fc8-1e97-43c2-8906-7e3b3fe1523f\">\n",
              "  <button class=\"colab-df-quickchart\" onclick=\"quickchart('df-613f5fc8-1e97-43c2-8906-7e3b3fe1523f')\"\n",
              "            title=\"Suggest charts.\"\n",
              "            style=\"display:none;\">\n",
              "\n",
              "<svg xmlns=\"http://www.w3.org/2000/svg\" height=\"24px\"viewBox=\"0 0 24 24\"\n",
              "     width=\"24px\">\n",
              "    <g>\n",
              "        <path d=\"M19 3H5c-1.1 0-2 .9-2 2v14c0 1.1.9 2 2 2h14c1.1 0 2-.9 2-2V5c0-1.1-.9-2-2-2zM9 17H7v-7h2v7zm4 0h-2V7h2v10zm4 0h-2v-4h2v4z\"/>\n",
              "    </g>\n",
              "</svg>\n",
              "  </button>\n",
              "\n",
              "<style>\n",
              "  .colab-df-quickchart {\n",
              "    background-color: #E8F0FE;\n",
              "    border: none;\n",
              "    border-radius: 50%;\n",
              "    cursor: pointer;\n",
              "    display: none;\n",
              "    fill: #1967D2;\n",
              "    height: 32px;\n",
              "    padding: 0 0 0 0;\n",
              "    width: 32px;\n",
              "  }\n",
              "\n",
              "  .colab-df-quickchart:hover {\n",
              "    background-color: #E2EBFA;\n",
              "    box-shadow: 0px 1px 2px rgba(60, 64, 67, 0.3), 0px 1px 3px 1px rgba(60, 64, 67, 0.15);\n",
              "    fill: #174EA6;\n",
              "  }\n",
              "\n",
              "  [theme=dark] .colab-df-quickchart {\n",
              "    background-color: #3B4455;\n",
              "    fill: #D2E3FC;\n",
              "  }\n",
              "\n",
              "  [theme=dark] .colab-df-quickchart:hover {\n",
              "    background-color: #434B5C;\n",
              "    box-shadow: 0px 1px 3px 1px rgba(0, 0, 0, 0.15);\n",
              "    filter: drop-shadow(0px 1px 2px rgba(0, 0, 0, 0.3));\n",
              "    fill: #FFFFFF;\n",
              "  }\n",
              "</style>\n",
              "\n",
              "  <script>\n",
              "    async function quickchart(key) {\n",
              "      const charts = await google.colab.kernel.invokeFunction(\n",
              "          'suggestCharts', [key], {});\n",
              "    }\n",
              "    (() => {\n",
              "      let quickchartButtonEl =\n",
              "        document.querySelector('#df-613f5fc8-1e97-43c2-8906-7e3b3fe1523f button');\n",
              "      quickchartButtonEl.style.display =\n",
              "        google.colab.kernel.accessAllowed ? 'block' : 'none';\n",
              "    })();\n",
              "  </script>\n",
              "</div>\n",
              "    </div>\n",
              "  </div>\n"
            ]
          },
          "metadata": {},
          "execution_count": 305
        }
      ]
    },
    {
      "cell_type": "code",
      "source": [
        "# Get next two weeks of timesteps\n",
        "next_time_steps = get_future_dates(start_date=last_timestep,\n",
        "                                   into_future=INTO_FUTURE)\n",
        "next_time_steps"
      ],
      "metadata": {
        "colab": {
          "base_uri": "https://localhost:8080/"
        },
        "id": "3284GoBy7x0i",
        "outputId": "11b9d3df-09e4-428a-e19d-8f11a266bcc1"
      },
      "execution_count": 306,
      "outputs": [
        {
          "output_type": "execute_result",
          "data": {
            "text/plain": [
              "array(['2023-06-08', '2023-06-09', '2023-06-10', '2023-06-11',\n",
              "       '2023-06-12'], dtype='datetime64[D]')"
            ]
          },
          "metadata": {},
          "execution_count": 306
        }
      ]
    },
    {
      "cell_type": "markdown",
      "source": [
        "let's insert the last timestep and Stainless-Steel price of our training data to the next_time_steps and future_forecast arrays."
      ],
      "metadata": {
        "id": "9r6KyyNVl04h"
      }
    },
    {
      "cell_type": "code",
      "source": [
        "# Insert last timestep/final price so the graph doesn't look messed\n",
        "next_time_steps = np.insert(next_time_steps, 0, last_timestep)\n",
        "future_forecast = np.insert(future_forecast, 0, RNA_Concentartion[-1])\n",
        "next_time_steps, future_forecast"
      ],
      "metadata": {
        "colab": {
          "base_uri": "https://localhost:8080/"
        },
        "id": "w9InYv4U8COl",
        "outputId": "61cef9a9-bf7d-4b48-b237-b765cdfff0ee"
      },
      "execution_count": 307,
      "outputs": [
        {
          "output_type": "execute_result",
          "data": {
            "text/plain": [
              "(array(['2023-06-07', '2023-06-08', '2023-06-09', '2023-06-10',\n",
              "        '2023-06-11', '2023-06-12'], dtype='datetime64[D]'),\n",
              " array([222.481  , 221.7148 , 219.63257, 219.55902, 220.74742, 214.3598 ],\n",
              "       dtype=float32))"
            ]
          },
          "metadata": {},
          "execution_count": 307
        }
      ]
    },
    {
      "cell_type": "markdown",
      "source": [
        "#Time to plot!"
      ],
      "metadata": {
        "id": "SmMi0QIgl4Oq"
      }
    },
    {
      "cell_type": "code",
      "source": [
        "# Plot future price predictions of sts\n",
        "plt.figure(figsize=(10, 7))\n",
        "plot_time_series(RNA_Amount.index, RNA_Concentartion, format=\"-\", label=\"Actual sts Price\")\n",
        "plot_time_series(next_time_steps, future_forecast, format=\"-\", label=\"Predicted sts Price\")"
      ],
      "metadata": {
        "colab": {
          "base_uri": "https://localhost:8080/",
          "height": 619
        },
        "id": "sgnIYMW7-yZl",
        "outputId": "ee562f8d-b7fd-4e9f-ac35-5d531b0844a4"
      },
      "execution_count": 308,
      "outputs": [
        {
          "output_type": "display_data",
          "data": {
            "text/plain": [
              "<Figure size 1000x700 with 1 Axes>"
            ],
            "image/png": "[encoded data removed]"
          },
          "metadata": {}
        }
      ]
    },
    {
      "cell_type": "markdown",
      "source": [
        "Perhaps that's due to our model overfitting the training data and not generalizing well for future data. Also, as we could imagine, the further we predict into the future, the higher your chance for error (try seeing what happens when you predict 100 days into the future).\n",
        "we can't measure these predictions as they are because after all, they're predictions into the actual-future ."
      ],
      "metadata": {
        "id": "EWsQP2ael79z"
      }
    },
    {
      "cell_type": "code",
      "source": [
        "# Compare different model results (w = window, h = horizon, e.g. w=7 means a window size of 7)\n",
        "model_results = pd.DataFrame({\"naive_model\": naive_results,\n",
        "                              \"model_1_dense_w3_h1\": model_1_results,\n",
        "                              \"model_2_dense_w5_h1\": model_2_results,\n",
        "                              \"model_3_dense_w7_h3\": model_3_results,\n",
        "                              \"model_4_CONV1D\": model_4_results}).T\n",
        "model_results.head()"
      ],
      "metadata": {
        "colab": {
          "base_uri": "https://localhost:8080/",
          "height": 206
        },
        "id": "eYpssBIS-081",
        "outputId": "a16a4838-2ad0-4646-e1f8-ee72dcff2777"
      },
      "execution_count": 220,
      "outputs": [
        {
          "output_type": "execute_result",
          "data": {
            "text/plain": [
              "                            mae         mse       rmse      mape      mase\n",
              "naive_model           17.403999  355.445374  18.853258  7.610778  1.043238\n",
              "model_1_dense_w7_h1    8.831744  162.263290  12.738260  3.688969  0.507455\n",
              "model_2_dense_w30_h7   8.173651  101.347672  10.067158  3.542232  0.469642\n",
              "model_3_dense_w30_h1  10.553840  215.025879  14.651027  4.480657  0.632623\n",
              "model_4_CONV1D         8.648237  139.414200  11.787082  3.669578  0.518396"
            ],
            "text/html": [
              "\n",
              "  <div id=\"df-5036feda-be15-4f0f-aa20-298b8d6543c7\" class=\"colab-df-container\">\n",
              "    <div>\n",
              "<style scoped>\n",
              "    .dataframe tbody tr th:only-of-type {\n",
              "        vertical-align: middle;\n",
              "    }\n",
              "\n",
              "    .dataframe tbody tr th {\n",
              "        vertical-align: top;\n",
              "    }\n",
              "\n",
              "    .dataframe thead th {\n",
              "        text-align: right;\n",
              "    }\n",
              "</style>\n",
              "<table border=\"1\" class=\"dataframe\">\n",
              "  <thead>\n",
              "    <tr style=\"text-align: right;\">\n",
              "      <th></th>\n",
              "      <th>mae</th>\n",
              "      <th>mse</th>\n",
              "      <th>rmse</th>\n",
              "      <th>mape</th>\n",
              "      <th>mase</th>\n",
              "    </tr>\n",
              "  </thead>\n",
              "  <tbody>\n",
              "    <tr>\n",
              "      <th>naive_model</th>\n",
              "      <td>17.403999</td>\n",
              "      <td>355.445374</td>\n",
              "      <td>18.853258</td>\n",
              "      <td>7.610778</td>\n",
              "      <td>1.043238</td>\n",
              "    </tr>\n",
              "    <tr>\n",
              "      <th>model_1_dense_w7_h1</th>\n",
              "      <td>8.831744</td>\n",
              "      <td>162.263290</td>\n",
              "      <td>12.738260</td>\n",
              "      <td>3.688969</td>\n",
              "      <td>0.507455</td>\n",
              "    </tr>\n",
              "    <tr>\n",
              "      <th>model_2_dense_w30_h7</th>\n",
              "      <td>8.173651</td>\n",
              "      <td>101.347672</td>\n",
              "      <td>10.067158</td>\n",
              "      <td>3.542232</td>\n",
              "      <td>0.469642</td>\n",
              "    </tr>\n",
              "    <tr>\n",
              "      <th>model_3_dense_w30_h1</th>\n",
              "      <td>10.553840</td>\n",
              "      <td>215.025879</td>\n",
              "      <td>14.651027</td>\n",
              "      <td>4.480657</td>\n",
              "      <td>0.632623</td>\n",
              "    </tr>\n",
              "    <tr>\n",
              "      <th>model_4_CONV1D</th>\n",
              "      <td>8.648237</td>\n",
              "      <td>139.414200</td>\n",
              "      <td>11.787082</td>\n",
              "      <td>3.669578</td>\n",
              "      <td>0.518396</td>\n",
              "    </tr>\n",
              "  </tbody>\n",
              "</table>\n",
              "</div>\n",
              "    <div class=\"colab-df-buttons\">\n",
              "\n",
              "  <div class=\"colab-df-container\">\n",
              "    <button class=\"colab-df-convert\" onclick=\"convertToInteractive('df-5036feda-be15-4f0f-aa20-298b8d6543c7')\"\n",
              "            title=\"Convert this dataframe to an interactive table.\"\n",
              "            style=\"display:none;\">\n",
              "\n",
              "  <svg xmlns=\"http://www.w3.org/2000/svg\" height=\"24px\" viewBox=\"0 -960 960 960\">\n",
              "    <path d=\"M120-120v-720h720v720H120Zm60-500h600v-160H180v160Zm220 220h160v-160H400v160Zm0 220h160v-160H400v160ZM180-400h160v-160H180v160Zm440 0h160v-160H620v160ZM180-180h160v-160H180v160Zm440 0h160v-160H620v160Z\"/>\n",
              "  </svg>\n",
              "    </button>\n",
              "\n",
              "  <style>\n",
              "    .colab-df-container {\n",
              "      display:flex;\n",
              "      gap: 12px;\n",
              "    }\n",
              "\n",
              "    .colab-df-convert {\n",
              "      background-color: #E8F0FE;\n",
              "      border: none;\n",
              "      border-radius: 50%;\n",
              "      cursor: pointer;\n",
              "      display: none;\n",
              "      fill: #1967D2;\n",
              "      height: 32px;\n",
              "      padding: 0 0 0 0;\n",
              "      width: 32px;\n",
              "    }\n",
              "\n",
              "    .colab-df-convert:hover {\n",
              "      background-color: #E2EBFA;\n",
              "      box-shadow: 0px 1px 2px rgba(60, 64, 67, 0.3), 0px 1px 3px 1px rgba(60, 64, 67, 0.15);\n",
              "      fill: #174EA6;\n",
              "    }\n",
              "\n",
              "    .colab-df-buttons div {\n",
              "      margin-bottom: 4px;\n",
              "    }\n",
              "\n",
              "    [theme=dark] .colab-df-convert {\n",
              "      background-color: #3B4455;\n",
              "      fill: #D2E3FC;\n",
              "    }\n",
              "\n",
              "    [theme=dark] .colab-df-convert:hover {\n",
              "      background-color: #434B5C;\n",
              "      box-shadow: 0px 1px 3px 1px rgba(0, 0, 0, 0.15);\n",
              "      filter: drop-shadow(0px 1px 2px rgba(0, 0, 0, 0.3));\n",
              "      fill: #FFFFFF;\n",
              "    }\n",
              "  </style>\n",
              "\n",
              "    <script>\n",
              "      const buttonEl =\n",
              "        document.querySelector('#df-5036feda-be15-4f0f-aa20-298b8d6543c7 button.colab-df-convert');\n",
              "      buttonEl.style.display =\n",
              "        google.colab.kernel.accessAllowed ? 'block' : 'none';\n",
              "\n",
              "      async function convertToInteractive(key) {\n",
              "        const element = document.querySelector('#df-5036feda-be15-4f0f-aa20-298b8d6543c7');\n",
              "        const dataTable =\n",
              "          await google.colab.kernel.invokeFunction('convertToInteractive',\n",
              "                                                    [key], {});\n",
              "        if (!dataTable) return;\n",
              "\n",
              "        const docLinkHtml = 'Like what you see? Visit the ' +\n",
              "          '<a target=\"_blank\" href=https://colab.research.google.com/notebooks/data_table.ipynb>data table notebook</a>'\n",
              "          + ' to learn more about interactive tables.';\n",
              "        element.innerHTML = '';\n",
              "        dataTable['output_type'] = 'display_data';\n",
              "        await google.colab.output.renderOutput(dataTable, element);\n",
              "        const docLink = document.createElement('div');\n",
              "        docLink.innerHTML = docLinkHtml;\n",
              "        element.appendChild(docLink);\n",
              "      }\n",
              "    </script>\n",
              "  </div>\n",
              "\n",
              "\n",
              "<div id=\"df-c2f77c1a-5d65-478c-bdde-dfd3ae987b42\">\n",
              "  <button class=\"colab-df-quickchart\" onclick=\"quickchart('df-c2f77c1a-5d65-478c-bdde-dfd3ae987b42')\"\n",
              "            title=\"Suggest charts.\"\n",
              "            style=\"display:none;\">\n",
              "\n",
              "<svg xmlns=\"http://www.w3.org/2000/svg\" height=\"24px\"viewBox=\"0 0 24 24\"\n",
              "     width=\"24px\">\n",
              "    <g>\n",
              "        <path d=\"M19 3H5c-1.1 0-2 .9-2 2v14c0 1.1.9 2 2 2h14c1.1 0 2-.9 2-2V5c0-1.1-.9-2-2-2zM9 17H7v-7h2v7zm4 0h-2V7h2v10zm4 0h-2v-4h2v4z\"/>\n",
              "    </g>\n",
              "</svg>\n",
              "  </button>\n",
              "\n",
              "<style>\n",
              "  .colab-df-quickchart {\n",
              "    background-color: #E8F0FE;\n",
              "    border: none;\n",
              "    border-radius: 50%;\n",
              "    cursor: pointer;\n",
              "    display: none;\n",
              "    fill: #1967D2;\n",
              "    height: 32px;\n",
              "    padding: 0 0 0 0;\n",
              "    width: 32px;\n",
              "  }\n",
              "\n",
              "  .colab-df-quickchart:hover {\n",
              "    background-color: #E2EBFA;\n",
              "    box-shadow: 0px 1px 2px rgba(60, 64, 67, 0.3), 0px 1px 3px 1px rgba(60, 64, 67, 0.15);\n",
              "    fill: #174EA6;\n",
              "  }\n",
              "\n",
              "  [theme=dark] .colab-df-quickchart {\n",
              "    background-color: #3B4455;\n",
              "    fill: #D2E3FC;\n",
              "  }\n",
              "\n",
              "  [theme=dark] .colab-df-quickchart:hover {\n",
              "    background-color: #434B5C;\n",
              "    box-shadow: 0px 1px 3px 1px rgba(0, 0, 0, 0.15);\n",
              "    filter: drop-shadow(0px 1px 2px rgba(0, 0, 0, 0.3));\n",
              "    fill: #FFFFFF;\n",
              "  }\n",
              "</style>\n",
              "\n",
              "  <script>\n",
              "    async function quickchart(key) {\n",
              "      const charts = await google.colab.kernel.invokeFunction(\n",
              "          'suggestCharts', [key], {});\n",
              "    }\n",
              "    (() => {\n",
              "      let quickchartButtonEl =\n",
              "        document.querySelector('#df-c2f77c1a-5d65-478c-bdde-dfd3ae987b42 button');\n",
              "      quickchartButtonEl.style.display =\n",
              "        google.colab.kernel.accessAllowed ? 'block' : 'none';\n",
              "    })();\n",
              "  </script>\n",
              "</div>\n",
              "    </div>\n",
              "  </div>\n"
            ]
          },
          "metadata": {},
          "execution_count": 220
        }
      ]
    },
    {
      "cell_type": "code",
      "source": [
        "# Sort model results by MAE and plot them\n",
        "model_results[[\"mae\"]].sort_values(by=\"mae\").plot(figsize=(10, 7), kind=\"bar\");"
      ],
      "metadata": {
        "colab": {
          "base_uri": "https://localhost:8080/",
          "height": 753
        },
        "id": "zwlk0KmD_BD9",
        "outputId": "8bab8c32-021a-44fa-81f7-8ac2de0bcf6a"
      },
      "execution_count": 309,
      "outputs": [
        {
          "output_type": "display_data",
          "data": {
            "text/plain": [
              "<Figure size 1000x700 with 1 Axes>"
            ],
            "image/png": "[encoded data removed]"
          },
          "metadata": {}
        }
      ]
    }
  ]
}